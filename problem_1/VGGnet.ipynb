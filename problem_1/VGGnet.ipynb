{
  "cells": [
    {
      "cell_type": "code",
      "execution_count": 1,
      "metadata": {
        "id": "HNFev4Psb2R6"
      },
      "outputs": [],
      "source": [
        "import torch\n",
        "import matplotlib.pylab as plt\n",
        "import numpy as np\n",
        "from torchvision import datasets\n",
        "from torch.utils.data import DataLoader\n",
        "from torchvision.transforms import Compose,RandomHorizontalFlip,Normalize,ToTensor\n"
      ]
    },
    {
      "cell_type": "code",
      "execution_count": 3,
      "metadata": {
        "colab": {
          "base_uri": "https://localhost:8080/"
        },
        "id": "EPN0-zan2IbN",
        "outputId": "b9a80765-776d-4778-ef18-96551e7fccc6"
      },
      "outputs": [
        {
          "name": "stdout",
          "output_type": "stream",
          "text": [
            "Files already downloaded and verified\n",
            "Mean : [0.49139968 0.48215841 0.44653091]   STD: [0.24703223 0.24348513 0.26158784]\n"
          ]
        }
      ],
      "source": [
        "# cifar_trainset = datasets.CIFAR10(root='./', train=True, download=True  )\n",
        "# data = cifar_trainset.data / 255 # data is numpy array\n",
        "\n",
        "# mean = data.mean(axis = (0,1,2)) \n",
        "# std = data.std(axis = (0,1,2))\n",
        "# print(f\"Mean : {mean}   STD: {std}\")\n",
        "# -> Mean : [0.49139968 0.48215841 0.44653091]   STD: [0.24703223 0.24348513 0.26158784]"
      ]
    },
    {
      "cell_type": "code",
      "execution_count": 3,
      "metadata": {
        "colab": {
          "base_uri": "https://localhost:8080/"
        },
        "id": "e3A9TcU5b2R9",
        "outputId": "bfcbe361-cd26-4127-9b65-a4bbc77779b8"
      },
      "outputs": [
        {
          "name": "stdout",
          "output_type": "stream",
          "text": [
            "Downloading https://www.cs.toronto.edu/~kriz/cifar-10-python.tar.gz to ./cifar-10-python.tar.gz\n"
          ]
        },
        {
          "name": "stderr",
          "output_type": "stream",
          "text": [
            "170499072it [01:05, 2599894.91it/s]                               \n"
          ]
        },
        {
          "name": "stdout",
          "output_type": "stream",
          "text": [
            "Extracting ./cifar-10-python.tar.gz to ./\n",
            "Files already downloaded and verified\n"
          ]
        }
      ],
      "source": [
        "\n",
        "mean = np.array([0.49139968, 0.48215841, 0.44653091])\n",
        "std = np.array([0.24703223, 0.24348513, 0.26158784])\n",
        "batch_size = 4\n",
        "transforms = [ToTensor(), Normalize(std, mean)]\n",
        "\n",
        "train_dataset = datasets.CIFAR10(\n",
        "    root=\"./\",\n",
        "    train=True,\n",
        "    transform=Compose([RandomHorizontalFlip(),*transforms]),\n",
        "    download=True\n",
        "    )\n",
        "\n",
        "test_dataset = datasets.CIFAR10(\n",
        "    root=\"./\",\n",
        "    train=False,\n",
        "    transform=Compose(transforms),\n",
        "    download=True\n",
        "    )\n",
        "\n",
        "train_loader = DataLoader(dataset=train_dataset,batch_size=batch_size,shuffle=True)\n",
        "test_loader = DataLoader(dataset=test_dataset,batch_size=batch_size,shuffle=False)\n",
        "\n",
        "classes = ('plane', 'car', 'bird', 'cat',\n",
        "           'deer', 'dog', 'frog', 'horse', 'ship', 'truck')"
      ]
    },
    {
      "cell_type": "code",
      "execution_count": 4,
      "metadata": {
        "id": "y8Fe9kfob2R-"
      },
      "outputs": [],
      "source": [
        "def im_convert(tensor):  \n",
        "    image = tensor.cpu().clone().detach().numpy() # This process will happen in normal cpu.\n",
        "    image = image.transpose(1, 2, 0)\n",
        "    image = image * std + mean\n",
        "    image = image.clip(0, 1)\n",
        "    return image"
      ]
    },
    {
      "cell_type": "code",
      "execution_count": 5,
      "metadata": {
        "colab": {
          "base_uri": "https://localhost:8080/",
          "height": 173
        },
        "id": "4spIUedXb2R_",
        "outputId": "a5e53cc1-ce0a-4f37-8e63-1b78bbd7a91d"
      },
      "outputs": [
        {
          "data": {
            "image/png": "[encoded data removed]",
            "text/plain": [
              "<Figure size 1800x288 with 4 Axes>"
            ]
          },
          "metadata": {},
          "output_type": "display_data"
        }
      ],
      "source": [
        "dataiter = iter(train_loader)\n",
        "images, labels = dataiter.next() \n",
        "fig = plt.figure(figsize=(25, 4)) \n",
        "\n",
        "# We plot images from our batch\n",
        "for idx in np.arange(4):\n",
        "  ax = fig.add_subplot(2, 10, idx+1, xticks=[], yticks=[]) \n",
        "  plt.imshow(im_convert(images[idx])) #converting to numpy array as plt needs it.\n",
        "  ax.set_title(classes[labels[idx].item()])"
      ]
    },
    {
      "cell_type": "code",
      "execution_count": 6,
      "metadata": {},
      "outputs": [],
      "source": [
        "from torch.nn.functional import cross_entropy, relu\n",
        "from torch.nn import MaxPool2d, Conv2d, Linear, Module, Dropout\n",
        "from torch import flatten, no_grad, optim, save, load"
      ]
    },
    {
      "cell_type": "code",
      "execution_count": 7,
      "metadata": {
        "id": "lxnsCyjPb2SA"
      },
      "outputs": [],
      "source": [
        "class VGGNet(Module):\n",
        "    def __init__(self, dropout=0.5):\n",
        "        super(VGGNet, self).__init__()\n",
        "        self.pool = MaxPool2d(2, 2)\n",
        "        self.dropout = Dropout(dropout)\n",
        "        self.conv1 = Conv2d(3, 32, 3, padding=1)\n",
        "        self.conv2 = Conv2d(32, 32, 3, padding=1)\n",
        "\n",
        "        self.conv3 = Conv2d(32, 64, 3, padding=1)\n",
        "        self.conv4 = Conv2d(64, 64, 3, padding=1)\n",
        "\n",
        "        self.conv5 = Conv2d(64, 128, 3, padding=1)\n",
        "        self.conv6 = Conv2d(128, 128, 3, padding=1)\n",
        "        self.conv7 = Conv2d(128, 128, 3, padding=1)\n",
        "\n",
        "        self.fc1 = Linear(4*4*128, 512)\n",
        "        self.fc2 = Linear(512, 256)\n",
        "        self.fc3 = Linear(256, 10)\n",
        "\n",
        "    def forward(self, x):\n",
        "        x = self.conv1(x)\n",
        "        x = self.conv2(x)\n",
        "        x = self.pool(relu(x))\n",
        "\n",
        "        x = self.conv3(x)\n",
        "        x = self.conv4(x)\n",
        "        x = self.pool(relu(x))\n",
        "\n",
        "        x = self.conv5(x)\n",
        "        x = self.conv6(x)\n",
        "        x = self.conv7(x)\n",
        "        x = self.pool(relu(x))\n",
        "\n",
        "        x = flatten(x, 1)\n",
        "        x = self.dropout(relu(self.fc1(x)))\n",
        "        x = self.dropout(relu(self.fc2(x)))\n",
        "        x = relu(self.fc3(x))\n",
        "        return x\n"
      ]
    },
    {
      "cell_type": "code",
      "execution_count": 8,
      "metadata": {
        "id": "rfuO8l29oV9P"
      },
      "outputs": [],
      "source": [
        "MODEL_NAME = \"myVGG.model\"\n",
        "LR = 1e-3\n",
        "momentum = 0.9\n",
        "EPOCH = 30\n",
        "DEVICE = torch.device('cuda' if torch.cuda.is_available() else 'cpu')"
      ]
    },
    {
      "cell_type": "code",
      "execution_count": 9,
      "metadata": {
        "id": "faOLkQ1tb2SB"
      },
      "outputs": [],
      "source": [
        "\n",
        "def train(train_loader, epochs=30, lr=1e-3, momentum=0.9, device='cpu', model_name='myVGG', pre_train=False):\n",
        "    model = VGGNet().to(device)\n",
        "    if pre_train:\n",
        "        try:\n",
        "            model.load_state_dict(load(model_name))\n",
        "            model.eval()\n",
        "        except RuntimeError:\n",
        "            print(\"model not found!\")\n",
        "            return\n",
        "        \n",
        "    optimizer = optim.SGD(model.parameters(), lr=lr, momentum=momentum)\n",
        "    for epoch in range(epochs):\n",
        "        loss = 0\n",
        "        if epoch == 6:  # 6 epoch loss increase so reduce lr\n",
        "            optimizer = optim.SGD(model.parameters(),\n",
        "                                  lr=lr/10, momentum=momentum)\n",
        "\n",
        "        for images, labels in train_loader:\n",
        "            images = images.to(device)\n",
        "            labels = labels.to(device)\n",
        "            optimizer.zero_grad()\n",
        "\n",
        "            outputs = model(images)\n",
        "            batchloss = cross_entropy(outputs, labels)\n",
        "            batchloss.backward()\n",
        "\n",
        "            optimizer.step()\n",
        "            loss += batchloss.item()\n",
        "        print(f\"epoch: {epoch} loss: {loss / 2000:.3f}\")\n",
        "    save(model.state_dict(), model_name)"
      ]
    },
    {
      "cell_type": "code",
      "execution_count": 11,
      "metadata": {
        "colab": {
          "base_uri": "https://localhost:8080/"
        },
        "id": "N1zAU43DqHbP",
        "outputId": "e0246269-16e8-436c-ea66-9c6013bc4cb6"
      },
      "outputs": [],
      "source": [
        "\n",
        "def test(test_loader,device='cpu', model_name='myVGG'):\n",
        "    total = len(test_loader.dataset)\n",
        "    correct = 0\n",
        "    model = VGGNet().to(device)\n",
        "    try:\n",
        "        model.load_state_dict(load(model_name))\n",
        "        model.eval()\n",
        "    except RuntimeError:\n",
        "        print(\"model not found!\")\n",
        "        return\n",
        "\n",
        "    with no_grad():\n",
        "        for images, labels in test_loader:\n",
        "            images = images.to(device)\n",
        "            labels = labels.to(device)\n",
        "            y = model(images)\n",
        "            pred_labels = y.max(dim = 1)[1]\n",
        "            correct += (pred_labels == labels).sum().item()\n",
        "    print(\"correct: \", correct)\n",
        "    print(\"total: \", total)\n",
        "    print(f\"accuaracy: {correct/float(total)*100}%\",)"
      ]
    },
    {
      "cell_type": "code",
      "execution_count": 12,
      "metadata": {},
      "outputs": [],
      "source": [
        "\n",
        "def test_every_classed(test_loader, classes, device='cpu', model_name='myVGG'):\n",
        "    correct_pred = {classname: 0 for classname in classes}\n",
        "    total_pred = {classname: 0 for classname in classes}\n",
        "    model = VGGNet().to(device)\n",
        "    model.load_state_dict(load(model_name))\n",
        "    model.eval()\n",
        "    with no_grad():\n",
        "        for images, labels in test_loader:\n",
        "            images = images.to(device)\n",
        "            labels = labels.to(device)\n",
        "            y = model(images)\n",
        "            pred_labels = y.max(dim = 1)[1]\n",
        "            for label, prediction in zip(labels, pred_labels):\n",
        "                if label == prediction:\n",
        "                    correct_pred[classes[label]] += 1\n",
        "                total_pred[classes[label]] += 1\n",
        "    for classname, correct_count in correct_pred.items():\n",
        "        accuracy = 100 * float(correct_count) / total_pred[classname]\n",
        "        print(f'Accuracy for class: {classname:5s} is {accuracy:.1f} %')"
      ]
    },
    {
      "cell_type": "code",
      "execution_count": null,
      "metadata": {},
      "outputs": [],
      "source": [
        "train(train_loader,device=DEVICE)\n"
      ]
    },
    {
      "cell_type": "code",
      "execution_count": null,
      "metadata": {},
      "outputs": [],
      "source": [
        "test(test_loader,device=DEVICE)\n"
      ]
    },
    {
      "cell_type": "code",
      "execution_count": 15,
      "metadata": {
        "colab": {
          "base_uri": "https://localhost:8080/"
        },
        "id": "-PPwlrJab2SD",
        "outputId": "75380c9c-46e6-4b55-d0bb-1699fee4c9d6"
      },
      "outputs": [
        {
          "name": "stdout",
          "output_type": "stream",
          "text": [
            "correct:  8196\n",
            "total:  10000\n",
            "accuaracy: 81.96%\n"
          ]
        }
      ],
      "source": [
        "test_every_classed(test_loader,classes,device=DEVICE)"
      ]
    }
  ],
  "metadata": {
    "accelerator": "GPU",
    "colab": {
      "collapsed_sections": [],
      "name": "bt2.ipynb",
      "provenance": []
    },
    "gpuClass": "standard",
    "interpreter": {
      "hash": "5ae58900cfbb8c43ab3495913814b7cf26024f51651a94ce8bf64d6111688e8d"
    },
    "kernelspec": {
      "display_name": "Python 3.9.12 ('base')",
      "language": "python",
      "name": "python3"
    },
    "language_info": {
      "codemirror_mode": {
        "name": "ipython",
        "version": 3
      },
      "file_extension": ".py",
      "mimetype": "text/x-python",
      "name": "python",
      "nbconvert_exporter": "python",
      "pygments_lexer": "ipython3",
      "version": "3.9.12"
    },
    "orig_nbformat": 4
  },
  "nbformat": 4,
  "nbformat_minor": 0
}
