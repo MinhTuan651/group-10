{
  "cells": [
    {
      "cell_type": "code",
      "execution_count": 1,
      "metadata": {
        "id": "HNFev4Psb2R6"
      },
      "outputs": [],
      "source": [
        "import torch\n",
        "import matplotlib.pylab as plt\n",
        "import numpy as np\n",
        "from torchvision import datasets\n",
        "from torch.utils.data import DataLoader\n",
        "from torchvision.transforms import Compose,RandomHorizontalFlip,Normalize,ToTensor\n"
      ]
    },
    {
      "cell_type": "code",
      "execution_count": null,
      "metadata": {
        "colab": {
          "base_uri": "https://localhost:8080/"
        },
        "id": "EPN0-zan2IbN",
        "outputId": "b9a80765-776d-4778-ef18-96551e7fccc6"
      },
      "outputs": [
        {
          "name": "stdout",
          "output_type": "stream",
          "text": [
            "Files already downloaded and verified\n",
            "Mean : [0.49139968 0.48215841 0.44653091]   STD: [0.24703223 0.24348513 0.26158784]\n"
          ]
        }
      ],
      "source": [
        "# cifar_trainset = datasets.CIFAR10(root='./', train=True, download=True  )\n",
        "# data = cifar_trainset.data / 255 # data is numpy array\n",
        "\n",
        "# mean = data.mean(axis = (0,1,2)) \n",
        "# std = data.std(axis = (0,1,2))\n",
        "# print(f\"Mean : {mean}   STD: {std}\")\n",
        "# -> Mean : [0.49139968 0.48215841 0.44653091]   STD: [0.24703223 0.24348513 0.26158784]"
      ]
    },
    {
      "cell_type": "code",
      "execution_count": 2,
      "metadata": {
        "colab": {
          "base_uri": "https://localhost:8080/",
          "height": 101,
          "referenced_widgets": [
            "7b2f632b3a7c4b7391ad7355372dc1b4",
            "36ff986c631b4f0f9a822d10170ac1dd",
            "b6caab0b68fe452a8a8d48fbae92229e",
            "1f77a29885d34a6ea5bb854e40b15a2a",
            "313392234af54d909f31fe4c27959327",
            "20b446fbc1094d9ca8476b882d003ae0",
            "a9c98e9693de41ea81686287df1782be",
            "48677bc99ec7451eac2346d1003c0f24",
            "e6970ccd0efd4bb89a2ef8bff73a70fb",
            "662462d99ef84ef9ad777301d7628d8e",
            "0968199296204570a20ebe5f2f1b20b6"
          ]
        },
        "id": "e3A9TcU5b2R9",
        "outputId": "8c87a5ba-b6bc-43b5-adce-68a4e8a4548a"
      },
      "outputs": [
        {
          "output_type": "stream",
          "name": "stdout",
          "text": [
            "Downloading https://www.cs.toronto.edu/~kriz/cifar-10-python.tar.gz to ./cifar-10-python.tar.gz\n"
          ]
        },
        {
          "output_type": "display_data",
          "data": {
            "text/plain": [
              "  0%|          | 0/170498071 [00:00<?, ?it/s]"
            ],
            "application/vnd.jupyter.widget-view+json": {
              "version_major": 2,
              "version_minor": 0,
              "model_id": "7b2f632b3a7c4b7391ad7355372dc1b4"
            }
          },
          "metadata": {}
        },
        {
          "output_type": "stream",
          "name": "stdout",
          "text": [
            "Extracting ./cifar-10-python.tar.gz to ./\n",
            "Files already downloaded and verified\n"
          ]
        }
      ],
      "source": [
        "\n",
        "mean = np.array([0.49139968, 0.48215841, 0.44653091])\n",
        "std = np.array([0.24703223, 0.24348513, 0.26158784])\n",
        "batch_size = 4\n",
        "transforms = [ToTensor(), Normalize(std, mean)]\n",
        "\n",
        "train_dataset = datasets.CIFAR10(\n",
        "    root=\"./\",\n",
        "    train=True,\n",
        "    transform=Compose([RandomHorizontalFlip(),*transforms]),\n",
        "    download=True\n",
        "    )\n",
        "\n",
        "test_dataset = datasets.CIFAR10(\n",
        "    root=\"./\",\n",
        "    train=False,\n",
        "    transform=Compose(transforms),\n",
        "    download=True\n",
        "    )\n",
        "\n",
        "train_loader = DataLoader(dataset=train_dataset,batch_size=batch_size,shuffle=True)\n",
        "test_loader = DataLoader(dataset=test_dataset,batch_size=batch_size,shuffle=False)\n",
        "\n",
        "classes = ('plane', 'car', 'bird', 'cat',\n",
        "           'deer', 'dog', 'frog', 'horse', 'ship', 'truck')"
      ]
    },
    {
      "cell_type": "code",
      "execution_count": 3,
      "metadata": {
        "id": "y8Fe9kfob2R-"
      },
      "outputs": [],
      "source": [
        "def im_convert(tensor):  \n",
        "    image = tensor.cpu().clone().detach().numpy() # This process will happen in normal cpu.\n",
        "    image = image.transpose(1, 2, 0)\n",
        "    image = image * std + mean\n",
        "    image = image.clip(0, 1)\n",
        "    return image"
      ]
    },
    {
      "cell_type": "code",
      "execution_count": 4,
      "metadata": {
        "colab": {
          "base_uri": "https://localhost:8080/",
          "height": 149
        },
        "id": "4spIUedXb2R_",
        "outputId": "585d3e91-4731-477f-9938-7a2aa8c23e2b"
      },
      "outputs": [
        {
          "output_type": "display_data",
          "data": {
            "text/plain": [
              "<Figure size 1800x288 with 4 Axes>"
            ],
            "image/png": "[encoded data removed]"
          },
          "metadata": {}
        }
      ],
      "source": [
        "dataiter = iter(train_loader)\n",
        "images, labels = dataiter.next() \n",
        "fig = plt.figure(figsize=(25, 4)) \n",
        "\n",
        "# We plot images from our batch\n",
        "for idx in np.arange(4):\n",
        "  ax = fig.add_subplot(2, 10, idx+1, xticks=[], yticks=[]) \n",
        "  plt.imshow(im_convert(images[idx])) #converting to numpy array as plt needs it.\n",
        "  ax.set_title(classes[labels[idx].item()])"
      ]
    },
    {
      "cell_type": "code",
      "execution_count": 5,
      "metadata": {
        "id": "fAlKgFflgt38"
      },
      "outputs": [],
      "source": [
        "from torch.nn.functional import cross_entropy, relu\n",
        "from torch.nn import MaxPool2d, Conv2d, Linear, Module, Dropout\n",
        "from torch import flatten, no_grad, optim, save, load"
      ]
    },
    {
      "cell_type": "code",
      "execution_count": 6,
      "metadata": {
        "id": "lxnsCyjPb2SA"
      },
      "outputs": [],
      "source": [
        "class VGGNet(Module):\n",
        "    def __init__(self, dropout=0.5):\n",
        "        super(VGGNet, self).__init__()\n",
        "        self.pool = MaxPool2d(2, 2)\n",
        "        self.dropout = Dropout(dropout)\n",
        "        self.conv1 = Conv2d(3, 32, 3, padding=1)\n",
        "        self.conv2 = Conv2d(32, 32, 3, padding=1)\n",
        "\n",
        "        self.conv3 = Conv2d(32, 64, 3, padding=1)\n",
        "        self.conv4 = Conv2d(64, 64, 3, padding=1)\n",
        "\n",
        "        self.conv5 = Conv2d(64, 128, 3, padding=1)\n",
        "        self.conv6 = Conv2d(128, 128, 3, padding=1)\n",
        "        self.conv7 = Conv2d(128, 128, 3, padding=1)\n",
        "\n",
        "        self.fc1 = Linear(4*4*128, 512)\n",
        "        self.fc2 = Linear(512, 256)\n",
        "        self.fc3 = Linear(256, 10)\n",
        "\n",
        "    def forward(self, x):\n",
        "        x = self.conv1(x)\n",
        "        x = self.conv2(x)\n",
        "        x = self.pool(relu(x))\n",
        "\n",
        "        x = self.conv3(x)\n",
        "        x = self.conv4(x)\n",
        "        x = self.pool(relu(x))\n",
        "\n",
        "        x = self.conv5(x)\n",
        "        x = self.conv6(x)\n",
        "        x = self.conv7(x)\n",
        "        x = self.pool(relu(x))\n",
        "\n",
        "        x = flatten(x, 1)\n",
        "        x = self.dropout(relu(self.fc1(x)))\n",
        "        x = self.dropout(relu(self.fc2(x)))\n",
        "        x = relu(self.fc3(x))\n",
        "        return x\n"
      ]
    },
    {
      "cell_type": "code",
      "execution_count": 9,
      "metadata": {
        "id": "rfuO8l29oV9P"
      },
      "outputs": [],
      "source": [
        "MODEL_NAME = \"myVGG.model\"\n",
        "LR = 1e-3\n",
        "momentum = 0.9\n",
        "EPOCH = 40\n",
        "DEVICE = torch.device('cuda' if torch.cuda.is_available() else 'cpu')"
      ]
    },
    {
      "cell_type": "code",
      "execution_count": 10,
      "metadata": {
        "id": "faOLkQ1tb2SB"
      },
      "outputs": [],
      "source": [
        "def train(train_loader, epochs=30, lr=1e-3, momentum=0.9, device='cpu', model_name='myVGG.model', pre_train=False):\n",
        "    model = VGGNet().to(device)\n",
        "    if pre_train:\n",
        "        try:\n",
        "            model.load_state_dict(load(model_name))\n",
        "            model.eval()\n",
        "        except RuntimeError:\n",
        "            print(\"model not found!\")\n",
        "            return\n",
        "        \n",
        "    optimizer = optim.SGD(model.parameters(), lr=lr, momentum=momentum)\n",
        "    for epoch in range(epochs):\n",
        "        loss = 0\n",
        "        if epoch == 6:  # 6 epoch loss increase so reduce lr\n",
        "            optimizer = optim.SGD(model.parameters(),\n",
        "                                  lr=lr/10, momentum=momentum)\n",
        "\n",
        "        for images, labels in train_loader:\n",
        "            images = images.to(device)\n",
        "            labels = labels.to(device)\n",
        "            optimizer.zero_grad()\n",
        "\n",
        "            outputs = model(images)\n",
        "            batchloss = cross_entropy(outputs, labels)\n",
        "            batchloss.backward()\n",
        "\n",
        "            optimizer.step()\n",
        "            loss += batchloss.item()\n",
        "        print(f\"epoch: {epoch} loss: {loss / 2000:.3f}\")\n",
        "    save(model.state_dict(), model_name)"
      ]
    },
    {
      "cell_type": "code",
      "execution_count": 11,
      "metadata": {
        "id": "N1zAU43DqHbP"
      },
      "outputs": [],
      "source": [
        "\n",
        "def test(test_loader,device='cpu', model_name='myVGG.model'):\n",
        "    total = len(test_loader.dataset)\n",
        "    correct = 0\n",
        "    model = VGGNet().to(device)\n",
        "    try:\n",
        "        model.load_state_dict(load(model_name))\n",
        "        model.eval()\n",
        "    except RuntimeError:\n",
        "        print(\"model not found!\")\n",
        "        return\n",
        "\n",
        "    with no_grad():\n",
        "        for images, labels in test_loader:\n",
        "            images = images.to(device)\n",
        "            labels = labels.to(device)\n",
        "            y = model(images)\n",
        "            pred_labels = y.max(dim = 1)[1]\n",
        "            correct += (pred_labels == labels).sum().item()\n",
        "    print(\"correct: \", correct)\n",
        "    print(\"total: \", total)\n",
        "    print(f\"accuaracy: {correct/float(total)*100}%\",)"
      ]
    },
    {
      "cell_type": "code",
      "execution_count": 12,
      "metadata": {
        "id": "2h0YDCi5gt3_"
      },
      "outputs": [],
      "source": [
        "\n",
        "def test_every_classed(test_loader, classes, device='cpu', model_name='myVGG.model'):\n",
        "    correct_pred = {classname: 0 for classname in classes}\n",
        "    total_pred = {classname: 0 for classname in classes}\n",
        "    model = VGGNet().to(device)\n",
        "    model.load_state_dict(load(model_name))\n",
        "    model.eval()\n",
        "    with no_grad():\n",
        "        for images, labels in test_loader:\n",
        "            images = images.to(device)\n",
        "            labels = labels.to(device)\n",
        "            y = model(images)\n",
        "            pred_labels = y.max(dim = 1)[1]\n",
        "            for label, prediction in zip(labels, pred_labels):\n",
        "                if label == prediction:\n",
        "                    correct_pred[classes[label]] += 1\n",
        "                total_pred[classes[label]] += 1\n",
        "    for classname, correct_count in correct_pred.items():\n",
        "        accuracy = 100 * float(correct_count) / total_pred[classname]\n",
        "        print(f'Accuracy for class: {classname:5s} is {accuracy:.1f} %')"
      ]
    },
    {
      "cell_type": "code",
      "execution_count": 13,
      "metadata": {
        "colab": {
          "base_uri": "https://localhost:8080/"
        },
        "id": "bTKPYmBQgt3_",
        "outputId": "6e7c6f1d-e1f6-4d9a-c273-11aa65c94556"
      },
      "outputs": [
        {
          "output_type": "stream",
          "name": "stdout",
          "text": [
            "epoch: 0 loss: 14.146\n",
            "epoch: 1 loss: 10.414\n",
            "epoch: 2 loss: 7.546\n",
            "epoch: 3 loss: 6.510\n",
            "epoch: 4 loss: 6.115\n",
            "epoch: 5 loss: 5.904\n",
            "epoch: 6 loss: 4.210\n",
            "epoch: 7 loss: 3.688\n",
            "epoch: 8 loss: 3.466\n",
            "epoch: 9 loss: 3.293\n",
            "epoch: 10 loss: 3.163\n",
            "epoch: 11 loss: 3.036\n",
            "epoch: 12 loss: 2.923\n",
            "epoch: 13 loss: 2.846\n",
            "epoch: 14 loss: 2.717\n",
            "epoch: 15 loss: 2.652\n",
            "epoch: 16 loss: 2.544\n",
            "epoch: 17 loss: 2.462\n",
            "epoch: 18 loss: 2.389\n",
            "epoch: 19 loss: 2.331\n",
            "epoch: 20 loss: 2.248\n",
            "epoch: 21 loss: 2.175\n",
            "epoch: 22 loss: 2.126\n",
            "epoch: 23 loss: 2.038\n",
            "epoch: 24 loss: 1.957\n",
            "epoch: 25 loss: 1.891\n",
            "epoch: 26 loss: 1.841\n",
            "epoch: 27 loss: 1.782\n",
            "epoch: 28 loss: 1.746\n",
            "epoch: 29 loss: 1.665\n"
          ]
        }
      ],
      "source": [
        "train(train_loader,model_name= MODEL_NAME,device=DEVICE)\n"
      ]
    },
    {
      "cell_type": "code",
      "execution_count": 14,
      "metadata": {
        "colab": {
          "base_uri": "https://localhost:8080/"
        },
        "id": "xcG5914igt4A",
        "outputId": "c6236827-2083-4472-ec44-d094f64799d2"
      },
      "outputs": [
        {
          "output_type": "stream",
          "name": "stdout",
          "text": [
            "correct:  8388\n",
            "total:  10000\n",
            "accuaracy: 83.88%\n"
          ]
        }
      ],
      "source": [
        "test(test_loader,model_name= MODEL_NAME,device=DEVICE)\n"
      ]
    },
    {
      "cell_type": "code",
      "execution_count": 15,
      "metadata": {
        "colab": {
          "base_uri": "https://localhost:8080/"
        },
        "id": "-PPwlrJab2SD",
        "outputId": "e06dec9e-1678-4d92-f796-7e9133264951"
      },
      "outputs": [
        {
          "output_type": "stream",
          "name": "stdout",
          "text": [
            "Accuracy for class: plane is 85.8 %\n",
            "Accuracy for class: car   is 92.4 %\n",
            "Accuracy for class: bird  is 71.0 %\n",
            "Accuracy for class: cat   is 66.2 %\n",
            "Accuracy for class: deer  is 86.8 %\n",
            "Accuracy for class: dog   is 78.4 %\n",
            "Accuracy for class: frog  is 90.3 %\n",
            "Accuracy for class: horse is 87.6 %\n",
            "Accuracy for class: ship  is 88.4 %\n",
            "Accuracy for class: truck is 91.9 %\n"
          ]
        }
      ],
      "source": [
        "test_every_classed(test_loader,classes,device=DEVICE,model_name= MODEL_NAME)"
      ]
    }
  ],
  "metadata": {
    "accelerator": "GPU",
    "colab": {
      "collapsed_sections": [],
      "name": "VGGnet.ipynb",
      "provenance": []
    },
    "gpuClass": "standard",
    "interpreter": {
      "hash": "5ae58900cfbb8c43ab3495913814b7cf26024f51651a94ce8bf64d6111688e8d"
    },
    "kernelspec": {
      "display_name": "Python 3.9.12 ('base')",
      "language": "python",
      "name": "python3"
    },
    "language_info": {
      "codemirror_mode": {
        "name": "ipython",
        "version": 3
      },
      "file_extension": ".py",
      "mimetype": "text/x-python",
      "name": "python",
      "nbconvert_exporter": "python",
      "pygments_lexer": "ipython3",
      "version": "3.9.12"
    },
    "orig_nbformat": 4,
    "widgets": {
      "application/vnd.jupyter.widget-state+json": {
        "7b2f632b3a7c4b7391ad7355372dc1b4": {
          "model_module": "@jupyter-widgets/controls",
          "model_name": "HBoxModel",
          "model_module_version": "1.5.0",
          "state": {
            "_dom_classes": [],
            "_model_module": "@jupyter-widgets/controls",
            "_model_module_version": "1.5.0",
            "_model_name": "HBoxModel",
            "_view_count": null,
            "_view_module": "@jupyter-widgets/controls",
            "_view_module_version": "1.5.0",
            "_view_name": "HBoxView",
            "box_style": "",
            "children": [
              "IPY_MODEL_36ff986c631b4f0f9a822d10170ac1dd",
              "IPY_MODEL_b6caab0b68fe452a8a8d48fbae92229e",
              "IPY_MODEL_1f77a29885d34a6ea5bb854e40b15a2a"
            ],
            "layout": "IPY_MODEL_313392234af54d909f31fe4c27959327"
          }
        },
        "36ff986c631b4f0f9a822d10170ac1dd": {
          "model_module": "@jupyter-widgets/controls",
          "model_name": "HTMLModel",
          "model_module_version": "1.5.0",
          "state": {
            "_dom_classes": [],
            "_model_module": "@jupyter-widgets/controls",
            "_model_module_version": "1.5.0",
            "_model_name": "HTMLModel",
            "_view_count": null,
            "_view_module": "@jupyter-widgets/controls",
            "_view_module_version": "1.5.0",
            "_view_name": "HTMLView",
            "description": "",
            "description_tooltip": null,
            "layout": "IPY_MODEL_20b446fbc1094d9ca8476b882d003ae0",
            "placeholder": "​",
            "style": "IPY_MODEL_a9c98e9693de41ea81686287df1782be",
            "value": ""
          }
        },
        "b6caab0b68fe452a8a8d48fbae92229e": {
          "model_module": "@jupyter-widgets/controls",
          "model_name": "FloatProgressModel",
          "model_module_version": "1.5.0",
          "state": {
            "_dom_classes": [],
            "_model_module": "@jupyter-widgets/controls",
            "_model_module_version": "1.5.0",
            "_model_name": "FloatProgressModel",
            "_view_count": null,
            "_view_module": "@jupyter-widgets/controls",
            "_view_module_version": "1.5.0",
            "_view_name": "ProgressView",
            "bar_style": "success",
            "description": "",
            "description_tooltip": null,
            "layout": "IPY_MODEL_48677bc99ec7451eac2346d1003c0f24",
            "max": 170498071,
            "min": 0,
            "orientation": "horizontal",
            "style": "IPY_MODEL_e6970ccd0efd4bb89a2ef8bff73a70fb",
            "value": 170498071
          }
        },
        "1f77a29885d34a6ea5bb854e40b15a2a": {
          "model_module": "@jupyter-widgets/controls",
          "model_name": "HTMLModel",
          "model_module_version": "1.5.0",
          "state": {
            "_dom_classes": [],
            "_model_module": "@jupyter-widgets/controls",
            "_model_module_version": "1.5.0",
            "_model_name": "HTMLModel",
            "_view_count": null,
            "_view_module": "@jupyter-widgets/controls",
            "_view_module_version": "1.5.0",
            "_view_name": "HTMLView",
            "description": "",
            "description_tooltip": null,
            "layout": "IPY_MODEL_662462d99ef84ef9ad777301d7628d8e",
            "placeholder": "​",
            "style": "IPY_MODEL_0968199296204570a20ebe5f2f1b20b6",
            "value": " 170499072/? [00:13&lt;00:00, 14953481.52it/s]"
          }
        },
        "313392234af54d909f31fe4c27959327": {
          "model_module": "@jupyter-widgets/base",
          "model_name": "LayoutModel",
          "model_module_version": "1.2.0",
          "state": {
            "_model_module": "@jupyter-widgets/base",
            "_model_module_version": "1.2.0",
            "_model_name": "LayoutModel",
            "_view_count": null,
            "_view_module": "@jupyter-widgets/base",
            "_view_module_version": "1.2.0",
            "_view_name": "LayoutView",
            "align_content": null,
            "align_items": null,
            "align_self": null,
            "border": null,
            "bottom": null,
            "display": null,
            "flex": null,
            "flex_flow": null,
            "grid_area": null,
            "grid_auto_columns": null,
            "grid_auto_flow": null,
            "grid_auto_rows": null,
            "grid_column": null,
            "grid_gap": null,
            "grid_row": null,
            "grid_template_areas": null,
            "grid_template_columns": null,
            "grid_template_rows": null,
            "height": null,
            "justify_content": null,
            "justify_items": null,
            "left": null,
            "margin": null,
            "max_height": null,
            "max_width": null,
            "min_height": null,
            "min_width": null,
            "object_fit": null,
            "object_position": null,
            "order": null,
            "overflow": null,
            "overflow_x": null,
            "overflow_y": null,
            "padding": null,
            "right": null,
            "top": null,
            "visibility": null,
            "width": null
          }
        },
        "20b446fbc1094d9ca8476b882d003ae0": {
          "model_module": "@jupyter-widgets/base",
          "model_name": "LayoutModel",
          "model_module_version": "1.2.0",
          "state": {
            "_model_module": "@jupyter-widgets/base",
            "_model_module_version": "1.2.0",
            "_model_name": "LayoutModel",
            "_view_count": null,
            "_view_module": "@jupyter-widgets/base",
            "_view_module_version": "1.2.0",
            "_view_name": "LayoutView",
            "align_content": null,
            "align_items": null,
            "align_self": null,
            "border": null,
            "bottom": null,
            "display": null,
            "flex": null,
            "flex_flow": null,
            "grid_area": null,
            "grid_auto_columns": null,
            "grid_auto_flow": null,
            "grid_auto_rows": null,
            "grid_column": null,
            "grid_gap": null,
            "grid_row": null,
            "grid_template_areas": null,
            "grid_template_columns": null,
            "grid_template_rows": null,
            "height": null,
            "justify_content": null,
            "justify_items": null,
            "left": null,
            "margin": null,
            "max_height": null,
            "max_width": null,
            "min_height": null,
            "min_width": null,
            "object_fit": null,
            "object_position": null,
            "order": null,
            "overflow": null,
            "overflow_x": null,
            "overflow_y": null,
            "padding": null,
            "right": null,
            "top": null,
            "visibility": null,
            "width": null
          }
        },
        "a9c98e9693de41ea81686287df1782be": {
          "model_module": "@jupyter-widgets/controls",
          "model_name": "DescriptionStyleModel",
          "model_module_version": "1.5.0",
          "state": {
            "_model_module": "@jupyter-widgets/controls",
            "_model_module_version": "1.5.0",
            "_model_name": "DescriptionStyleModel",
            "_view_count": null,
            "_view_module": "@jupyter-widgets/base",
            "_view_module_version": "1.2.0",
            "_view_name": "StyleView",
            "description_width": ""
          }
        },
        "48677bc99ec7451eac2346d1003c0f24": {
          "model_module": "@jupyter-widgets/base",
          "model_name": "LayoutModel",
          "model_module_version": "1.2.0",
          "state": {
            "_model_module": "@jupyter-widgets/base",
            "_model_module_version": "1.2.0",
            "_model_name": "LayoutModel",
            "_view_count": null,
            "_view_module": "@jupyter-widgets/base",
            "_view_module_version": "1.2.0",
            "_view_name": "LayoutView",
            "align_content": null,
            "align_items": null,
            "align_self": null,
            "border": null,
            "bottom": null,
            "display": null,
            "flex": null,
            "flex_flow": null,
            "grid_area": null,
            "grid_auto_columns": null,
            "grid_auto_flow": null,
            "grid_auto_rows": null,
            "grid_column": null,
            "grid_gap": null,
            "grid_row": null,
            "grid_template_areas": null,
            "grid_template_columns": null,
            "grid_template_rows": null,
            "height": null,
            "justify_content": null,
            "justify_items": null,
            "left": null,
            "margin": null,
            "max_height": null,
            "max_width": null,
            "min_height": null,
            "min_width": null,
            "object_fit": null,
            "object_position": null,
            "order": null,
            "overflow": null,
            "overflow_x": null,
            "overflow_y": null,
            "padding": null,
            "right": null,
            "top": null,
            "visibility": null,
            "width": null
          }
        },
        "e6970ccd0efd4bb89a2ef8bff73a70fb": {
          "model_module": "@jupyter-widgets/controls",
          "model_name": "ProgressStyleModel",
          "model_module_version": "1.5.0",
          "state": {
            "_model_module": "@jupyter-widgets/controls",
            "_model_module_version": "1.5.0",
            "_model_name": "ProgressStyleModel",
            "_view_count": null,
            "_view_module": "@jupyter-widgets/base",
            "_view_module_version": "1.2.0",
            "_view_name": "StyleView",
            "bar_color": null,
            "description_width": ""
          }
        },
        "662462d99ef84ef9ad777301d7628d8e": {
          "model_module": "@jupyter-widgets/base",
          "model_name": "LayoutModel",
          "model_module_version": "1.2.0",
          "state": {
            "_model_module": "@jupyter-widgets/base",
            "_model_module_version": "1.2.0",
            "_model_name": "LayoutModel",
            "_view_count": null,
            "_view_module": "@jupyter-widgets/base",
            "_view_module_version": "1.2.0",
            "_view_name": "LayoutView",
            "align_content": null,
            "align_items": null,
            "align_self": null,
            "border": null,
            "bottom": null,
            "display": null,
            "flex": null,
            "flex_flow": null,
            "grid_area": null,
            "grid_auto_columns": null,
            "grid_auto_flow": null,
            "grid_auto_rows": null,
            "grid_column": null,
            "grid_gap": null,
            "grid_row": null,
            "grid_template_areas": null,
            "grid_template_columns": null,
            "grid_template_rows": null,
            "height": null,
            "justify_content": null,
            "justify_items": null,
            "left": null,
            "margin": null,
            "max_height": null,
            "max_width": null,
            "min_height": null,
            "min_width": null,
            "object_fit": null,
            "object_position": null,
            "order": null,
            "overflow": null,
            "overflow_x": null,
            "overflow_y": null,
            "padding": null,
            "right": null,
            "top": null,
            "visibility": null,
            "width": null
          }
        },
        "0968199296204570a20ebe5f2f1b20b6": {
          "model_module": "@jupyter-widgets/controls",
          "model_name": "DescriptionStyleModel",
          "model_module_version": "1.5.0",
          "state": {
            "_model_module": "@jupyter-widgets/controls",
            "_model_module_version": "1.5.0",
            "_model_name": "DescriptionStyleModel",
            "_view_count": null,
            "_view_module": "@jupyter-widgets/base",
            "_view_module_version": "1.2.0",
            "_view_name": "StyleView",
            "description_width": ""
          }
        }
      }
    }
  },
  "nbformat": 4,
  "nbformat_minor": 0
}