{
 "cells": [
  {
   "cell_type": "markdown",
   "metadata": {},
   "source": [
    "# **1. Load Data**"
   ]
  },
  {
   "cell_type": "code",
   "execution_count": 1,
   "metadata": {},
   "outputs": [],
   "source": [
    "import torch\n",
    "MODELNAME = \"iwslt15-en-vi-rnn.model\"\n",
    "EPOCH = 10\n",
    "BATCHSIZE = 128\n",
    "LR = 0.0001\n",
    "DEVICE = \"cuda\" if torch.cuda.is_available() else \"cpu\""
   ]
  },
  {
   "cell_type": "code",
   "execution_count": 2,
   "metadata": {},
   "outputs": [],
   "source": [
    "import re\n",
    "import html\n",
    "import contractions\n",
    "import requests\n",
    "from torchtext.data.utils import get_tokenizer\n",
    "from pyvi.ViTokenizer import tokenize\n",
    "\n",
    "class DataLoader:\n",
    "    def __init__(self, url_en, url_vi):\n",
    "        # function to preprocessing\n",
    "        self.__tokenizer_en = get_tokenizer('spacy', language='en_core_web_sm')\n",
    "        self.__tokenizer_vi = lambda text: list(\n",
    "            map(lambda word: re.sub('_', ' ', word), tokenize(text).split()))\n",
    "\n",
    "        self.__check_dict = { # bổ xung\n",
    "            ' \\'s': '\\'s',\n",
    "            '& lt ;': '<',\n",
    "            '& gt ;': '>',\n",
    "            \"<[^<]+>\":'',\n",
    "            ' +': ' ',\n",
    "        }\n",
    "\n",
    "        #last run\n",
    "        self.__en_data = self.__load_data(url_en, 'en')\n",
    "        self.__vi_data = self.__load_data(url_vi, 'vi')\n",
    "\n",
    "    def __text_preprocessing(self, text: str, language: str = 'en'):\n",
    "        text = html.unescape(text)\n",
    "        for pattern, repl in self.__check_dict.items():\n",
    "            text = re.sub(pattern, repl, text)\n",
    "\n",
    "        if language == 'en':\n",
    "            text = contractions.fix(text)\n",
    "            return self.__tokenizer_en(text)\n",
    "\n",
    "        return self.__tokenizer_vi(text)\n",
    "\n",
    "    def __load_data(self, url, language: str):\n",
    "        return [self.__text_preprocessing(line, language) for line in requests.get(url).text.splitlines()]\n",
    "\n",
    "    @property\n",
    "    def vi(self):\n",
    "        return self.__vi_data\n",
    "\n",
    "    @property\n",
    "    def en(self):\n",
    "        return self.__en_data\n"
   ]
  },
  {
   "cell_type": "code",
   "execution_count": 3,
   "metadata": {},
   "outputs": [],
   "source": [
    "url = \"https://nlp.stanford.edu/projects/nmt/data/iwslt15.en-vi/\"\n",
    "\n",
    "train = DataLoader(url +'train.en',url +'train.vi')\n",
    "test = DataLoader(url + 'tst2013.en',url + 'tst2013.vi')\n"
   ]
  },
  {
   "cell_type": "code",
   "execution_count": 4,
   "metadata": {},
   "outputs": [
    {
     "name": "stdout",
     "output_type": "stream",
     "text": [
      "10 ['Over', '15,000', 'scientists', 'go', 'to', 'San', 'Francisco', 'every', 'year', 'for', 'that', '.']\n",
      "10 ['Mỗi', 'năm', ',', 'hơn', '15,000', 'nhà', 'khoa học', 'đến', 'San Francisco', 'để', 'tham dự', 'hội nghị', 'này', '.']\n",
      "11 ['And', 'every', 'one', 'of', 'those', 'scientists', 'is', 'in', 'a', 'research', 'group', ',', 'and', 'every', 'research', 'group', 'studies', 'a', 'wide', 'variety', 'of', 'topics', '.']\n",
      "11 ['Mỗi một', 'khoa học', 'gia', 'đều', 'thuộc', 'một', 'nhóm', 'nghiên cứu', ',', 'và', 'mỗi', 'nhóm', 'đều', 'nghiên cứu', 'rất', 'nhiều', 'đề tài', 'đa dạng', '.']\n",
      "12 ['For', 'us', 'at', 'Cambridge', ',', 'it', 'is', 'as', 'varied', 'as', 'the', 'El', 'Niño', 'oscillation', ',', 'which', 'affects', 'weather', 'and', 'climate', ',', 'to', 'the', 'assimilation', 'of', 'satellite', 'data', ',', 'to', 'emissions', 'from', 'crops', 'that', 'produce', 'biofuels', ',', 'which', 'is', 'what', 'I', 'happen', 'to', 'study', '.']\n",
      "12 ['Với', 'chúng tôi', ',', 'tại', 'Cambridge', ',', 'các', 'đề tài', 'thay đổi', 'từ', 'sự', 'dao động', 'của', 'El Niño', ',', 'vốn', 'có', 'tác động', 'đến', 'thời tiết', 'và', 'khí hậu', ',', 'sự', 'đồng hoá', 'thông tin', 'từ', 'vệ tinh', ',', 'khí thải', 'từ', 'những', 'cánh', 'đồng', 'nhiên liệu', 'sinh học', ',', 'tình cờ', 'lại', 'là', 'đề tài', 'tôi', 'nghiên cứu', '.']\n",
      "13 ['And', 'in', 'each', 'one', 'of', 'these', 'research', 'areas', ',', 'of', 'which', 'there', 'are', 'even', 'more', ',', 'there', 'are', 'PhD', 'students', ',', 'like', 'me', ',', 'and', 'we', 'study', 'incredibly', 'narrow', 'topics', ',', 'things', 'as', 'narrow', 'as', 'a', 'few', 'processes', 'or', 'a', 'few', 'molecules', '.']\n",
      "13 ['Mỗi', 'lĩnh vực', 'nghiên cứu', 'lại', 'chia', 'ra', 'những', 'lĩnh vực', 'nhỏ', 'hơn', ',', 'và', 'những', 'nghiên cứu sinh', 'có', 'bằng', 'tiến sĩ', ',', 'như', 'tôi', ',', 'phải', 'nghiên cứu', 'những', 'đề tài', 'vô cùng', 'cụ thể', ',', 'cụ thể', 'như', 'chỉ', 'vài', 'quy trình', 'hay', 'vài', 'phân tử', '.']\n",
      "14 ['And', 'one', 'of', 'the', 'molecules', 'I', 'study', 'is', 'called', 'isoprene', ',', 'which', 'is', 'here', '.', 'It', 'is', 'a', 'small', 'organic', 'molecule', '.', 'You', \"'\", 've', 'probably', 'never', 'heard', 'of', 'it', '.']\n",
      "14 ['Một', 'trong', 'số', 'những', 'phân tử', 'tôi', 'nghiên cứu', 'tên', 'là', 'isoprene', '.', 'Đây', '.', 'Nó', 'là', 'một', 'phân tử', 'hữu cơ', 'nhỏ', '.', 'Có thể', 'các', 'bạn', 'cũng', 'chưa', 'từng', 'nghe', 'tên', '.']\n",
      "15 ['The', 'weight', 'of', 'a', 'paper', 'clip', 'is', 'approximately', 'equal', 'to', '900', 'zeta', '-', 'illion', '--', '10', 'to', 'the', '21st', '--', 'molecules', 'of', 'isoprene', '.']\n",
      "15 ['Trọng lượng', 'của', 'một', 'chiếc', 'kẹp', 'giấy', 'vào khoảng', '900', 'zeta', '-', 'illion', '-', '-', '10', 'mũ', '21', '-', '-', 'phân tử', 'isoprene', '.']\n",
      "16 ['But', 'despite', 'its', 'very', 'small', 'weight', ',', 'enough', 'of', 'it', 'is', 'emitted', 'into', 'the', 'atmosphere', 'every', 'year', 'to', 'equal', 'the', 'weight', 'of', 'all', 'the', 'people', 'on', 'the', 'planet', '.']\n",
      "16 ['Dù', 'trọng lượng', 'phân tử', 'rất', 'nhỏ', ',', 'thế', 'nhưng', 'lượng', 'isoprene', 'được', 'thải', 'vào', 'khí quyển', 'hàng', 'năm', 'ngang ngửa', 'với', 'tổng', 'trọng lượng', 'của', 'dân số', 'toàn cầu', '.']\n",
      "17 ['It', 'is', 'a', 'huge', 'amount', 'of', 'stuff', '.', 'It', 'is', 'equal', 'to', 'the', 'weight', 'of', 'methane', '.']\n",
      "17 ['Đó', 'là', 'một', 'lượng', 'khí thải', 'khổng lồ', ',', 'bằng', 'tổng', 'trọng lượng', 'của', 'mêtan', '.']\n",
      "18 ['And', 'because', 'it', 'is', 'so', 'much', 'stuff', ',', 'it', 'is', 'really', 'important', 'for', 'the', 'atmospheric', 'system', '.']\n",
      "18 ['Chính', 'vì', 'lượng', 'khí thải', 'rất', 'lớn', ',', 'nó', 'có', 'ý nghĩa', 'quan trọng', 'với', 'hệ thống', 'khí quyển', '.']\n",
      "19 ['Because', 'it', 'is', 'important', 'to', 'the', 'atmospheric', 'system', ',', 'we', 'go', 'to', 'all', 'lengths', 'to', 'study', 'this', 'thing', '.']\n",
      "19 ['Chính', 'vì', 'nó', 'có', 'ý nghĩa', 'quan trọng', 'với', 'hệ thống', 'khí quyển', ',', 'giá', 'nào', 'chúng tôi', 'cũng', 'theo đuổi', 'nghiên cứu', 'này', 'đến', 'cùng', '.']\n",
      "133317\n"
     ]
    }
   ],
   "source": [
    "for i in range(10,20):\n",
    "    print(i,train.en[i])\n",
    "    print(i,train.vi[i])\n",
    "\n",
    "print(len(train.en))"
   ]
  },
  {
   "cell_type": "markdown",
   "metadata": {},
   "source": [
    "# **2. Vocab**"
   ]
  },
  {
   "cell_type": "code",
   "execution_count": 5,
   "metadata": {},
   "outputs": [],
   "source": [
    "from typing import Iterator, List, Optional\n",
    "from torchtext.vocab import build_vocab_from_iterator\n",
    "\n",
    "class Language:\n",
    "    def __init__(self, train_iter: Iterator, min_freq:int = 1,specials: Optional[List[str]] = None, default_idx:int = 0):\n",
    "        self.__make_vocab(train_iter,min_freq,specials,default_idx)\n",
    "\n",
    "    def __yield_tokens(self, data):\n",
    "        for line in data:\n",
    "            yield line  \n",
    "\n",
    "    def __make_vocab(self, train_iter: Iterator, min_freq:int = 1,specials: Optional[List[str]] = None, default_idx:int = 0):\n",
    "        self.__vocab = build_vocab_from_iterator(self.__yield_tokens(train_iter), min_freq, specials)\n",
    "        self.__vocab.set_default_index(default_idx)\n",
    "\n",
    "    @property\n",
    "    def name(self):\n",
    "        return self.__name\n",
    "\n",
    "    @property\n",
    "    def vocab(self):\n",
    "        return self.__vocab"
   ]
  },
  {
   "cell_type": "code",
   "execution_count": 6,
   "metadata": {},
   "outputs": [],
   "source": [
    "UNK_IDX, PAD_IDX, SOS_IDX, EOS_IDX = 0, 1, 2, 3\n",
    "specials = [\"<unk>\", \"<pad>\", \"<sos>\", \"<eos>\"]\n",
    "\n",
    "Vi = Language(train.vi,3,specials,UNK_IDX)\n",
    "En = Language(train.en,3,specials,UNK_IDX)\n"
   ]
  },
  {
   "cell_type": "code",
   "execution_count": 7,
   "metadata": {},
   "outputs": [
    {
     "name": "stdout",
     "output_type": "stream",
     "text": [
      "vocab size vi: 17843\n",
      "vocab size en: 23972\n",
      "<unk> 0\n",
      "<pad> 1\n",
      "<sos> 2\n",
      "<eos> 3\n",
      ", 4\n",
      ". 5\n",
      "là 6\n",
      "và 7\n",
      "một 8\n",
      "tôi 9\n",
      "những 10\n",
      "của 11\n",
      "có 12\n",
      "đó 13\n",
      "không 14\n",
      "bạn 15\n",
      "trong 16\n",
      "này 17\n",
      "đã 18\n",
      "người 19\n"
     ]
    }
   ],
   "source": [
    "print(\"vocab size vi:\", len(Vi.vocab.get_itos()))\n",
    "print(\"vocab size en:\", len(En.vocab.get_itos()))\n",
    "for word in Vi.vocab.get_itos()[:20]:\n",
    "    print(word,Vi.vocab[word])"
   ]
  },
  {
   "cell_type": "markdown",
   "metadata": {},
   "source": [
    "# **3. Data Preprocessing**"
   ]
  },
  {
   "cell_type": "code",
   "execution_count": 8,
   "metadata": {},
   "outputs": [],
   "source": [
    "from torchtext.vocab.vocab import Vocab\n",
    "def data_preprocessing(data:List[List[str]],vocab:Vocab):\n",
    "    rr = []\n",
    "    idx2word = vocab.get_itos()\n",
    "    for line in data:\n",
    "        tkl = ['<sos>']\n",
    "        for word in line:\n",
    "            tkl.append(idx2word[vocab[word]])\n",
    "        tkl.append('<eos>')\n",
    "        rr.append(tkl)\n",
    "    return rr"
   ]
  },
  {
   "cell_type": "code",
   "execution_count": 9,
   "metadata": {},
   "outputs": [],
   "source": [
    "train_en_prep = data_preprocessing(train.en, En.vocab)\n",
    "train_vi_prep = data_preprocessing(train.vi, Vi.vocab)\n",
    "test_en_prep = data_preprocessing(test.en, En.vocab)"
   ]
  },
  {
   "cell_type": "code",
   "execution_count": 10,
   "metadata": {},
   "outputs": [
    {
     "name": "stdout",
     "output_type": "stream",
     "text": [
      "['<sos>', 'Recently', 'the', 'headlines', 'looked', 'like', 'this', 'when', 'the', '<unk>', 'Panel', 'on', 'Climate', 'Change', ',', 'or', 'IPCC', ',', 'put', 'out', 'their', 'report', 'on', 'the', 'state', 'of', 'understanding', 'of', 'the', 'atmospheric', 'system', '.', '<eos>']\n",
      "['<sos>', 'Các', 'tiêu đề', 'gần', 'đây', 'trông', 'như', 'thế', 'này', 'khi', 'Ban', '<unk>', 'Biến đổi', 'khí hậu', '<unk>', 'chính phủ', ',', 'gọi', 'tắt', 'là', 'IPCC', 'đưa', 'ra', 'bài', 'nghiên cứu', 'của', 'họ', 'về', 'hệ thống', 'khí quyển', '.', '<eos>']\n",
      "['<sos>', 'My', 'family', 'was', 'not', 'poor', ',', 'and', 'myself', ',', 'I', 'had', 'never', 'experienced', 'hunger', '.', '<eos>']\n",
      "['<sos>', 'That', 'report', 'was', 'written', 'by', '620', 'scientists', 'from', '40', 'countries', '.', '<eos>']\n",
      "['<sos>', 'Nghiên cứu', 'được', 'viết', 'bởi', '620', 'nhà', 'khoa học', 'từ', '40', 'quốc gia', 'khác', 'nhau', '.', '<eos>']\n",
      "['<sos>', 'But', 'one', 'day', ',', 'in', '1995', ',', 'my', 'mom', 'brought', 'home', 'a', 'letter', 'from', 'a', 'coworker', \"'s\", 'sister', '.', '<eos>']\n",
      "['<sos>', 'They', 'wrote', 'almost', 'a', 'thousand', 'pages', 'on', 'the', 'topic', '.', '<eos>']\n",
      "['<sos>', 'Họ', 'viết', 'gần', '1000', 'trang', 'về', 'chủ đề', 'này', '.', '<eos>']\n",
      "['<sos>', 'It', 'read', ',', '\"', 'When', 'you', 'read', 'this', ',', 'all', 'five', 'family', 'members', 'will', 'not', 'exist', 'in', 'this', 'world', ',', 'because', 'we', 'haven', \"'\", 't', 'eaten', 'for', 'the', 'past', 'two', 'weeks', '.', '<eos>']\n",
      "['<sos>', 'And', 'all', 'of', 'those', 'pages', 'were', 'reviewed', 'by', 'another', '400', '-', 'plus', 'scientists', 'and', 'reviewers', ',', 'from', '<unk>', 'countries', '.', '<eos>']\n",
      "['<sos>', 'Và', 'tất cả', 'các', 'trang', 'đều', 'được', 'xem xét', 'bởi', '400', 'khoa học', 'gia', 'và', 'nhà', 'phê bình', 'khác', 'từ', '<unk>', 'quốc gia', '.', '<eos>']\n",
      "['<sos>', 'We', 'are', 'lying', 'on', 'the', 'floor', 'together', ',', 'and', 'our', 'bodies', 'are', 'so', 'weak', 'we', 'are', 'ready', 'to', 'die', '.', '\"', '<eos>']\n",
      "['<sos>', 'It', 'is', 'a', 'big', 'community', '.', 'It', 'is', 'such', 'a', 'big', 'community', ',', 'in', 'fact', ',', 'that', 'our', 'annual', 'gathering', 'is', 'the', 'largest', 'scientific', 'meeting', 'in', 'the', 'world', '.', '<eos>']\n",
      "['<sos>', 'Đó', 'là', 'cả', 'một', 'cộng đồng', 'lớn', ',', 'lớn', 'đến nỗi', 'trên', 'thực tế', 'cuộc', 'tụ hội', 'hằng', 'năm', 'của', 'chúng tôi', 'là', 'hội nghị', 'khoa học', '[', 'tự nhiên', ']', 'lớn', 'nhất', 'thế giới', '.', '<eos>']\n",
      "['<sos>', 'I', 'was', 'so', 'shocked', '.', '<eos>']\n"
     ]
    }
   ],
   "source": [
    "for i in range(5,10):\n",
    "    print(train_en_prep[i])\n",
    "    print(train_vi_prep[i])\n",
    "    print(test_en_prep[i])"
   ]
  },
  {
   "cell_type": "code",
   "execution_count": 11,
   "metadata": {},
   "outputs": [
    {
     "name": "stdout",
     "output_type": "stream",
     "text": [
      "(['<sos>', '<eos>'], ['<sos>', '<eos>'])\n",
      "(['<sos>', '<eos>'], ['<sos>', '<eos>'])\n",
      "(['<sos>', '<eos>'], ['<sos>', '<eos>'])\n",
      "(['<sos>', '<eos>'], ['<sos>', '<eos>'])\n",
      "(['<sos>', '<eos>'], ['<sos>', '<eos>'])\n",
      "(['<sos>', 'When', 'I', 'was', 'little', ',', 'I', 'thought', 'my', 'country', 'was', 'the', 'best', 'on', 'the', 'planet', ',', 'and', 'I', 'grew', 'up', 'singing', 'a', 'song', 'called', '\"', 'Nothing', 'To', '<unk>', '.', '\"', '<eos>'], ['When', 'I', 'was', 'little', ',', 'I', 'thought', 'my', 'country', 'was', 'the', 'best', 'on', 'the', 'planet', ',', 'and', 'I', 'grew', 'up', 'singing', 'a', 'song', 'called', '\"', 'Nothing', 'To', 'Envy', '.', '\"'], ['Khi', 'tôi', 'còn', 'nhỏ', ',', 'Tôi', 'nghĩ', 'rằng', 'BắcTriều', 'Tiên', 'là', 'đất nước', 'tốt', 'nhất', 'trên', 'thế giới', 'và', 'tôi', 'thường', 'hát', 'bài', '\"', 'Chúng ta', 'chẳng', 'có', 'gì', 'phải', 'ghen tị', '.', '\"'])\n",
      "(['<sos>', 'And', 'I', 'was', 'very', 'proud', '.', '<eos>'], ['And', 'I', 'was', 'very', 'proud', '.'], ['Tôi', 'đã', 'rất', 'tự hào', 'về', 'đất nước', 'tôi', '.'])\n",
      "(['<sos>', 'In', 'school', ',', 'we', 'spent', 'a', 'lot', 'of', 'time', 'studying', 'the', 'history', 'of', 'Kim', 'Il', '-', 'Sung', ',', 'but', 'we', 'never', 'learned', 'much', 'about', 'the', 'outside', 'world', ',', 'except', 'that', 'America', ',', 'South', 'Korea', ',', 'Japan', 'are', 'the', 'enemies', '.', '<eos>'], ['In', 'school', ',', 'we', 'spent', 'a', 'lot', 'of', 'time', 'studying', 'the', 'history', 'of', 'Kim', 'Il', '-', 'Sung', ',', 'but', 'we', 'never', 'learned', 'much', 'about', 'the', 'outside', 'world', ',', 'except', 'that', 'America', ',', 'South', 'Korea', ',', 'Japan', 'are', 'the', 'enemies', '.'], ['Ở', 'trường', ',', 'chúng tôi', 'dành', 'rất', 'nhiều', 'thời gian', 'để', 'học', 'về', 'cuộc đời', 'của', 'chủ tịch', 'Kim', 'II', '-', 'Sung', ',', 'nhưng', 'lại', 'không', 'học', 'nhiều', 'về', 'thế giới', 'bên', 'ngoài', ',', 'ngoại trừ', 'việc', 'Hoa Kỳ', ',', 'Hàn Quốc', 'và', 'Nhật Bản', 'là', 'kẻ thù', 'của', 'chúng tôi', '.'])\n",
      "(['<sos>', 'Although', 'I', 'often', 'wondered', 'about', 'the', 'outside', 'world', ',', 'I', 'thought', 'I', 'would', 'spend', 'my', 'entire', 'life', 'in', 'North', 'Korea', ',', 'until', 'everything', 'suddenly', 'changed', '.', '<eos>'], ['Although', 'I', 'often', 'wondered', 'about', 'the', 'outside', 'world', ',', 'I', 'thought', 'I', 'would', 'spend', 'my', 'entire', 'life', 'in', 'North', 'Korea', ',', 'until', 'everything', 'suddenly', 'changed', '.'], ['Mặc dù', 'tôi', 'đã', 'từng', 'tự', 'hỏi', 'không', 'biết', 'thế giới', 'bên', 'ngoài', 'kia', 'như', 'thế nào', ',', 'nhưng', 'tôi', 'vẫn', 'nghĩ', 'rằng', 'mình', 'sẽ', 'sống', 'cả', 'cuộc đời', 'ở', 'BắcTriều', 'Tiên', ',', 'cho', 'tới', 'khi', 'tất cả', 'mọi', 'thứ', 'đột nhiên', 'thay đổi', '.'])\n",
      "(['<sos>', 'When', 'I', 'was', 'seven', 'years', 'old', ',', 'I', 'saw', 'my', 'first', 'public', 'execution', ',', 'but', 'I', 'thought', 'my', 'life', 'in', 'North', 'Korea', 'was', 'normal', '.', '<eos>'], ['When', 'I', 'was', 'seven', 'years', 'old', ',', 'I', 'saw', 'my', 'first', 'public', 'execution', ',', 'but', 'I', 'thought', 'my', 'life', 'in', 'North', 'Korea', 'was', 'normal', '.'], ['Khi', 'tôi', 'lên', '7', ',', 'tôi', 'chứng kiến', 'cảnh', 'người ta', 'xử', 'bắn', 'công khai', 'lần', 'đầu tiên', 'trong', 'đời', ',', 'nhưng', 'tôi', 'vẫn', 'nghĩ', 'cuộc sống', 'của', 'mình', 'ở', 'đây', 'là', 'hoàn toàn', 'bình thường', '.'])\n"
     ]
    }
   ],
   "source": [
    "train_data = list(zip(train_en_prep, train_vi_prep))\n",
    "train_data.sort(key = lambda x: (len(x[0]), len(x[1])))\n",
    "test_data = list(zip(test_en_prep, test.en, test.vi))\n",
    "\n",
    "for i in range(5):\n",
    "  print(train_data[i])\n",
    "\n",
    "for i in range(5):   \n",
    "  print(test_data[i])"
   ]
  },
  {
   "cell_type": "code",
   "execution_count": 12,
   "metadata": {},
   "outputs": [],
   "source": [
    "from typing import Tuple\n",
    "\n",
    "def make_batch(data:List[Tuple], batchsize:int):\n",
    "    bb = []\n",
    "    ben = []\n",
    "    bvi = []\n",
    "    for en, vi in data: \n",
    "        ben.append(en)\n",
    "        bvi.append(vi)\n",
    "        if len(ben) >= batchsize:\n",
    "            bb.append((ben, bvi))\n",
    "            ben = []\n",
    "            bvi = []\n",
    "    if len(ben) > 0:\n",
    "        bb.append((ben, bvi))\n",
    "    return bb\n"
   ]
  },
  {
   "cell_type": "code",
   "execution_count": 13,
   "metadata": {},
   "outputs": [],
   "source": [
    "train_data = make_batch(train_data, BATCHSIZE)"
   ]
  },
  {
   "cell_type": "code",
   "execution_count": 14,
   "metadata": {},
   "outputs": [
    {
     "name": "stdout",
     "output_type": "stream",
     "text": [
      "([['<sos>', '<eos>'], ['<sos>', '<eos>'], ['<sos>', '<eos>'], ['<sos>', '<eos>'], ['<sos>', '<eos>'], ['<sos>', '<eos>'], ['<sos>', '<eos>'], ['<sos>', '<eos>'], ['<sos>', '<eos>'], ['<sos>', '<eos>'], ['<sos>', '<eos>'], ['<sos>', '<eos>'], ['<sos>', '<eos>'], ['<sos>', '<eos>'], ['<sos>', '<eos>'], ['<sos>', '<eos>'], ['<sos>', '<eos>'], ['<sos>', '<eos>'], ['<sos>', '<eos>'], ['<sos>', '<eos>'], ['<sos>', '<eos>'], ['<sos>', '<eos>'], ['<sos>', '<eos>'], ['<sos>', '<eos>'], ['<sos>', '<eos>'], ['<sos>', '<eos>'], ['<sos>', '<eos>'], ['<sos>', '<eos>'], ['<sos>', '<eos>'], ['<sos>', '<eos>'], ['<sos>', '<eos>'], ['<sos>', '<eos>'], ['<sos>', '<eos>'], ['<sos>', '<eos>'], ['<sos>', '<eos>'], ['<sos>', '<eos>'], ['<sos>', '<eos>'], ['<sos>', '<eos>'], ['<sos>', '<eos>'], ['<sos>', '<eos>'], ['<sos>', '<eos>'], ['<sos>', '<eos>'], ['<sos>', '<eos>'], ['<sos>', '<eos>'], ['<sos>', '<eos>'], ['<sos>', '<eos>'], ['<sos>', '<eos>'], ['<sos>', '<eos>'], ['<sos>', '<eos>'], ['<sos>', '<eos>'], ['<sos>', '<eos>'], ['<sos>', '<eos>'], ['<sos>', '<eos>'], ['<sos>', '<eos>'], ['<sos>', '<eos>'], ['<sos>', '<eos>'], ['<sos>', '<eos>'], ['<sos>', '<eos>'], ['<sos>', '<eos>'], ['<sos>', '<eos>'], ['<sos>', '<eos>'], ['<sos>', '<eos>'], ['<sos>', '<eos>'], ['<sos>', '<eos>'], ['<sos>', '<eos>'], ['<sos>', '<eos>'], ['<sos>', '<eos>'], ['<sos>', '<eos>'], ['<sos>', '<eos>'], ['<sos>', '<eos>'], ['<sos>', '<eos>'], ['<sos>', '<eos>'], ['<sos>', '<eos>'], ['<sos>', '<eos>'], ['<sos>', '<eos>'], ['<sos>', '<eos>'], ['<sos>', '<eos>'], ['<sos>', '<eos>'], ['<sos>', '<eos>'], ['<sos>', '<eos>'], ['<sos>', '<eos>'], ['<sos>', '<eos>'], ['<sos>', '<eos>'], ['<sos>', '<eos>'], ['<sos>', '<eos>'], ['<sos>', '<eos>'], ['<sos>', '<eos>'], ['<sos>', '<eos>'], ['<sos>', '<eos>'], ['<sos>', '<eos>'], ['<sos>', '<eos>'], ['<sos>', '<eos>'], ['<sos>', '<eos>'], ['<sos>', '<eos>'], ['<sos>', '<eos>'], ['<sos>', '<eos>'], ['<sos>', '<eos>'], ['<sos>', '<eos>'], ['<sos>', '<eos>'], ['<sos>', '<eos>'], ['<sos>', '<eos>'], ['<sos>', '<eos>'], ['<sos>', '<eos>'], ['<sos>', '<eos>'], ['<sos>', '<eos>'], ['<sos>', '<eos>'], ['<sos>', '<eos>'], ['<sos>', '<eos>'], ['<sos>', '<eos>'], ['<sos>', '<eos>'], ['<sos>', '<eos>'], ['<sos>', '<eos>'], ['<sos>', '<eos>'], ['<sos>', '<eos>'], ['<sos>', '<eos>'], ['<sos>', '<eos>'], ['<sos>', '<eos>'], ['<sos>', '<eos>'], ['<sos>', '<eos>'], ['<sos>', '<eos>'], ['<sos>', '<eos>'], ['<sos>', '<eos>'], ['<sos>', '<eos>'], ['<sos>', '<eos>'], ['<sos>', '<eos>'], ['<sos>', '<eos>'], ['<sos>', '<eos>'], ['<sos>', '<eos>']], [['<sos>', '<eos>'], ['<sos>', '<eos>'], ['<sos>', '<eos>'], ['<sos>', '<eos>'], ['<sos>', '<eos>'], ['<sos>', '<eos>'], ['<sos>', '<eos>'], ['<sos>', '<eos>'], ['<sos>', '<eos>'], ['<sos>', '<eos>'], ['<sos>', '<eos>'], ['<sos>', '<eos>'], ['<sos>', '<eos>'], ['<sos>', '<eos>'], ['<sos>', '<eos>'], ['<sos>', '<eos>'], ['<sos>', '<eos>'], ['<sos>', '<eos>'], ['<sos>', '<eos>'], ['<sos>', '<eos>'], ['<sos>', '<eos>'], ['<sos>', '<eos>'], ['<sos>', '<eos>'], ['<sos>', '<eos>'], ['<sos>', '<eos>'], ['<sos>', '<eos>'], ['<sos>', '<eos>'], ['<sos>', '<eos>'], ['<sos>', '<eos>'], ['<sos>', '<eos>'], ['<sos>', '<eos>'], ['<sos>', '<eos>'], ['<sos>', '<eos>'], ['<sos>', '<eos>'], ['<sos>', '<eos>'], ['<sos>', '<eos>'], ['<sos>', '<eos>'], ['<sos>', '<eos>'], ['<sos>', '<eos>'], ['<sos>', '<eos>'], ['<sos>', '<eos>'], ['<sos>', '<eos>'], ['<sos>', '<eos>'], ['<sos>', '<eos>'], ['<sos>', '<eos>'], ['<sos>', '<eos>'], ['<sos>', '<eos>'], ['<sos>', '<eos>'], ['<sos>', '<eos>'], ['<sos>', '<eos>'], ['<sos>', '<eos>'], ['<sos>', '<eos>'], ['<sos>', '<eos>'], ['<sos>', '<eos>'], ['<sos>', '<eos>'], ['<sos>', '<eos>'], ['<sos>', '<eos>'], ['<sos>', '<eos>'], ['<sos>', '<eos>'], ['<sos>', '<eos>'], ['<sos>', '<eos>'], ['<sos>', '<eos>'], ['<sos>', '<eos>'], ['<sos>', '<eos>'], ['<sos>', '<eos>'], ['<sos>', '<eos>'], ['<sos>', '<eos>'], ['<sos>', '<eos>'], ['<sos>', '<eos>'], ['<sos>', '<eos>'], ['<sos>', '<eos>'], ['<sos>', '<eos>'], ['<sos>', '<eos>'], ['<sos>', '<eos>'], ['<sos>', '<eos>'], ['<sos>', '<eos>'], ['<sos>', '<eos>'], ['<sos>', '<eos>'], ['<sos>', '<eos>'], ['<sos>', '<eos>'], ['<sos>', '<eos>'], ['<sos>', '<eos>'], ['<sos>', '<eos>'], ['<sos>', '<eos>'], ['<sos>', '<eos>'], ['<sos>', '<eos>'], ['<sos>', '<eos>'], ['<sos>', '<eos>'], ['<sos>', '<eos>'], ['<sos>', '<eos>'], ['<sos>', '<eos>'], ['<sos>', '<eos>'], ['<sos>', '<eos>'], ['<sos>', '<eos>'], ['<sos>', '<eos>'], ['<sos>', '<eos>'], ['<sos>', '<eos>'], ['<sos>', '<eos>'], ['<sos>', '<eos>'], ['<sos>', '<eos>'], ['<sos>', '<eos>'], ['<sos>', '<eos>'], ['<sos>', '<eos>'], ['<sos>', '<eos>'], ['<sos>', '<eos>'], ['<sos>', '<eos>'], ['<sos>', '<eos>'], ['<sos>', '<eos>'], ['<sos>', '<eos>'], ['<sos>', '<eos>'], ['<sos>', '̣', '<eos>'], ['<sos>', 'vỗ tay', '<eos>'], ['<sos>', 'Vỗ tay', '<eos>'], ['<sos>', 'vỗ tay', '<eos>'], ['<sos>', 'Vỗ tay', '<eos>'], ['<sos>', 'Vỗ tay', '<eos>'], ['<sos>', '.', '<eos>'], ['<sos>', '.', '<eos>'], ['<sos>', 'Vỗ tay', '<eos>'], ['<sos>', '.', '<eos>'], ['<sos>', 'Vỗ tay', '<eos>'], ['<sos>', '.', '<eos>'], ['<sos>', 'Vỗ tay', '<eos>'], ['<sos>', '̣', '<eos>'], ['<sos>', 'Cười', '<eos>'], ['<sos>', 'Vỗ tay', '<eos>'], ['<sos>', 'Vỗ tay', '<eos>'], ['<sos>', '.', '<eos>']])\n",
      "([['<sos>', '<eos>'], ['<sos>', '<eos>'], ['<sos>', '<eos>'], ['<sos>', '<eos>'], ['<sos>', '<eos>'], ['<sos>', '<eos>'], ['<sos>', '<eos>'], ['<sos>', '<eos>'], ['<sos>', '<eos>'], ['<sos>', '<eos>'], ['<sos>', '<eos>'], ['<sos>', '<eos>'], ['<sos>', '<eos>'], ['<sos>', '<eos>'], ['<sos>', '<eos>'], ['<sos>', '<eos>'], ['<sos>', '<eos>'], ['<sos>', '<eos>'], ['<sos>', '<eos>'], ['<sos>', '<eos>'], ['<sos>', '<eos>'], ['<sos>', '.', '<eos>'], ['<sos>', '.', '<eos>'], ['<sos>', '.', '<eos>'], ['<sos>', '.', '<eos>'], ['<sos>', 'Yeah', '.', '<eos>'], ['<sos>', 'OK', '.', '<eos>'], ['<sos>', 'Okay', '.', '<eos>'], ['<sos>', '<unk>', '.', '<eos>'], ['<sos>', 'Why', '?', '<eos>'], ['<sos>', 'Oh', '.', '<eos>'], ['<sos>', '<unk>', '.', '<eos>'], ['<sos>', 'Indeed', '.', '<eos>'], ['<sos>', 'Seven', '.', '<eos>'], ['<sos>', 'Yeah', '.', '<eos>'], ['<sos>', 'Kant', '.', '<eos>'], ['<sos>', 'Mill', '.', '<eos>'], ['<sos>', 'Thanks', '.', '<eos>'], ['<sos>', '<unk>', '.', '<eos>'], ['<sos>', 'OK', '.', '<eos>'], ['<sos>', 'Um', '.', '<eos>'], ['<sos>', 'Okay', '.', '<eos>'], ['<sos>', 'Wonderful', '.', '<eos>'], ['<sos>', 'Thanks', '.', '<eos>'], ['<sos>', 'Good', '.', '<eos>'], ['<sos>', 'Ooh', '.', '<eos>'], ['<sos>', 'No', '.', '<eos>'], ['<sos>', 'Mario', '!', '<eos>'], ['<sos>', 'Perfect', '.', '<eos>'], ['<sos>', '<unk>', '!', '<eos>'], ['<sos>', 'Boom', '.', '<eos>'], ['<sos>', 'Sex', '!', '<eos>'], ['<sos>', 'Us', '.', '<eos>'], ['<sos>', '<unk>', '.', '<eos>'], ['<sos>', 'So', '...', '<eos>'], ['<sos>', 'Books', '.', '<eos>'], ['<sos>', 'Sorry', '.', '<eos>'], ['<sos>', 'Difficult', '.', '<eos>'], ['<sos>', 'Hey', '.', '<eos>'], ['<sos>', 'Hey', '.', '<eos>'], ['<sos>', 'Good', '.', '<eos>'], ['<sos>', 'Genius', '!', '<eos>'], ['<sos>', 'Simple', '.', '<eos>'], ['<sos>', '<unk>', '!', '<eos>'], ['<sos>', 'Wonderful', '.', '<eos>'], ['<sos>', 'Okay', '.', '<eos>'], ['<sos>', 'Okay', '.', '<eos>'], ['<sos>', 'Nope', '.', '<eos>'], ['<sos>', 'Yes', '.', '<eos>'], ['<sos>', 'So', '...', '<eos>'], ['<sos>', 'Okay', '.', '<eos>'], ['<sos>', 'Yeah', '.', '<eos>'], ['<sos>', 'Thanks', '.', '<eos>'], ['<sos>', 'Okay', '.', '<eos>'], ['<sos>', 'Okay', '.', '<eos>'], ['<sos>', 'Okay', '.', '<eos>'], ['<sos>', 'Etc', '.', '<eos>'], ['<sos>', 'Nope', '.', '<eos>'], ['<sos>', 'Thanks', '.', '<eos>'], ['<sos>', 'Yes', '.', '<eos>'], ['<sos>', 'Whoa', '.', '<eos>'], ['<sos>', 'Go', '!', '<eos>'], ['<sos>', 'Thanks', '.', '<eos>'], ['<sos>', 'Okay', '.', '<eos>'], ['<sos>', 'Hey', '.', '<eos>'], ['<sos>', 'Why', '?', '<eos>'], ['<sos>', 'Yes', '.', '<eos>'], ['<sos>', 'Yeah', '.', '<eos>'], ['<sos>', 'Okay', '.', '<eos>'], ['<sos>', '<unk>', '.', '<eos>'], ['<sos>', 'Joey', '.', '<eos>'], ['<sos>', 'Joey', '.', '<eos>'], ['<sos>', '<unk>', '.', '<eos>'], ['<sos>', 'India', '.', '<eos>'], ['<sos>', 'China', '.', '<eos>'], ['<sos>', 'Germany', '.', '<eos>'], ['<sos>', 'TEDx', '.', '<eos>'], ['<sos>', '<unk>', '.', '<eos>'], ['<sos>', 'Freedom', '!', '<eos>'], ['<sos>', '<unk>', '.', '<eos>'], ['<sos>', 'Thanks', '.', '<eos>'], ['<sos>', '<unk>', '.', '<eos>'], ['<sos>', 'Invest', '.', '<eos>'], ['<sos>', '<unk>', '.', '<eos>'], ['<sos>', 'Right', '.', '<eos>'], ['<sos>', 'Okay', '.', '<eos>'], ['<sos>', 'Oops', '.', '<eos>'], ['<sos>', '<unk>', '.', '<eos>'], ['<sos>', 'Huh', '?', '<eos>'], ['<sos>', 'Wrong', '.', '<eos>'], ['<sos>', 'Thanks', '.', '<eos>'], ['<sos>', 'Jobs', '.', '<eos>'], ['<sos>', 'Poetry', '.', '<eos>'], ['<sos>', '<unk>', '!', '<eos>'], ['<sos>', 'Okay', '?', '<eos>'], ['<sos>', 'Why', '?', '<eos>'], ['<sos>', '<unk>', '.', '<eos>'], ['<sos>', 'Why', '?', '<eos>'], ['<sos>', 'Enough', '.', '<eos>'], ['<sos>', 'Thanks', '.', '<eos>'], ['<sos>', '<unk>', '.', '<eos>'], ['<sos>', 'Right', '.', '<eos>'], ['<sos>', 'Detail', '.', '<eos>'], ['<sos>', 'Why', '?', '<eos>'], ['<sos>', 'Thanks', '.', '<eos>'], ['<sos>', 'Okay', '.', '<eos>'], ['<sos>', 'David', '.', '<eos>'], ['<sos>', '<unk>', '.', '<eos>']], [['<sos>', '.', '<eos>'], ['<sos>', '.', '<eos>'], ['<sos>', '.', '<eos>'], ['<sos>', 'Vỗ tay', '<eos>'], ['<sos>', 'Vỗ tay', '<eos>'], ['<sos>', 'Vỗ tay', '<eos>'], ['<sos>', 'Vỗ tay', '<eos>'], ['<sos>', 'vỗ tay', '<eos>'], ['<sos>', 'Vỗ tay', '<eos>'], ['<sos>', 'Cám ơn', '<eos>'], ['<sos>', '.', '<eos>'], ['<sos>', '.', '<eos>'], ['<sos>', '.', '<eos>'], ['<sos>', '.', '<eos>'], ['<sos>', 'Khán giả', 'vỗ tay', '<eos>'], ['<sos>', 'Vỗ tay', '.', '<eos>'], ['<sos>', 'Vỗ tay', '.', '<eos>'], ['<sos>', 'Vỗ tay', '.', '<eos>'], ['<sos>', 'Vỗ tay', '.', '<eos>'], ['<sos>', '\"', 'tán thưởng', '\"', '<eos>'], ['<sos>', 'có', 'những', 'giấc', 'mơ', 'đẹp', '.', '<eos>'], ['<sos>', '<eos>'], ['<sos>', '<eos>'], ['<sos>', '.', '<eos>'], ['<sos>', '.', '<eos>'], ['<sos>', '<unk>', '<eos>'], ['<sos>', 'OK', '<eos>'], ['<sos>', 'Ok', '<eos>'], ['<sos>', 'vô dụng', '<eos>'], ['<sos>', 'Tại sao', '<eos>'], ['<sos>', 'Ồ', '<eos>'], ['<sos>', '<unk>', '<eos>'], ['<sos>', 'Thực vậy', '<eos>'], ['<sos>', 'Bảy', '<eos>'], ['<sos>', 'Ừ', '<eos>'], ['<sos>', 'Kant', '<eos>'], ['<sos>', 'Mill', '<eos>'], ['<sos>', 'cảm ơn', '<eos>'], ['<sos>', '<unk>', '<eos>'], ['<sos>', 'Ok', '<eos>'], ['<sos>', 'Uh', '<eos>'], ['<sos>', 'Ok', '<eos>'], ['<sos>', 'Tuyệt', '<eos>'], ['<sos>', 'Cảm ơn', '<eos>'], ['<sos>', 'Tốt', '<eos>'], ['<sos>', 'Ồ', '<eos>'], ['<sos>', 'Không', '<eos>'], ['<sos>', 'Mario', '!', '<eos>'], ['<sos>', 'Hoàn hảo', '.', '<eos>'], ['<sos>', '<unk>', '!', '<eos>'], ['<sos>', 'Bùm', '.', '<eos>'], ['<sos>', 'Tình dục', '!', '<eos>'], ['<sos>', 'Chúng ta', '.', '<eos>'], ['<sos>', '<unk>', '.', '<eos>'], ['<sos>', 'Bởi vậy', '...', '<eos>'], ['<sos>', 'Sách', '.', '<eos>'], ['<sos>', 'Xin lỗi', '.', '<eos>'], ['<sos>', 'Thật', 'khó khăn', '<eos>'], ['<sos>', 'Này', '.', '<eos>'], ['<sos>', 'Này', '.', '<eos>'], ['<sos>', 'Tốt', '.', '<eos>'], ['<sos>', 'Thiên tài', '!', '<eos>'], ['<sos>', 'Đơn giản', '.', '<eos>'], ['<sos>', 'Ngon', 'quá', '<eos>'], ['<sos>', 'Tuyệt vời', '.', '<eos>'], ['<sos>', 'Ok', '.', '<eos>'], ['<sos>', 'Vâng', '.', '<eos>'], ['<sos>', 'Không', '.', '<eos>'], ['<sos>', 'Có', '.', '<eos>'], ['<sos>', 'Thì', '...', '<eos>'], ['<sos>', 'OK', '.', '<eos>'], ['<sos>', 'Yeah', '.', '<eos>'], ['<sos>', 'Cảm ơn', '.', '<eos>'], ['<sos>', 'Được', '.', '<eos>'], ['<sos>', 'Được', '.', '<eos>'], ['<sos>', 'Được', '.', '<eos>'], ['<sos>', 'Vân vân', '.', '<eos>'], ['<sos>', 'Không', '.', '<eos>'], ['<sos>', 'Cảm ơn', '.', '<eos>'], ['<sos>', 'Có thể', '.', '<eos>'], ['<sos>', 'Whoa', '.', '<eos>'], ['<sos>', 'Bắt đầu', '!', '<eos>'], ['<sos>', 'Cảm ơn', '.', '<eos>'], ['<sos>', 'Ok', '.', '<eos>'], ['<sos>', 'Này', '.', '<eos>'], ['<sos>', 'Tại sao', '?', '<eos>'], ['<sos>', 'Đúng thế', '.', '<eos>'], ['<sos>', 'Vâng', '.', '<eos>'], ['<sos>', 'Vâng', '.', '<eos>'], ['<sos>', '<unk>', '.', '<eos>'], ['<sos>', 'Joey', '.', '<eos>'], ['<sos>', 'Joey', '.', '<eos>'], ['<sos>', '<unk>', '.', '<eos>'], ['<sos>', 'Ấn Độ', '.', '<eos>'], ['<sos>', 'Trung Quốc', '.', '<eos>'], ['<sos>', 'Đức', '.', '<eos>'], ['<sos>', 'TEDx', '.', '<eos>'], ['<sos>', 'Ôi', '!', '<eos>'], ['<sos>', 'Tự do', '!', '<eos>'], ['<sos>', 'Âm', '.', '<eos>'], ['<sos>', 'Cám ơn', '.', '<eos>'], ['<sos>', '<unk>', '.', '<eos>'], ['<sos>', 'Đầu tư', '.', '<eos>'], ['<sos>', '<unk>', '.', '<eos>'], ['<sos>', 'Đúng vậy', '.', '<eos>'], ['<sos>', 'Okay', '.', '<eos>'], ['<sos>', 'Oops', '.', '<eos>'], ['<sos>', 'Cảnh quan', '.', '<eos>'], ['<sos>', 'Huh', '?', '<eos>'], ['<sos>', 'Sai', '.', '<eos>'], ['<sos>', 'Cảm ơn', '!', '<eos>'], ['<sos>', 'Việc làm', '.', '<eos>'], ['<sos>', '<unk>', '.', '<eos>'], ['<sos>', '<unk>', '!', '<eos>'], ['<sos>', 'Ok', '?', '<eos>'], ['<sos>', 'Vì sao', '?', '<eos>'], ['<sos>', '<unk>', '.', '<eos>'], ['<sos>', 'Vì sao', '?', '<eos>'], ['<sos>', 'Đủ', 'rồi', '<eos>'], ['<sos>', 'Cảm ơn', '.', '<eos>'], ['<sos>', 'À', '.', '<eos>'], ['<sos>', 'Đúng thế', '.', '<eos>'], ['<sos>', 'Chi tiết', '.', '<eos>'], ['<sos>', 'Tại sao', '?', '<eos>'], ['<sos>', 'Cám ơn', '.', '<eos>'], ['<sos>', 'Okay', '.', '<eos>'], ['<sos>', 'David', '.', '<eos>'], ['<sos>', '<unk>', '.', '<eos>']])\n",
      "([['<sos>', 'Yay', '!', '<eos>'], ['<sos>', 'Why', '?', '<eos>'], ['<sos>', 'Dry', '.', '<eos>'], ['<sos>', 'Fold', '.', '<eos>'], ['<sos>', 'Why', '?', '<eos>'], ['<sos>', 'Warren', '.', '<eos>'], ['<sos>', 'Why', '?', '<eos>'], ['<sos>', 'Chris', '.', '<eos>'], ['<sos>', 'Thanks', '.', '<eos>'], ['<sos>', 'Thanks', '.', '<eos>'], ['<sos>', 'Thanks', '.', '<eos>'], ['<sos>', 'OK', '.', '<eos>'], ['<sos>', 'Okay', '.', '<eos>'], ['<sos>', 'Yep', '.', '<eos>'], ['<sos>', 'Why', '?', '<eos>'], ['<sos>', '529', '.', '<eos>'], ['<sos>', '<unk>', '.', '<eos>'], ['<sos>', '<unk>', '?', '<eos>'], ['<sos>', 'Yes', '?', '<eos>'], ['<sos>', 'Nine', '.', '<eos>'], ['<sos>', '<unk>', '?', '<eos>'], ['<sos>', '1824', '.', '<eos>'], ['<sos>', 'Good', '.', '<eos>'], ['<sos>', 'Why', '?', '<eos>'], ['<sos>', 'Power', '.', '<eos>'], ['<sos>', 'Android', '.', '<eos>'], ['<sos>', 'Okay', '.', '<eos>'], ['<sos>', 'Thanks', '!', '<eos>'], ['<sos>', '<unk>', '.', '<eos>'], ['<sos>', '<unk>', '.', '<eos>'], ['<sos>', 'Okay', '.', '<eos>'], ['<sos>', 'Yeah', '?', '<eos>'], ['<sos>', 'Yeah', '.', '<eos>'], ['<sos>', 'Yay', '!', '<eos>'], ['<sos>', 'Thanks', '.', '<eos>'], ['<sos>', 'Okay', '.', '<eos>'], ['<sos>', 'Yay', '!', '<eos>'], ['<sos>', 'No', '.', '<eos>'], ['<sos>', 'Duh', '.', '<eos>'], ['<sos>', 'Wow', '.', '<eos>'], ['<sos>', 'Wow', '.', '<eos>'], ['<sos>', 'Designing', '.', '<eos>'], ['<sos>', 'Thanks', '.', '<eos>'], ['<sos>', 'Thanks', '.', '<eos>'], ['<sos>', 'Home', '.', '<eos>'], ['<sos>', 'OK', '?', '<eos>'], ['<sos>', 'zesty', '.', '<eos>'], ['<sos>', 'Yeah', '.', '<eos>'], ['<sos>', 'Wow', '.', '<eos>'], ['<sos>', 'Yeah', '.', '<eos>'], ['<sos>', 'Wow', '.', '<eos>'], ['<sos>', 'Anyone', '?', '<eos>'], ['<sos>', 'For', '.', '<eos>'], ['<sos>', '<unk>', '.', '<eos>'], ['<sos>', 'Now', '...', '<eos>'], ['<sos>', 'Aha', '.', '<eos>'], ['<sos>', '<unk>', '...', '<eos>'], ['<sos>', 'Why', '?', '<eos>'], ['<sos>', 'Why', '?', '<eos>'], ['<sos>', 'Spock', '.', '<eos>'], ['<sos>', 'Yeah', '.', '<eos>'], ['<sos>', 'Wow', '!', '<eos>'], ['<sos>', 'OK', '.', '<eos>'], ['<sos>', 'WITNESS', '.', '<eos>'], ['<sos>', 'January', '.', '<eos>'], ['<sos>', '<unk>', '.', '<eos>'], ['<sos>', 'No', '.', '<eos>'], ['<sos>', 'No', '.', '<eos>'], ['<sos>', 'Absolutely', '.', '<eos>'], ['<sos>', 'Okay', '.', '<eos>'], ['<sos>', 'Sleep', '.', '<eos>'], ['<sos>', 'Wrong', '.', '<eos>'], ['<sos>', 'Why', '?', '<eos>'], ['<sos>', 'Yes', '.', '<eos>'], ['<sos>', 'Good', '.', '<eos>'], ['<sos>', 'Mmm', '.', '<eos>'], ['<sos>', 'Mmm', '.', '<eos>'], ['<sos>', 'Order', '.', '<eos>'], ['<sos>', 'Okay', '.', '<eos>'], ['<sos>', 'Goodbye', '.', '<eos>'], ['<sos>', '<unk>', '.', '<eos>'], ['<sos>', 'Amazing', '.', '<eos>'], ['<sos>', 'Cheers', '.', '<eos>'], ['<sos>', 'Hope', '.', '<eos>'], ['<sos>', 'Yes', '.', '<eos>'], ['<sos>', '<unk>', '.', '<eos>'], ['<sos>', '2002', '.', '<eos>'], ['<sos>', 'Yeah', '.', '<eos>'], ['<sos>', 'Okay', '.', '<eos>'], ['<sos>', 'Okay', '.', '<eos>'], ['<sos>', 'What', '?', '<eos>'], ['<sos>', 'Yes', '?', '<eos>'], ['<sos>', 'Thanks', '.', '<eos>'], ['<sos>', 'Right', '.', '<eos>'], ['<sos>', 'Right', '?', '<eos>'], ['<sos>', 'Seriously', '.', '<eos>'], ['<sos>', 'Okay', '.', '<eos>'], ['<sos>', 'Hi', '.', '<eos>'], ['<sos>', 'Hello', '!', '<eos>'], ['<sos>', 'Seriously', '.', '<eos>'], ['<sos>', 'Hello', '.', '<eos>'], ['<sos>', 'Right', '?', '<eos>'], ['<sos>', 'So', '...', '<eos>'], ['<sos>', '<unk>', '.', '<eos>'], ['<sos>', 'Chimborazo', '!', '<eos>'], ['<sos>', 'Chimborazo', '!', '<eos>'], ['<sos>', 'Chimborazo', '!', '<eos>'], ['<sos>', 'Thanks', '.', '<eos>'], ['<sos>', '<unk>', '.', '<eos>'], ['<sos>', 'Thanks', '.', '<eos>'], ['<sos>', 'Right', '?', '<eos>'], ['<sos>', 'Yeah', '?', '<eos>'], ['<sos>', '<unk>', '.', '<eos>'], ['<sos>', 'Zero', '.', '<eos>'], ['<sos>', 'Thanks', '.', '<eos>'], ['<sos>', 'Really', '?', '<eos>'], ['<sos>', 'Right', '.', '<eos>'], ['<sos>', 'Okay', '.', '<eos>'], ['<sos>', 'Right', '?', '<eos>'], ['<sos>', 'Interesting', '.', '<eos>'], ['<sos>', '<unk>', '!', '<eos>'], ['<sos>', 'Go', '!', '<eos>'], ['<sos>', 'Sustainability', '.', '<eos>'], ['<sos>', 'Okay', '.', '<eos>'], ['<sos>', '<unk>', '.', '<eos>'], ['<sos>', 'Well', '!', '<eos>'], ['<sos>', 'When', '?', '<eos>'], ['<sos>', 'Wow', '.', '<eos>']], [['<sos>', 'Yay', '!', '<eos>'], ['<sos>', 'Tại sao', '?', '<eos>'], ['<sos>', 'Khô', '.', '<eos>'], ['<sos>', 'Xếp', '.', '<eos>'], ['<sos>', 'Tại sao', '?', '<eos>'], ['<sos>', 'Warren', '.', '<eos>'], ['<sos>', 'Vì sao', '?', '<eos>'], ['<sos>', 'Chris', '.', '<eos>'], ['<sos>', 'Cảm ơn', '.', '<eos>'], ['<sos>', 'Cảm ơn', '.', '<eos>'], ['<sos>', 'Cảm ơn', '.', '<eos>'], ['<sos>', 'Ồ', '.', '<eos>'], ['<sos>', 'Ok', '.', '<eos>'], ['<sos>', 'Đúng thế', '.', '<eos>'], ['<sos>', 'Tại sao', '?', '<eos>'], ['<sos>', '529', '.', '<eos>'], ['<sos>', '<unk>', '.', '<eos>'], ['<sos>', '<unk>', '?', '<eos>'], ['<sos>', 'Đúng', '?', '<eos>'], ['<sos>', 'Chín', '.', '<eos>'], ['<sos>', '<unk>', '?', '<eos>'], ['<sos>', '1824', '.', '<eos>'], ['<sos>', 'Tốt', '.', '<eos>'], ['<sos>', 'Tại sao', '?', '<eos>'], ['<sos>', 'Sức mạnh', '.', '<eos>'], ['<sos>', 'Android', '.', '<eos>'], ['<sos>', 'Ok', '.', '<eos>'], ['<sos>', 'Cảm ơn', '!', '<eos>'], ['<sos>', 'Sai', '.', '<eos>'], ['<sos>', 'Sai', '.', '<eos>'], ['<sos>', 'Ok', '.', '<eos>'], ['<sos>', 'Vâng', '?', '<eos>'], ['<sos>', 'Yeah', '.', '<eos>'], ['<sos>', 'Yay', '!', '<eos>'], ['<sos>', 'Cảm ơn', '.', '<eos>'], ['<sos>', 'Okay', '.', '<eos>'], ['<sos>', 'Yay', '!', '<eos>'], ['<sos>', 'Không', '.', '<eos>'], ['<sos>', 'Thế sao', '.', '<eos>'], ['<sos>', 'Wow', '.', '<eos>'], ['<sos>', 'Wow', '.', '<eos>'], ['<sos>', 'Thiết kế', '.', '<eos>'], ['<sos>', 'Cám ơn', '.', '<eos>'], ['<sos>', 'Cám ơn', '.', '<eos>'], ['<sos>', 'Gia đình', '.', '<eos>'], ['<sos>', 'OK', '?', '<eos>'], ['<sos>', 'kích thích', '.', '<eos>'], ['<sos>', 'Yeah', '.', '<eos>'], ['<sos>', 'Wow', '.', '<eos>'], ['<sos>', 'Vâng', '.', '<eos>'], ['<sos>', 'Ồ', '.', '<eos>'], ['<sos>', 'Ai', '?', '<eos>'], ['<sos>', 'Ủng hộ', '.', '<eos>'], ['<sos>', '<unk>', '.', '<eos>'], ['<sos>', 'Bây giờ', '...', '<eos>'], ['<sos>', 'Aha', '.', '<eos>'], ['<sos>', 'Ừm', '...', '<eos>'], ['<sos>', 'Tại sao', '?', '<eos>'], ['<sos>', 'Tại sao', '?', '<eos>'], ['<sos>', 'Spock', '.', '<eos>'], ['<sos>', 'Vâng', '.', '<eos>'], ['<sos>', 'Wow', '!', '<eos>'], ['<sos>', 'Vâng', '.', '<eos>'], ['<sos>', 'NHÂN CHỨNG', '.', '<eos>'], ['<sos>', 'Tháng một', '.', '<eos>'], ['<sos>', '<unk>', '.', '<eos>'], ['<sos>', 'Không', '.', '<eos>'], ['<sos>', 'Không', '.', '<eos>'], ['<sos>', 'Chắc chắn', '.', '<eos>'], ['<sos>', 'Ok', '.', '<eos>'], ['<sos>', 'Ngủ', '.', '<eos>'], ['<sos>', 'Sai', '.', '<eos>'], ['<sos>', 'Tại sao', '?', '<eos>'], ['<sos>', 'Đồng ý', '.', '<eos>'], ['<sos>', 'Tốt', '.', '<eos>'], ['<sos>', 'Mmmm', '.', '<eos>'], ['<sos>', 'Mmmm', '.', '<eos>'], ['<sos>', 'Trật tự', '.', '<eos>'], ['<sos>', 'Okay', '.', '<eos>'], ['<sos>', 'Tạm biệt', '.', '<eos>'], ['<sos>', '<unk>', '.', '<eos>'], ['<sos>', 'Tuyệt vời', '.', '<eos>'], ['<sos>', 'Hân hạnh', '.', '<eos>'], ['<sos>', '<unk>', '.', '<eos>'], ['<sos>', 'Vâng', '.', '<eos>'], ['<sos>', '<unk>', '.', '<eos>'], ['<sos>', 'Năm', '2002', '<eos>'], ['<sos>', 'Vâng', '.', '<eos>'], ['<sos>', 'Được', 'rồi', '.', '<eos>'], ['<sos>', 'Vậy', 'rồi', ',', '<eos>'], ['<sos>', 'Cái', 'gì', '?', '<eos>'], ['<sos>', 'Đúng', 'không', '?', '<eos>'], ['<sos>', 'Xin', 'cám ơn', '.', '<eos>'], ['<sos>', 'Đúng', 'rồi', '.', '<eos>'], ['<sos>', 'Đúng', 'không', '?', '<eos>'], ['<sos>', 'Thật', 'đấy', '.', '<eos>'], ['<sos>', 'Được', 'rồi', '.', '<eos>'], ['<sos>', 'Xin', 'chào', '.', '<eos>'], ['<sos>', 'Xin', 'chào', '!', '<eos>'], ['<sos>', 'Thật', 'đấy', '.', '<eos>'], ['<sos>', 'Xin', 'chào', '.', '<eos>'], ['<sos>', 'Đúng', 'không', '?', '<eos>'], ['<sos>', 'Nên', '-', '-', '<eos>'], ['<sos>', 'Không', 'liên quan', '.', '<eos>'], ['<sos>', 'Tỉnh', 'Chimborazo', '!', '<eos>'], ['<sos>', 'Tỉnh', 'Chimborazo', '!', '<eos>'], ['<sos>', 'Tỉnh', 'Chimborazo', '!', '<eos>'], ['<sos>', 'Xin', 'cảm ơn', '.', '<eos>'], ['<sos>', 'Hơi', 'thở', '.', '<eos>'], ['<sos>', 'Cảm ơn', 'mọi', 'người', '<eos>'], ['<sos>', 'Đúng', 'không', '?', '<eos>'], ['<sos>', 'Có', 'không', '?', '<eos>'], ['<sos>', 'Sao', 'rồi', '.', '<eos>'], ['<sos>', 'Số', 'không', '.', '<eos>'], ['<sos>', 'Xin', 'cám ơn', '.', '<eos>'], ['<sos>', 'Thật', 'không', '?', '<eos>'], ['<sos>', 'Phải', 'không', '.', '<eos>'], ['<sos>', 'Được', 'rồi', '.', '<eos>'], ['<sos>', 'Phải', 'không', '?', '<eos>'], ['<sos>', 'Thú vị', 'thật', '.', '<eos>'], ['<sos>', 'Nặng', 'lắm', '!', '<eos>'], ['<sos>', 'Tiến hành', 'thôi', '!', '<eos>'], ['<sos>', 'Khả năng', 'tồn tại', '.', '<eos>'], ['<sos>', 'Được', 'thôi', '.', '<eos>'], ['<sos>', '<unk>', 'giun', '.', '<eos>'], ['<sos>', 'Thú vị', 'đấy', '!', '<eos>'], ['<sos>', 'Khi', 'nào', '?', '<eos>'], ['<sos>', 'Ôi', 'tuyệt', '.', '<eos>']])\n",
      "([['<sos>', 'OK', '.', '<eos>'], ['<sos>', 'Anyway', '.', '<eos>'], ['<sos>', 'Damn', '.', '<eos>'], ['<sos>', 'Okay', '.', '<eos>'], ['<sos>', 'Brilliant', '.', '<eos>'], ['<sos>', 'Right', '?', '<eos>'], ['<sos>', 'Okay', '?', '<eos>'], ['<sos>', 'Thanks', '.', '<eos>'], ['<sos>', 'Thanks', '.', '<eos>'], ['<sos>', 'OK', '?', '<eos>'], ['<sos>', 'God', '.', '<eos>'], ['<sos>', 'Duh', '.', '<eos>'], ['<sos>', '<unk>', '!', '<eos>'], ['<sos>', 'Thanks', '.', '<eos>'], ['<sos>', '<unk>', '.', '<eos>'], ['<sos>', 'Communism', '!', '<eos>'], ['<sos>', 'Absolutely', '.', '<eos>'], ['<sos>', 'Okay', '.', '<eos>'], ['<sos>', '<unk>', '.', '<eos>'], ['<sos>', 'Fantastic', '.', '<eos>'], ['<sos>', 'Why', '?', '<eos>'], ['<sos>', 'Okay', '?', '<eos>'], ['<sos>', 'What', '?', '<eos>'], ['<sos>', '<unk>', '!', '<eos>'], ['<sos>', 'Thanks', '.', '<eos>'], ['<sos>', 'Okay', '?', '<eos>'], ['<sos>', 'So', '...', '<eos>'], ['<sos>', '<unk>', '.', '<eos>'], ['<sos>', '<unk>', '.', '<eos>'], ['<sos>', 'Right', '?', '<eos>'], ['<sos>', 'Shame', '.', '<eos>'], ['<sos>', 'February', '.', '<eos>'], ['<sos>', 'March', '.', '<eos>'], ['<sos>', 'April', '.', '<eos>'], ['<sos>', 'May', '.', '<eos>'], ['<sos>', 'Great', '.', '<eos>'], ['<sos>', '<unk>', '.', '<eos>'], ['<sos>', 'Thanks', '.', '<eos>'], ['<sos>', 'Okay', '.', '<eos>'], ['<sos>', 'Yes', '.', '<eos>'], ['<sos>', 'Congratulations', '.', '<eos>'], ['<sos>', 'Incredible', '.', '<eos>'], ['<sos>', 'What', '?', '<eos>'], ['<sos>', 'Please', '.', '<eos>'], ['<sos>', 'Yeah', '.', '<eos>'], ['<sos>', 'Whatever', '.', '<eos>'], ['<sos>', 'Anyone', '?', '<eos>'], ['<sos>', 'Joey', '!', '<eos>'], ['<sos>', 'What', '?', '<eos>'], ['<sos>', 'Whatever', '.', '<eos>'], ['<sos>', 'Right', '?', '<eos>'], ['<sos>', 'TV', '.', '<eos>'], ['<sos>', 'Clouds', '.', '<eos>'], ['<sos>', 'Thanks', '.', '<eos>'], ['<sos>', 'Okay', '?', '<eos>'], ['<sos>', '<unk>', '.', '<eos>'], ['<sos>', 'Right', '?', '<eos>'], ['<sos>', 'Anyone', '?', '<eos>'], ['<sos>', 'Right', '?', '<eos>'], ['<sos>', 'Okay', '.', '<eos>'], ['<sos>', 'Hi', '.', '<eos>'], ['<sos>', '<unk>', '!', '<eos>'], ['<sos>', 'Like', '.', '<eos>'], ['<sos>', 'Yay', '!', '<eos>'], ['<sos>', 'Dogs', '.', '<eos>'], ['<sos>', 'Thanks', '.', '<eos>'], ['<sos>', 'Gotcha', '.', '<eos>'], ['<sos>', 'No', '.', '<eos>'], ['<sos>', '529', '.', '<eos>'], ['<sos>', '<unk>', '.', '<eos>'], ['<sos>', '<unk>', '.', '<eos>'], ['<sos>', 'Yes', '.', '<eos>'], ['<sos>', 'Yes', '.', '<eos>'], ['<sos>', 'Yeah', '.', '<eos>'], ['<sos>', '<unk>', '.', '<eos>'], ['<sos>', '<unk>', '.', '<eos>'], ['<sos>', '<unk>', '.', '<eos>'], ['<sos>', 'Thanks', '.', '<eos>'], ['<sos>', 'Yeah', '.', '<eos>'], ['<sos>', 'Right', '?', '<eos>'], ['<sos>', 'Anyone', '?', '<eos>'], ['<sos>', 'Yeah', '.', '<eos>'], ['<sos>', 'Yeah', '.', '<eos>'], ['<sos>', 'Six', '.', '<eos>'], ['<sos>', 'Anybody', '?', '<eos>'], ['<sos>', 'Close', '.', '<eos>'], ['<sos>', 'Ready', '?', '<eos>'], ['<sos>', 'Okay', '.', '<eos>'], ['<sos>', 'How', '?', '<eos>'], ['<sos>', 'Go', '!', '<eos>'], ['<sos>', '<unk>', '<unk>', '<eos>'], ['<sos>', 'Yeah', '.', '<eos>'], ['<sos>', '<unk>', '.', '<eos>'], ['<sos>', 'Thank', 'you', '.', '<eos>'], ['<sos>', 'Thank', 'you', '.', '<eos>'], ['<sos>', 'Uh', 'oh', '.', '<eos>'], ['<sos>', 'Thank', 'you', '.', '<eos>'], ['<sos>', 'Thank', 'you', '.', '<eos>'], ['<sos>', 'Thank', 'you', '.', '<eos>'], ['<sos>', 'Thank', 'you', '.', '<eos>'], ['<sos>', 'Thank', 'you', '.', '<eos>'], ['<sos>', 'Thank', 'you', '.', '<eos>'], ['<sos>', '<unk>', '<unk>', '.', '<eos>'], ['<sos>', 'Thank', 'you', '.', '<eos>'], ['<sos>', 'Thank', 'you', '.', '<eos>'], ['<sos>', 'Thank', 'you', '.', '<eos>'], ['<sos>', 'Thank', 'you', '.', '<eos>'], ['<sos>', 'Thank', 'you', '.', '<eos>'], ['<sos>', 'Thank', 'you', '.', '<eos>'], ['<sos>', 'Thank', 'you', '.', '<eos>'], ['<sos>', 'Thank', 'you', '.', '<eos>'], ['<sos>', 'Thank', 'you', '.', '<eos>'], ['<sos>', 'Thank', 'you', '.', '<eos>'], ['<sos>', 'Thank', 'you', '.', '<eos>'], ['<sos>', 'Thank', 'you', '.', '<eos>'], ['<sos>', 'The', 'trumpet', '.', '<eos>'], ['<sos>', 'Thank', 'you', '.', '<eos>'], ['<sos>', 'Thank', 'you', '.', '<eos>'], ['<sos>', 'Thank', 'you', '.', '<eos>'], ['<sos>', 'Thank', 'you', '.', '<eos>'], ['<sos>', 'Thank', 'you', '.', '<eos>'], ['<sos>', 'Thank', 'you', '.', '<eos>'], ['<sos>', 'Thank', 'you', '.', '<eos>'], ['<sos>', 'Thank', 'you', '.', '<eos>'], ['<sos>', 'Thank', 'you', '.', '<eos>'], ['<sos>', 'All', 'right', '.', '<eos>'], ['<sos>', 'Susan', 'Boyle', '.', '<eos>'], ['<sos>', 'Thank', 'you', '.', '<eos>']], [['<sos>', 'Được', 'rồi', '.', '<eos>'], ['<sos>', 'Được', 'rồi', '.', '<eos>'], ['<sos>', '<unk>', 'thật', '.', '<eos>'], ['<sos>', 'Được', 'rồi', '.', '<eos>'], ['<sos>', 'Thật', 'tuyệt vời', '.', '<eos>'], ['<sos>', 'Đúng', 'không', '?', '<eos>'], ['<sos>', 'Được', 'chứ', '?', '<eos>'], ['<sos>', 'Xin', 'cảm ơn', '.', '<eos>'], ['<sos>', 'Xin', 'cảm ơn', '.', '<eos>'], ['<sos>', 'Được', 'chứ', '?', '<eos>'], ['<sos>', 'Chúa', 'ơi', '.', '<eos>'], ['<sos>', '<unk>', 'sao', '.', '<eos>'], ['<sos>', 'Ngon', 'tuyệt', '!', '<eos>'], ['<sos>', 'Xin', 'cảm ơn', '.', '<eos>'], ['<sos>', '<unk>', 'cao trào', '.', '<eos>'], ['<sos>', 'Chủ nghĩa', 'cộng sản', '!', '<eos>'], ['<sos>', 'Hoàn toàn', 'có thể', '.', '<eos>'], ['<sos>', 'Được', 'rồi', '.', '<eos>'], ['<sos>', '<unk>', '.', 'com', '<eos>'], ['<sos>', 'Quá', 'tuyệt vời', '.', '<eos>'], ['<sos>', 'C.', 'Tại sao', '?', '<eos>'], ['<sos>', 'Đồng ý', 'chứ', '?', '<eos>'], ['<sos>', 'Cái', 'gì', '?', '<eos>'], ['<sos>', 'Và', 'đây', '!', '<eos>'], ['<sos>', 'Cảm ơn', 'cô', '.', '<eos>'], ['<sos>', 'Đúng', 'không', '?', '<eos>'], ['<sos>', 'Vậy', 'thì', '...', '<eos>'], ['<sos>', '<unk>', 'thay', '.', '<eos>'], ['<sos>', '<unk>', 'thật', '.', '<eos>'], ['<sos>', 'Đúng', 'không', '?', '<eos>'], ['<sos>', 'Thật', 'là', 'xấu hổ', '<eos>'], ['<sos>', 'Tháng', 'hai', '.', '<eos>'], ['<sos>', 'Tháng', 'ba', '.', '<eos>'], ['<sos>', 'Tháng', 'tư', '.', '<eos>'], ['<sos>', 'Tháng', 'năm', '.', '<eos>'], ['<sos>', 'Thật', 'tuyệt', '.', '<eos>'], ['<sos>', 'Hãy', 'giải ngũ', '.', '<eos>'], ['<sos>', 'Xin', 'cảm ơn', '.', '<eos>'], ['<sos>', 'Được', 'thôi', '.', '<eos>'], ['<sos>', 'Có', 'đó', '.', '<eos>'], ['<sos>', 'Xin', 'chúc mừng', '.', '<eos>'], ['<sos>', 'Thật', 'kì diệu', '.', '<eos>'], ['<sos>', 'Sao', 'ạ', '?', '<eos>'], ['<sos>', 'Làm ơn', 'đi', 'mà', '.', '<eos>'], ['<sos>', 'Vâng', 'đúng', 'vậy', '.', '<eos>'], ['<sos>', 'Sao', 'cũng', 'được', '.', '<eos>'], ['<sos>', 'Có', 'ai', 'không', '?', '<eos>'], ['<sos>', 'Anh chàng', ':', 'Joey', '!', '<eos>'], ['<sos>', 'Cái', 'gì', 'đây', '?', '<eos>'], ['<sos>', 'Gì', 'cũng', 'được', '.', '<eos>'], ['<sos>', 'Phải', 'vậy', 'không', '?', '<eos>'], ['<sos>', 'Đứa', 'trẻ', ':', 'TV', '<eos>'], ['<sos>', 'Những', 'đám', 'mây', '.', '<eos>'], ['<sos>', 'Cảm ơn', 'các', 'bạn', '.', '<eos>'], ['<sos>', 'Được', 'chứ', 'ạ', '?', '<eos>'], ['<sos>', 'Các', 'đường', 'lớn', '.', '<eos>'], ['<sos>', 'Phải', 'không', 'ạ', '?', '<eos>'], ['<sos>', 'Hay', 'ai', 'đó', '?', '<eos>'], ['<sos>', 'Đúng', 'không', 'nào', '?', '<eos>'], ['<sos>', 'Được', 'rồi', '.', '.', '<eos>'], ['<sos>', 'Chào', 'mọi', 'người', '.', '<eos>'], ['<sos>', 'Hãy', 'cùng', 'tham gia', '!', '<eos>'], ['<sos>', 'Thích', 'điều', 'này', '!', '<eos>'], ['<sos>', 'Trong', 'phim', ':', 'Yay', '!', '<eos>'], ['<sos>', 'tiếng', 'sủa', 'Những', 'chú', 'chó', '<eos>'], ['<sos>', 'Xin', 'cám ơn', 'các', 'ban', '.', '<eos>'], ['<sos>', 'Bắt', 'được', 'mày', 'rồi', '.', '<eos>'], ['<sos>', 'Người', 'phụ nữ', ':', 'Không', '.', '<eos>'], ['<sos>', 'Người', 'phụ nữ', ':', '529', '.', '<eos>'], ['<sos>', 'Người', 'đàn ông', ':', '<unk>', '.', '<eos>'], ['<sos>', 'Người', 'đàn ông', ':', '<unk>', '.', '<eos>'], ['<sos>', 'Người', 'phụ nữ', ':', 'Đúng', '.', '<eos>'], ['<sos>', 'Người', 'phụ nữ', ':', 'Đúng', '.', '<eos>'], ['<sos>', 'Người', 'đàn ông', ':', 'vâng', '.', '<eos>'], ['<sos>', 'Người', 'phụ nữ', ':', '<unk>', '.', '<eos>'], ['<sos>', 'Người', 'đàn ông', ':', '<unk>', '.', '<eos>'], ['<sos>', 'Người', 'đàn ông', ':', '<unk>', '.', '<eos>'], ['<sos>', 'Brenda', 'Laurel', ':', 'Cảm ơn', '.', '<eos>'], ['<sos>', 'Vâng', ',', 'thế', 'đấy', '!', '<eos>'], ['<sos>', 'Chẳng', 'phải', 'thế', 'sao', '?', '<eos>'], ['<sos>', 'Có', 'ai', 'biết', 'không', '?', '<eos>'], ['<sos>', 'Đứa', 'trẻ', ':', 'Vâng', '.', '<eos>'], ['<sos>', 'Đứa', 'trẻ', ':', 'Có', '.', '<eos>'], ['<sos>', 'Câu', 'trả lời', 'là', '6', '.', '<eos>'], ['<sos>', 'Có', 'ai', 'không', 'ạ', '?', '<eos>'], ['<sos>', 'Hãy', 'tắt', 'nó', 'giúp', 'tôi', '.', '<eos>'], ['<sos>', 'Các', 'bạn', 'đã', 'sẵn sàng', 'chưa', '?', '<eos>'], ['<sos>', 'Người', 'đàn ông', ':', 'Được', 'rồi', '.', '<eos>'], ['<sos>', 'Nhưng', 'làm', 'thế nào', 'đây', '?', '!', '<eos>'], ['<sos>', 'Người', 'đàn ông', '#', '5', ':', 'Đi', 'nào', '!', '<eos>'], ['<sos>', 'David Gallo', 'trình chiếu', 'về', 'những', 'điều', 'lí thú', 'dưới', 'mặt nước', '<eos>'], ['<sos>', 'trước', 'công chúng', 'cho', 'tới', 'hôm nay', '.', 'Vâng', '.', '<eos>'], ['<sos>', '<unk>', '.', 'Chúng tôi', 'đặt', 'cái', 'tên', 'này', 'cho', 'mạng', 'không', 'dây', '<eos>'], ['<sos>', 'Cảm ơn', '<eos>'], ['<sos>', 'cảm ơn', '<eos>'], ['<sos>', 'Ồ', '<eos>'], ['<sos>', 'Cám ơn', '<eos>'], ['<sos>', 'Cảm ơn', '<eos>'], ['<sos>', 'Cảm ơn', '<eos>'], ['<sos>', 'Cám ơn', '<eos>'], ['<sos>', 'Cảm ơn', '<eos>'], ['<sos>', 'Cảm ơn', '<eos>'], ['<sos>', '<unk>', '<eos>'], ['<sos>', 'cảm ơn', '<eos>'], ['<sos>', 'cảm ơn', '<eos>'], ['<sos>', 'Cám ơn', '<eos>'], ['<sos>', 'Cảm ơn', '<eos>'], ['<sos>', 'Cảm ơn', '<eos>'], ['<sos>', 'Cảm ơn', '<eos>'], ['<sos>', 'Cảm ơn', '<eos>'], ['<sos>', 'Cảm ơn', '<eos>'], ['<sos>', 'Cảm ơn', '<eos>'], ['<sos>', 'Cảm ơn', '<eos>'], ['<sos>', 'Cảm ơn', '<eos>'], ['<sos>', 'Cám ơn', '<eos>'], ['<sos>', '<unk>', '<eos>'], ['<sos>', 'Cám ơn', '<eos>'], ['<sos>', 'Cảm ơn', '<eos>'], ['<sos>', 'Cảm ơn', '<eos>'], ['<sos>', 'Cảm ơn', '<eos>'], ['<sos>', 'Cảm ơn', '<eos>'], ['<sos>', 'Cảm ơn', '<eos>'], ['<sos>', 'Cám ơn', '<eos>'], ['<sos>', 'Cảm ơn', '<eos>'], ['<sos>', 'Cám ơn', '<eos>'], ['<sos>', 'Vâng', '<eos>'], ['<sos>', '<unk>', '<eos>'], ['<sos>', 'Cảm ơn', '<eos>']])\n",
      "([['<sos>', 'Thank', 'you', '.', '<eos>'], ['<sos>', 'Thank', 'you', '.', '<eos>'], ['<sos>', 'Thank', 'you', '.', '<eos>'], ['<sos>', 'Thank', 'you', '.', '<eos>'], ['<sos>', 'Thank', 'you', '.', '<eos>'], ['<sos>', 'Thank', 'you', '.', '<eos>'], ['<sos>', 'Thank', 'you', '.', '<eos>'], ['<sos>', 'So', 'congratulations', '.', '<eos>'], ['<sos>', 'Thank', 'you', '.', '<eos>'], ['<sos>', 'Thank', 'you', '.', '<eos>'], ['<sos>', 'Thank', 'you', '.', '<eos>'], ['<sos>', 'Thank', 'you', '.', '<eos>'], ['<sos>', 'Thank', 'you', '.', '<eos>'], ['<sos>', 'Thank', 'you', '.', '<eos>'], ['<sos>', 'Thank', 'you', '.', '<eos>'], ['<sos>', 'Thank', 'you', '.', '<eos>'], ['<sos>', 'Thank', 'you', '.', '<eos>'], ['<sos>', 'Thank', 'you', '.', '<eos>'], ['<sos>', 'Thank', 'you', '.', '<eos>'], ['<sos>', 'Thank', 'you', '.', '<eos>'], ['<sos>', 'Thank', 'you', '.', '<eos>'], ['<sos>', 'Thank', 'you', '.', '<eos>'], ['<sos>', 'Thank', 'you', '.', '<eos>'], ['<sos>', 'Thank', 'you', '.', '<eos>'], ['<sos>', 'Thank', 'you', '.', '<eos>'], ['<sos>', 'Come', 'on', '.', '<eos>'], ['<sos>', 'Come', 'on', '.', '<eos>'], ['<sos>', 'Thank', 'you', '.', '<eos>'], ['<sos>', 'Thank', 'you', '.', '<eos>'], ['<sos>', 'Thank', 'you', '.', '<eos>'], ['<sos>', 'Thank', 'you', '.', '<eos>'], ['<sos>', 'Thank', 'you', '.', '<eos>'], ['<sos>', 'Thank', 'you', '.', '<eos>'], ['<sos>', 'Thank', 'you', '.', '<eos>'], ['<sos>', 'Thank', 'you', '.', '<eos>'], ['<sos>', 'Thank', 'you', '.', '<eos>'], ['<sos>', 'Thank', 'you', '.', '<eos>'], ['<sos>', 'Thank', 'you', '.', '<eos>'], ['<sos>', 'Thank', 'you', '.', '<eos>'], ['<sos>', 'Thank', 'you', '.', '<eos>'], ['<sos>', 'Thank', 'you', '.', '<eos>'], ['<sos>', 'Thank', 'you', '.', '<eos>'], ['<sos>', 'Thank', 'you', '.', '<eos>'], ['<sos>', 'Thank', 'you', '.', '<eos>'], ['<sos>', 'Block', 'reform', '.', '<eos>'], ['<sos>', 'Thank', 'you', '.', '<eos>'], ['<sos>', 'Thank', 'you', '.', '<eos>'], ['<sos>', 'New', 'York', '.', '<eos>'], ['<sos>', 'Suzanne', 'Lee', '.', '<eos>'], ['<sos>', 'If', 'only', '.', '<eos>'], ['<sos>', 'Costa', 'Rica', '.', '<eos>'], ['<sos>', 'Thank', 'you', '.', '<eos>'], ['<sos>', 'Thank', 'you', '.', '<eos>'], ['<sos>', 'Thank', 'you', '.', '<eos>'], ['<sos>', 'Thank', 'you', '.', '<eos>'], ['<sos>', 'Harvest', 'bombs', '.', '<eos>'], ['<sos>', 'Thank', 'you', '.', '<eos>'], ['<sos>', 'Thank', 'you', '.', '<eos>'], ['<sos>', 'Thank', 'you', '.', '<eos>'], ['<sos>', 'Thank', 'you', '.', '<eos>'], ['<sos>', 'Thank', 'you', '.', '<eos>'], ['<sos>', 'Thank', 'you', '.', '<eos>'], ['<sos>', 'Thank', 'you', '.', '<eos>'], ['<sos>', 'Thank', 'you', '.', '<eos>'], ['<sos>', 'Thank', 'you', '.', '<eos>'], ['<sos>', 'Thank', 'you', '.', '<eos>'], ['<sos>', 'Thank', 'you', '.', '<eos>'], ['<sos>', 'Thank', 'you', '.', '<eos>'], ['<sos>', 'Thank', 'you', '.', '<eos>'], ['<sos>', 'Thank', 'you', '.', '<eos>'], ['<sos>', 'Thank', 'you', '.', '<eos>'], ['<sos>', 'Thank', 'you', '.', '<eos>'], ['<sos>', 'Thank', 'you', '.', '<eos>'], ['<sos>', 'Thank', 'you', '.', '<eos>'], ['<sos>', 'Thank', 'you', '.', '<eos>'], ['<sos>', 'Thank', 'you', '.', '<eos>'], ['<sos>', 'Thank', 'you', '.', '<eos>'], ['<sos>', 'Thank', 'you', '.', '<eos>'], ['<sos>', 'Thank', 'you', '.', '<eos>'], ['<sos>', 'Thank', 'you', '.', '<eos>'], ['<sos>', 'Thank', 'you', '.', '<eos>'], ['<sos>', 'Thank', 'you', '.', '<eos>'], ['<sos>', 'Thank', 'you', '.', '<eos>'], ['<sos>', 'Thank', 'you', '.', '<eos>'], ['<sos>', 'Thank', 'you', '.', '<eos>'], ['<sos>', 'Thank', 'you', '.', '<eos>'], ['<sos>', 'Thank', 'you', '.', '<eos>'], ['<sos>', 'Thank', 'you', '.', '<eos>'], ['<sos>', 'Thank', 'you', '.', '<eos>'], ['<sos>', 'But', 'anyways', '.', '<eos>'], ['<sos>', 'Thank', 'you', '.', '<eos>'], ['<sos>', '10', 'seconds', '.', '<eos>'], ['<sos>', 'Thank', 'you', '.', '<eos>'], ['<sos>', 'Thank', 'you', '.', '<eos>'], ['<sos>', 'Thank', 'you', '.', '<eos>'], ['<sos>', 'Thank', 'you', '.', '<eos>'], ['<sos>', 'Thank', 'you', '.', '<eos>'], ['<sos>', 'Thank', 'you', '.', '<eos>'], ['<sos>', 'Thank', 'you', '.', '<eos>'], ['<sos>', 'The', 'USA', '.', '<eos>'], ['<sos>', '<unk>', '<unk>', '.', '<eos>'], ['<sos>', 'Thank', 'you', '.', '<eos>'], ['<sos>', 'Thank', 'you', '.', '<eos>'], ['<sos>', 'Thank', 'you', '.', '<eos>'], ['<sos>', 'Thank', 'you', '.', '<eos>'], ['<sos>', 'Thank', 'you', '.', '<eos>'], ['<sos>', 'Thank', 'you', '.', '<eos>'], ['<sos>', 'Thank', 'you', '.', '<eos>'], ['<sos>', 'Thank', 'you', '.', '<eos>'], ['<sos>', 'Thank', 'you', '.', '<eos>'], ['<sos>', 'Thank', 'you', '.', '<eos>'], ['<sos>', 'Thank', 'you', '.', '<eos>'], ['<sos>', 'Thank', 'you', '.', '<eos>'], ['<sos>', 'Thank', 'you', '!', '<eos>'], ['<sos>', 'Thank', 'you', '.', '<eos>'], ['<sos>', 'Thank', 'you', '.', '<eos>'], ['<sos>', 'Thank', 'you', '.', '<eos>'], ['<sos>', 'Thank', 'you', '.', '<eos>'], ['<sos>', 'Thank', 'you', '.', '<eos>'], ['<sos>', 'Thank', 'you', '.', '<eos>'], ['<sos>', 'Thank', 'you', '.', '<eos>'], ['<sos>', 'Oh', 'yeah', '.', '<eos>'], ['<sos>', 'Thank', 'you', '.', '<eos>'], ['<sos>', 'Thank', 'you', '.', '<eos>'], ['<sos>', 'Thank', 'you', '.', '<eos>'], ['<sos>', 'Thank', 'you', '.', '<eos>'], ['<sos>', 'Thank', 'you', '.', '<eos>'], ['<sos>', 'Thank', 'you', '.', '<eos>']], [['<sos>', 'cám ơn', '<eos>'], ['<sos>', 'Cảm ơn', '<eos>'], ['<sos>', 'Cảm ơn', '<eos>'], ['<sos>', 'Cảm ơn', '<eos>'], ['<sos>', 'Cảm ơn', '<eos>'], ['<sos>', 'Cảm ơn', '<eos>'], ['<sos>', 'Cảm ơn', '.', '<eos>'], ['<sos>', 'Xin', 'chúc mừng', '<eos>'], ['<sos>', 'Cảm ơn', '.', '<eos>'], ['<sos>', 'cảm ơn', '.', '<eos>'], ['<sos>', 'Xin', 'cảm ơn', '<eos>'], ['<sos>', 'Xin', 'cám ơn', '<eos>'], ['<sos>', 'Cám ơn', '.', '<eos>'], ['<sos>', 'Cảm ơn', '.', '<eos>'], ['<sos>', 'Cảm ơn', '.', '<eos>'], ['<sos>', 'Cám ơn', ',', '<eos>'], ['<sos>', 'Cảm ơn', '.', '<eos>'], ['<sos>', 'Cảm ơn', '.', '<eos>'], ['<sos>', 'Cảm ơn', '.', '<eos>'], ['<sos>', 'Cảm ơn', '.', '<eos>'], ['<sos>', 'Cảm ơn', '.', '<eos>'], ['<sos>', 'Xin', 'cảm ơn', '<eos>'], ['<sos>', 'Cảm ơn', '.', '<eos>'], ['<sos>', 'Cảm ơn', '.', '<eos>'], ['<sos>', 'Cám ơn', '.', '<eos>'], ['<sos>', 'Thôi', 'nào', '<eos>'], ['<sos>', 'Thôi', 'nào', '<eos>'], ['<sos>', 'Cám ơn', '.', '<eos>'], ['<sos>', 'Cảm ơn', '.', '<eos>'], ['<sos>', 'Cám ơn', '.', '<eos>'], ['<sos>', 'Cám ơn', '.', '<eos>'], ['<sos>', 'Cảm ơn', '.', '<eos>'], ['<sos>', 'Cảm ơn', '.', '<eos>'], ['<sos>', 'Cảm ơn', '.', '<eos>'], ['<sos>', 'Cảm ơn', '.', '<eos>'], ['<sos>', 'Cảm ơn', '.', '<eos>'], ['<sos>', 'Cảm ơn', '.', '<eos>'], ['<sos>', 'Cám ơn', '.', '<eos>'], ['<sos>', 'Xin', 'cảm ơn', '<eos>'], ['<sos>', 'Xin', 'cảm ơn', '<eos>'], ['<sos>', 'Cảm ơn', '.', '<eos>'], ['<sos>', 'Cảm ơn', '.', '<eos>'], ['<sos>', 'Cảm ơn', '.', '<eos>'], ['<sos>', 'Cảm ơn', '.', '<eos>'], ['<sos>', 'hạn chế', 'cải cách', '<eos>'], ['<sos>', 'Cám ơn', '.', '<eos>'], ['<sos>', 'Cảm ơn', '.', '<eos>'], ['<sos>', 'New York', '.', '<eos>'], ['<sos>', '<unk>', '.', '<eos>'], ['<sos>', 'giá', 'mà', '<eos>'], ['<sos>', 'Costa Rica', '.', '<eos>'], ['<sos>', 'Cảm ơn', '.', '<eos>'], ['<sos>', 'Cám ơn', '.', '<eos>'], ['<sos>', 'Cảm ơn', '.', '<eos>'], ['<sos>', 'Cảm ơn', '.', '<eos>'], ['<sos>', '<unk>', '.', '<eos>'], ['<sos>', 'Cám ơn', '.', '<eos>'], ['<sos>', 'Cảm ơn', '.', '<eos>'], ['<sos>', 'Cảm ơn', '.', '<eos>'], ['<sos>', 'Cám ơn', '.', '<eos>'], ['<sos>', 'Cám ơn', '.', '<eos>'], ['<sos>', 'Cảm ơn', '.', '<eos>'], ['<sos>', 'Xin', 'cám ơn', '<eos>'], ['<sos>', 'Cảm ơn', '.', '<eos>'], ['<sos>', 'Cảm ơn', '.', '<eos>'], ['<sos>', 'Xin', 'cảm ơn', '<eos>'], ['<sos>', 'Cảm ơn', '.', '<eos>'], ['<sos>', 'Xin', 'cảm ơn', '<eos>'], ['<sos>', 'Cảm ơn', '.', '<eos>'], ['<sos>', 'Cảm ơn', '.', '<eos>'], ['<sos>', 'Cảm ơn', '.', '<eos>'], ['<sos>', 'Cảm ơn', '.', '<eos>'], ['<sos>', 'Cảm ơn', '.', '<eos>'], ['<sos>', 'Cảm ơn', '.', '<eos>'], ['<sos>', 'Cảm ơn', '.', '<eos>'], ['<sos>', 'Cám ơn', '.', '<eos>'], ['<sos>', 'Cảm ơn', '.', '<eos>'], ['<sos>', 'Cảm ơn', '.', '<eos>'], ['<sos>', 'Cám ơn', '.', '<eos>'], ['<sos>', 'Cảm ơn', '.', '<eos>'], ['<sos>', 'Xin', 'cám ơn', '<eos>'], ['<sos>', 'Cám ơn', '.', '<eos>'], ['<sos>', 'Xin', 'cảm ơn', '<eos>'], ['<sos>', 'Cảm ơn', '.', '<eos>'], ['<sos>', 'Cảm ơn', '.', '<eos>'], ['<sos>', 'Cám ơn', '.', '<eos>'], ['<sos>', 'Cám ơn', '.', '<eos>'], ['<sos>', 'Xin', 'cảm ơn', '<eos>'], ['<sos>', 'Cảm ơn', '.', '<eos>'], ['<sos>', 'Như', 'dù sao', '<eos>'], ['<sos>', 'Cảm ơn', '.', '<eos>'], ['<sos>', '10', 'giây', '<eos>'], ['<sos>', 'Cảm ơn', '.', '<eos>'], ['<sos>', 'Cảm ơn', '.', '<eos>'], ['<sos>', 'Cảm ơn', '.', '<eos>'], ['<sos>', 'Cảm ơn', '.', '<eos>'], ['<sos>', 'Cảm ơn', '.', '<eos>'], ['<sos>', 'Cảm ơn', '.', '<eos>'], ['<sos>', 'Xin', 'cám ơn', '<eos>'], ['<sos>', 'Mỹ', '.', '<eos>'], ['<sos>', '<unk>', '.', '<eos>'], ['<sos>', 'Cám ơn', '.', '<eos>'], ['<sos>', 'Cám ơn', '.', '<eos>'], ['<sos>', 'Cám ơn', '.', '<eos>'], ['<sos>', 'Cảm ơn', '.', '<eos>'], ['<sos>', 'Cảm ơn', '.', '<eos>'], ['<sos>', 'Cảm ơn', '.', '<eos>'], ['<sos>', 'Cảm ơn', '.', '<eos>'], ['<sos>', 'Cám ơn', '.', '<eos>'], ['<sos>', 'Cảm ơn', '.', '<eos>'], ['<sos>', 'Cảm ơn', ',', '<eos>'], ['<sos>', 'Cảm ơn', '.', '<eos>'], ['<sos>', 'Cảm ơn', '.', '<eos>'], ['<sos>', 'Cám ơn', '!', '<eos>'], ['<sos>', 'Cảm ơn', '.', '<eos>'], ['<sos>', 'xin', 'cảm ơn', '<eos>'], ['<sos>', 'Cảm ơn', '.', '<eos>'], ['<sos>', 'Xin', 'cảm ơn', '<eos>'], ['<sos>', 'Cám ơn', '.', '<eos>'], ['<sos>', 'Cám ơn', '.', '<eos>'], ['<sos>', 'Cảm ơn', '.', '<eos>'], ['<sos>', '<unk>', '!', '<eos>'], ['<sos>', 'Cảm ơn', '.', '<eos>'], ['<sos>', 'Cảm ơn', '.', '<eos>'], ['<sos>', 'Cảm ơn', '.', '<eos>'], ['<sos>', 'Cảm ơn', '.', '<eos>'], ['<sos>', 'Cảm ơn', '.', '<eos>'], ['<sos>', 'Cảm ơn', '.', '<eos>']])\n"
     ]
    }
   ],
   "source": [
    "for i in range(5):\n",
    "    print(train_data[i])"
   ]
  },
  {
   "cell_type": "code",
   "execution_count": 15,
   "metadata": {},
   "outputs": [],
   "source": [
    "def padding_batch(b):\n",
    "    maxlen = max([len(x) for x in b])\n",
    "    for tkl in b:\n",
    "        for i in range(maxlen - len(tkl)):\n",
    "            tkl.append('<pad>')\n",
    "\n",
    "def padding(bb):\n",
    "    for ben, bvi in bb:\n",
    "        padding_batch(ben)\n",
    "        padding_batch(bvi)"
   ]
  },
  {
   "cell_type": "code",
   "execution_count": 16,
   "metadata": {},
   "outputs": [],
   "source": [
    "padding(train_data)"
   ]
  },
  {
   "cell_type": "code",
   "execution_count": 17,
   "metadata": {},
   "outputs": [
    {
     "name": "stdout",
     "output_type": "stream",
     "text": [
      "([['<sos>', '<eos>'], ['<sos>', '<eos>'], ['<sos>', '<eos>'], ['<sos>', '<eos>'], ['<sos>', '<eos>'], ['<sos>', '<eos>'], ['<sos>', '<eos>'], ['<sos>', '<eos>'], ['<sos>', '<eos>'], ['<sos>', '<eos>'], ['<sos>', '<eos>'], ['<sos>', '<eos>'], ['<sos>', '<eos>'], ['<sos>', '<eos>'], ['<sos>', '<eos>'], ['<sos>', '<eos>'], ['<sos>', '<eos>'], ['<sos>', '<eos>'], ['<sos>', '<eos>'], ['<sos>', '<eos>'], ['<sos>', '<eos>'], ['<sos>', '<eos>'], ['<sos>', '<eos>'], ['<sos>', '<eos>'], ['<sos>', '<eos>'], ['<sos>', '<eos>'], ['<sos>', '<eos>'], ['<sos>', '<eos>'], ['<sos>', '<eos>'], ['<sos>', '<eos>'], ['<sos>', '<eos>'], ['<sos>', '<eos>'], ['<sos>', '<eos>'], ['<sos>', '<eos>'], ['<sos>', '<eos>'], ['<sos>', '<eos>'], ['<sos>', '<eos>'], ['<sos>', '<eos>'], ['<sos>', '<eos>'], ['<sos>', '<eos>'], ['<sos>', '<eos>'], ['<sos>', '<eos>'], ['<sos>', '<eos>'], ['<sos>', '<eos>'], ['<sos>', '<eos>'], ['<sos>', '<eos>'], ['<sos>', '<eos>'], ['<sos>', '<eos>'], ['<sos>', '<eos>'], ['<sos>', '<eos>'], ['<sos>', '<eos>'], ['<sos>', '<eos>'], ['<sos>', '<eos>'], ['<sos>', '<eos>'], ['<sos>', '<eos>'], ['<sos>', '<eos>'], ['<sos>', '<eos>'], ['<sos>', '<eos>'], ['<sos>', '<eos>'], ['<sos>', '<eos>'], ['<sos>', '<eos>'], ['<sos>', '<eos>'], ['<sos>', '<eos>'], ['<sos>', '<eos>'], ['<sos>', '<eos>'], ['<sos>', '<eos>'], ['<sos>', '<eos>'], ['<sos>', '<eos>'], ['<sos>', '<eos>'], ['<sos>', '<eos>'], ['<sos>', '<eos>'], ['<sos>', '<eos>'], ['<sos>', '<eos>'], ['<sos>', '<eos>'], ['<sos>', '<eos>'], ['<sos>', '<eos>'], ['<sos>', '<eos>'], ['<sos>', '<eos>'], ['<sos>', '<eos>'], ['<sos>', '<eos>'], ['<sos>', '<eos>'], ['<sos>', '<eos>'], ['<sos>', '<eos>'], ['<sos>', '<eos>'], ['<sos>', '<eos>'], ['<sos>', '<eos>'], ['<sos>', '<eos>'], ['<sos>', '<eos>'], ['<sos>', '<eos>'], ['<sos>', '<eos>'], ['<sos>', '<eos>'], ['<sos>', '<eos>'], ['<sos>', '<eos>'], ['<sos>', '<eos>'], ['<sos>', '<eos>'], ['<sos>', '<eos>'], ['<sos>', '<eos>'], ['<sos>', '<eos>'], ['<sos>', '<eos>'], ['<sos>', '<eos>'], ['<sos>', '<eos>'], ['<sos>', '<eos>'], ['<sos>', '<eos>'], ['<sos>', '<eos>'], ['<sos>', '<eos>'], ['<sos>', '<eos>'], ['<sos>', '<eos>'], ['<sos>', '<eos>'], ['<sos>', '<eos>'], ['<sos>', '<eos>'], ['<sos>', '<eos>'], ['<sos>', '<eos>'], ['<sos>', '<eos>'], ['<sos>', '<eos>'], ['<sos>', '<eos>'], ['<sos>', '<eos>'], ['<sos>', '<eos>'], ['<sos>', '<eos>'], ['<sos>', '<eos>'], ['<sos>', '<eos>'], ['<sos>', '<eos>'], ['<sos>', '<eos>'], ['<sos>', '<eos>'], ['<sos>', '<eos>'], ['<sos>', '<eos>'], ['<sos>', '<eos>'], ['<sos>', '<eos>'], ['<sos>', '<eos>']], [['<sos>', '<eos>', '<pad>'], ['<sos>', '<eos>', '<pad>'], ['<sos>', '<eos>', '<pad>'], ['<sos>', '<eos>', '<pad>'], ['<sos>', '<eos>', '<pad>'], ['<sos>', '<eos>', '<pad>'], ['<sos>', '<eos>', '<pad>'], ['<sos>', '<eos>', '<pad>'], ['<sos>', '<eos>', '<pad>'], ['<sos>', '<eos>', '<pad>'], ['<sos>', '<eos>', '<pad>'], ['<sos>', '<eos>', '<pad>'], ['<sos>', '<eos>', '<pad>'], ['<sos>', '<eos>', '<pad>'], ['<sos>', '<eos>', '<pad>'], ['<sos>', '<eos>', '<pad>'], ['<sos>', '<eos>', '<pad>'], ['<sos>', '<eos>', '<pad>'], ['<sos>', '<eos>', '<pad>'], ['<sos>', '<eos>', '<pad>'], ['<sos>', '<eos>', '<pad>'], ['<sos>', '<eos>', '<pad>'], ['<sos>', '<eos>', '<pad>'], ['<sos>', '<eos>', '<pad>'], ['<sos>', '<eos>', '<pad>'], ['<sos>', '<eos>', '<pad>'], ['<sos>', '<eos>', '<pad>'], ['<sos>', '<eos>', '<pad>'], ['<sos>', '<eos>', '<pad>'], ['<sos>', '<eos>', '<pad>'], ['<sos>', '<eos>', '<pad>'], ['<sos>', '<eos>', '<pad>'], ['<sos>', '<eos>', '<pad>'], ['<sos>', '<eos>', '<pad>'], ['<sos>', '<eos>', '<pad>'], ['<sos>', '<eos>', '<pad>'], ['<sos>', '<eos>', '<pad>'], ['<sos>', '<eos>', '<pad>'], ['<sos>', '<eos>', '<pad>'], ['<sos>', '<eos>', '<pad>'], ['<sos>', '<eos>', '<pad>'], ['<sos>', '<eos>', '<pad>'], ['<sos>', '<eos>', '<pad>'], ['<sos>', '<eos>', '<pad>'], ['<sos>', '<eos>', '<pad>'], ['<sos>', '<eos>', '<pad>'], ['<sos>', '<eos>', '<pad>'], ['<sos>', '<eos>', '<pad>'], ['<sos>', '<eos>', '<pad>'], ['<sos>', '<eos>', '<pad>'], ['<sos>', '<eos>', '<pad>'], ['<sos>', '<eos>', '<pad>'], ['<sos>', '<eos>', '<pad>'], ['<sos>', '<eos>', '<pad>'], ['<sos>', '<eos>', '<pad>'], ['<sos>', '<eos>', '<pad>'], ['<sos>', '<eos>', '<pad>'], ['<sos>', '<eos>', '<pad>'], ['<sos>', '<eos>', '<pad>'], ['<sos>', '<eos>', '<pad>'], ['<sos>', '<eos>', '<pad>'], ['<sos>', '<eos>', '<pad>'], ['<sos>', '<eos>', '<pad>'], ['<sos>', '<eos>', '<pad>'], ['<sos>', '<eos>', '<pad>'], ['<sos>', '<eos>', '<pad>'], ['<sos>', '<eos>', '<pad>'], ['<sos>', '<eos>', '<pad>'], ['<sos>', '<eos>', '<pad>'], ['<sos>', '<eos>', '<pad>'], ['<sos>', '<eos>', '<pad>'], ['<sos>', '<eos>', '<pad>'], ['<sos>', '<eos>', '<pad>'], ['<sos>', '<eos>', '<pad>'], ['<sos>', '<eos>', '<pad>'], ['<sos>', '<eos>', '<pad>'], ['<sos>', '<eos>', '<pad>'], ['<sos>', '<eos>', '<pad>'], ['<sos>', '<eos>', '<pad>'], ['<sos>', '<eos>', '<pad>'], ['<sos>', '<eos>', '<pad>'], ['<sos>', '<eos>', '<pad>'], ['<sos>', '<eos>', '<pad>'], ['<sos>', '<eos>', '<pad>'], ['<sos>', '<eos>', '<pad>'], ['<sos>', '<eos>', '<pad>'], ['<sos>', '<eos>', '<pad>'], ['<sos>', '<eos>', '<pad>'], ['<sos>', '<eos>', '<pad>'], ['<sos>', '<eos>', '<pad>'], ['<sos>', '<eos>', '<pad>'], ['<sos>', '<eos>', '<pad>'], ['<sos>', '<eos>', '<pad>'], ['<sos>', '<eos>', '<pad>'], ['<sos>', '<eos>', '<pad>'], ['<sos>', '<eos>', '<pad>'], ['<sos>', '<eos>', '<pad>'], ['<sos>', '<eos>', '<pad>'], ['<sos>', '<eos>', '<pad>'], ['<sos>', '<eos>', '<pad>'], ['<sos>', '<eos>', '<pad>'], ['<sos>', '<eos>', '<pad>'], ['<sos>', '<eos>', '<pad>'], ['<sos>', '<eos>', '<pad>'], ['<sos>', '<eos>', '<pad>'], ['<sos>', '<eos>', '<pad>'], ['<sos>', '<eos>', '<pad>'], ['<sos>', '<eos>', '<pad>'], ['<sos>', '<eos>', '<pad>'], ['<sos>', '<eos>', '<pad>'], ['<sos>', '̣', '<eos>'], ['<sos>', 'vỗ tay', '<eos>'], ['<sos>', 'Vỗ tay', '<eos>'], ['<sos>', 'vỗ tay', '<eos>'], ['<sos>', 'Vỗ tay', '<eos>'], ['<sos>', 'Vỗ tay', '<eos>'], ['<sos>', '.', '<eos>'], ['<sos>', '.', '<eos>'], ['<sos>', 'Vỗ tay', '<eos>'], ['<sos>', '.', '<eos>'], ['<sos>', 'Vỗ tay', '<eos>'], ['<sos>', '.', '<eos>'], ['<sos>', 'Vỗ tay', '<eos>'], ['<sos>', '̣', '<eos>'], ['<sos>', 'Cười', '<eos>'], ['<sos>', 'Vỗ tay', '<eos>'], ['<sos>', 'Vỗ tay', '<eos>'], ['<sos>', '.', '<eos>']])\n",
      "([['<sos>', '<eos>', '<pad>', '<pad>'], ['<sos>', '<eos>', '<pad>', '<pad>'], ['<sos>', '<eos>', '<pad>', '<pad>'], ['<sos>', '<eos>', '<pad>', '<pad>'], ['<sos>', '<eos>', '<pad>', '<pad>'], ['<sos>', '<eos>', '<pad>', '<pad>'], ['<sos>', '<eos>', '<pad>', '<pad>'], ['<sos>', '<eos>', '<pad>', '<pad>'], ['<sos>', '<eos>', '<pad>', '<pad>'], ['<sos>', '<eos>', '<pad>', '<pad>'], ['<sos>', '<eos>', '<pad>', '<pad>'], ['<sos>', '<eos>', '<pad>', '<pad>'], ['<sos>', '<eos>', '<pad>', '<pad>'], ['<sos>', '<eos>', '<pad>', '<pad>'], ['<sos>', '<eos>', '<pad>', '<pad>'], ['<sos>', '<eos>', '<pad>', '<pad>'], ['<sos>', '<eos>', '<pad>', '<pad>'], ['<sos>', '<eos>', '<pad>', '<pad>'], ['<sos>', '<eos>', '<pad>', '<pad>'], ['<sos>', '<eos>', '<pad>', '<pad>'], ['<sos>', '<eos>', '<pad>', '<pad>'], ['<sos>', '.', '<eos>', '<pad>'], ['<sos>', '.', '<eos>', '<pad>'], ['<sos>', '.', '<eos>', '<pad>'], ['<sos>', '.', '<eos>', '<pad>'], ['<sos>', 'Yeah', '.', '<eos>'], ['<sos>', 'OK', '.', '<eos>'], ['<sos>', 'Okay', '.', '<eos>'], ['<sos>', '<unk>', '.', '<eos>'], ['<sos>', 'Why', '?', '<eos>'], ['<sos>', 'Oh', '.', '<eos>'], ['<sos>', '<unk>', '.', '<eos>'], ['<sos>', 'Indeed', '.', '<eos>'], ['<sos>', 'Seven', '.', '<eos>'], ['<sos>', 'Yeah', '.', '<eos>'], ['<sos>', 'Kant', '.', '<eos>'], ['<sos>', 'Mill', '.', '<eos>'], ['<sos>', 'Thanks', '.', '<eos>'], ['<sos>', '<unk>', '.', '<eos>'], ['<sos>', 'OK', '.', '<eos>'], ['<sos>', 'Um', '.', '<eos>'], ['<sos>', 'Okay', '.', '<eos>'], ['<sos>', 'Wonderful', '.', '<eos>'], ['<sos>', 'Thanks', '.', '<eos>'], ['<sos>', 'Good', '.', '<eos>'], ['<sos>', 'Ooh', '.', '<eos>'], ['<sos>', 'No', '.', '<eos>'], ['<sos>', 'Mario', '!', '<eos>'], ['<sos>', 'Perfect', '.', '<eos>'], ['<sos>', '<unk>', '!', '<eos>'], ['<sos>', 'Boom', '.', '<eos>'], ['<sos>', 'Sex', '!', '<eos>'], ['<sos>', 'Us', '.', '<eos>'], ['<sos>', '<unk>', '.', '<eos>'], ['<sos>', 'So', '...', '<eos>'], ['<sos>', 'Books', '.', '<eos>'], ['<sos>', 'Sorry', '.', '<eos>'], ['<sos>', 'Difficult', '.', '<eos>'], ['<sos>', 'Hey', '.', '<eos>'], ['<sos>', 'Hey', '.', '<eos>'], ['<sos>', 'Good', '.', '<eos>'], ['<sos>', 'Genius', '!', '<eos>'], ['<sos>', 'Simple', '.', '<eos>'], ['<sos>', '<unk>', '!', '<eos>'], ['<sos>', 'Wonderful', '.', '<eos>'], ['<sos>', 'Okay', '.', '<eos>'], ['<sos>', 'Okay', '.', '<eos>'], ['<sos>', 'Nope', '.', '<eos>'], ['<sos>', 'Yes', '.', '<eos>'], ['<sos>', 'So', '...', '<eos>'], ['<sos>', 'Okay', '.', '<eos>'], ['<sos>', 'Yeah', '.', '<eos>'], ['<sos>', 'Thanks', '.', '<eos>'], ['<sos>', 'Okay', '.', '<eos>'], ['<sos>', 'Okay', '.', '<eos>'], ['<sos>', 'Okay', '.', '<eos>'], ['<sos>', 'Etc', '.', '<eos>'], ['<sos>', 'Nope', '.', '<eos>'], ['<sos>', 'Thanks', '.', '<eos>'], ['<sos>', 'Yes', '.', '<eos>'], ['<sos>', 'Whoa', '.', '<eos>'], ['<sos>', 'Go', '!', '<eos>'], ['<sos>', 'Thanks', '.', '<eos>'], ['<sos>', 'Okay', '.', '<eos>'], ['<sos>', 'Hey', '.', '<eos>'], ['<sos>', 'Why', '?', '<eos>'], ['<sos>', 'Yes', '.', '<eos>'], ['<sos>', 'Yeah', '.', '<eos>'], ['<sos>', 'Okay', '.', '<eos>'], ['<sos>', '<unk>', '.', '<eos>'], ['<sos>', 'Joey', '.', '<eos>'], ['<sos>', 'Joey', '.', '<eos>'], ['<sos>', '<unk>', '.', '<eos>'], ['<sos>', 'India', '.', '<eos>'], ['<sos>', 'China', '.', '<eos>'], ['<sos>', 'Germany', '.', '<eos>'], ['<sos>', 'TEDx', '.', '<eos>'], ['<sos>', '<unk>', '.', '<eos>'], ['<sos>', 'Freedom', '!', '<eos>'], ['<sos>', '<unk>', '.', '<eos>'], ['<sos>', 'Thanks', '.', '<eos>'], ['<sos>', '<unk>', '.', '<eos>'], ['<sos>', 'Invest', '.', '<eos>'], ['<sos>', '<unk>', '.', '<eos>'], ['<sos>', 'Right', '.', '<eos>'], ['<sos>', 'Okay', '.', '<eos>'], ['<sos>', 'Oops', '.', '<eos>'], ['<sos>', '<unk>', '.', '<eos>'], ['<sos>', 'Huh', '?', '<eos>'], ['<sos>', 'Wrong', '.', '<eos>'], ['<sos>', 'Thanks', '.', '<eos>'], ['<sos>', 'Jobs', '.', '<eos>'], ['<sos>', 'Poetry', '.', '<eos>'], ['<sos>', '<unk>', '!', '<eos>'], ['<sos>', 'Okay', '?', '<eos>'], ['<sos>', 'Why', '?', '<eos>'], ['<sos>', '<unk>', '.', '<eos>'], ['<sos>', 'Why', '?', '<eos>'], ['<sos>', 'Enough', '.', '<eos>'], ['<sos>', 'Thanks', '.', '<eos>'], ['<sos>', '<unk>', '.', '<eos>'], ['<sos>', 'Right', '.', '<eos>'], ['<sos>', 'Detail', '.', '<eos>'], ['<sos>', 'Why', '?', '<eos>'], ['<sos>', 'Thanks', '.', '<eos>'], ['<sos>', 'Okay', '.', '<eos>'], ['<sos>', 'David', '.', '<eos>'], ['<sos>', '<unk>', '.', '<eos>']], [['<sos>', '.', '<eos>', '<pad>', '<pad>', '<pad>', '<pad>', '<pad>'], ['<sos>', '.', '<eos>', '<pad>', '<pad>', '<pad>', '<pad>', '<pad>'], ['<sos>', '.', '<eos>', '<pad>', '<pad>', '<pad>', '<pad>', '<pad>'], ['<sos>', 'Vỗ tay', '<eos>', '<pad>', '<pad>', '<pad>', '<pad>', '<pad>'], ['<sos>', 'Vỗ tay', '<eos>', '<pad>', '<pad>', '<pad>', '<pad>', '<pad>'], ['<sos>', 'Vỗ tay', '<eos>', '<pad>', '<pad>', '<pad>', '<pad>', '<pad>'], ['<sos>', 'Vỗ tay', '<eos>', '<pad>', '<pad>', '<pad>', '<pad>', '<pad>'], ['<sos>', 'vỗ tay', '<eos>', '<pad>', '<pad>', '<pad>', '<pad>', '<pad>'], ['<sos>', 'Vỗ tay', '<eos>', '<pad>', '<pad>', '<pad>', '<pad>', '<pad>'], ['<sos>', 'Cám ơn', '<eos>', '<pad>', '<pad>', '<pad>', '<pad>', '<pad>'], ['<sos>', '.', '<eos>', '<pad>', '<pad>', '<pad>', '<pad>', '<pad>'], ['<sos>', '.', '<eos>', '<pad>', '<pad>', '<pad>', '<pad>', '<pad>'], ['<sos>', '.', '<eos>', '<pad>', '<pad>', '<pad>', '<pad>', '<pad>'], ['<sos>', '.', '<eos>', '<pad>', '<pad>', '<pad>', '<pad>', '<pad>'], ['<sos>', 'Khán giả', 'vỗ tay', '<eos>', '<pad>', '<pad>', '<pad>', '<pad>'], ['<sos>', 'Vỗ tay', '.', '<eos>', '<pad>', '<pad>', '<pad>', '<pad>'], ['<sos>', 'Vỗ tay', '.', '<eos>', '<pad>', '<pad>', '<pad>', '<pad>'], ['<sos>', 'Vỗ tay', '.', '<eos>', '<pad>', '<pad>', '<pad>', '<pad>'], ['<sos>', 'Vỗ tay', '.', '<eos>', '<pad>', '<pad>', '<pad>', '<pad>'], ['<sos>', '\"', 'tán thưởng', '\"', '<eos>', '<pad>', '<pad>', '<pad>'], ['<sos>', 'có', 'những', 'giấc', 'mơ', 'đẹp', '.', '<eos>'], ['<sos>', '<eos>', '<pad>', '<pad>', '<pad>', '<pad>', '<pad>', '<pad>'], ['<sos>', '<eos>', '<pad>', '<pad>', '<pad>', '<pad>', '<pad>', '<pad>'], ['<sos>', '.', '<eos>', '<pad>', '<pad>', '<pad>', '<pad>', '<pad>'], ['<sos>', '.', '<eos>', '<pad>', '<pad>', '<pad>', '<pad>', '<pad>'], ['<sos>', '<unk>', '<eos>', '<pad>', '<pad>', '<pad>', '<pad>', '<pad>'], ['<sos>', 'OK', '<eos>', '<pad>', '<pad>', '<pad>', '<pad>', '<pad>'], ['<sos>', 'Ok', '<eos>', '<pad>', '<pad>', '<pad>', '<pad>', '<pad>'], ['<sos>', 'vô dụng', '<eos>', '<pad>', '<pad>', '<pad>', '<pad>', '<pad>'], ['<sos>', 'Tại sao', '<eos>', '<pad>', '<pad>', '<pad>', '<pad>', '<pad>'], ['<sos>', 'Ồ', '<eos>', '<pad>', '<pad>', '<pad>', '<pad>', '<pad>'], ['<sos>', '<unk>', '<eos>', '<pad>', '<pad>', '<pad>', '<pad>', '<pad>'], ['<sos>', 'Thực vậy', '<eos>', '<pad>', '<pad>', '<pad>', '<pad>', '<pad>'], ['<sos>', 'Bảy', '<eos>', '<pad>', '<pad>', '<pad>', '<pad>', '<pad>'], ['<sos>', 'Ừ', '<eos>', '<pad>', '<pad>', '<pad>', '<pad>', '<pad>'], ['<sos>', 'Kant', '<eos>', '<pad>', '<pad>', '<pad>', '<pad>', '<pad>'], ['<sos>', 'Mill', '<eos>', '<pad>', '<pad>', '<pad>', '<pad>', '<pad>'], ['<sos>', 'cảm ơn', '<eos>', '<pad>', '<pad>', '<pad>', '<pad>', '<pad>'], ['<sos>', '<unk>', '<eos>', '<pad>', '<pad>', '<pad>', '<pad>', '<pad>'], ['<sos>', 'Ok', '<eos>', '<pad>', '<pad>', '<pad>', '<pad>', '<pad>'], ['<sos>', 'Uh', '<eos>', '<pad>', '<pad>', '<pad>', '<pad>', '<pad>'], ['<sos>', 'Ok', '<eos>', '<pad>', '<pad>', '<pad>', '<pad>', '<pad>'], ['<sos>', 'Tuyệt', '<eos>', '<pad>', '<pad>', '<pad>', '<pad>', '<pad>'], ['<sos>', 'Cảm ơn', '<eos>', '<pad>', '<pad>', '<pad>', '<pad>', '<pad>'], ['<sos>', 'Tốt', '<eos>', '<pad>', '<pad>', '<pad>', '<pad>', '<pad>'], ['<sos>', 'Ồ', '<eos>', '<pad>', '<pad>', '<pad>', '<pad>', '<pad>'], ['<sos>', 'Không', '<eos>', '<pad>', '<pad>', '<pad>', '<pad>', '<pad>'], ['<sos>', 'Mario', '!', '<eos>', '<pad>', '<pad>', '<pad>', '<pad>'], ['<sos>', 'Hoàn hảo', '.', '<eos>', '<pad>', '<pad>', '<pad>', '<pad>'], ['<sos>', '<unk>', '!', '<eos>', '<pad>', '<pad>', '<pad>', '<pad>'], ['<sos>', 'Bùm', '.', '<eos>', '<pad>', '<pad>', '<pad>', '<pad>'], ['<sos>', 'Tình dục', '!', '<eos>', '<pad>', '<pad>', '<pad>', '<pad>'], ['<sos>', 'Chúng ta', '.', '<eos>', '<pad>', '<pad>', '<pad>', '<pad>'], ['<sos>', '<unk>', '.', '<eos>', '<pad>', '<pad>', '<pad>', '<pad>'], ['<sos>', 'Bởi vậy', '...', '<eos>', '<pad>', '<pad>', '<pad>', '<pad>'], ['<sos>', 'Sách', '.', '<eos>', '<pad>', '<pad>', '<pad>', '<pad>'], ['<sos>', 'Xin lỗi', '.', '<eos>', '<pad>', '<pad>', '<pad>', '<pad>'], ['<sos>', 'Thật', 'khó khăn', '<eos>', '<pad>', '<pad>', '<pad>', '<pad>'], ['<sos>', 'Này', '.', '<eos>', '<pad>', '<pad>', '<pad>', '<pad>'], ['<sos>', 'Này', '.', '<eos>', '<pad>', '<pad>', '<pad>', '<pad>'], ['<sos>', 'Tốt', '.', '<eos>', '<pad>', '<pad>', '<pad>', '<pad>'], ['<sos>', 'Thiên tài', '!', '<eos>', '<pad>', '<pad>', '<pad>', '<pad>'], ['<sos>', 'Đơn giản', '.', '<eos>', '<pad>', '<pad>', '<pad>', '<pad>'], ['<sos>', 'Ngon', 'quá', '<eos>', '<pad>', '<pad>', '<pad>', '<pad>'], ['<sos>', 'Tuyệt vời', '.', '<eos>', '<pad>', '<pad>', '<pad>', '<pad>'], ['<sos>', 'Ok', '.', '<eos>', '<pad>', '<pad>', '<pad>', '<pad>'], ['<sos>', 'Vâng', '.', '<eos>', '<pad>', '<pad>', '<pad>', '<pad>'], ['<sos>', 'Không', '.', '<eos>', '<pad>', '<pad>', '<pad>', '<pad>'], ['<sos>', 'Có', '.', '<eos>', '<pad>', '<pad>', '<pad>', '<pad>'], ['<sos>', 'Thì', '...', '<eos>', '<pad>', '<pad>', '<pad>', '<pad>'], ['<sos>', 'OK', '.', '<eos>', '<pad>', '<pad>', '<pad>', '<pad>'], ['<sos>', 'Yeah', '.', '<eos>', '<pad>', '<pad>', '<pad>', '<pad>'], ['<sos>', 'Cảm ơn', '.', '<eos>', '<pad>', '<pad>', '<pad>', '<pad>'], ['<sos>', 'Được', '.', '<eos>', '<pad>', '<pad>', '<pad>', '<pad>'], ['<sos>', 'Được', '.', '<eos>', '<pad>', '<pad>', '<pad>', '<pad>'], ['<sos>', 'Được', '.', '<eos>', '<pad>', '<pad>', '<pad>', '<pad>'], ['<sos>', 'Vân vân', '.', '<eos>', '<pad>', '<pad>', '<pad>', '<pad>'], ['<sos>', 'Không', '.', '<eos>', '<pad>', '<pad>', '<pad>', '<pad>'], ['<sos>', 'Cảm ơn', '.', '<eos>', '<pad>', '<pad>', '<pad>', '<pad>'], ['<sos>', 'Có thể', '.', '<eos>', '<pad>', '<pad>', '<pad>', '<pad>'], ['<sos>', 'Whoa', '.', '<eos>', '<pad>', '<pad>', '<pad>', '<pad>'], ['<sos>', 'Bắt đầu', '!', '<eos>', '<pad>', '<pad>', '<pad>', '<pad>'], ['<sos>', 'Cảm ơn', '.', '<eos>', '<pad>', '<pad>', '<pad>', '<pad>'], ['<sos>', 'Ok', '.', '<eos>', '<pad>', '<pad>', '<pad>', '<pad>'], ['<sos>', 'Này', '.', '<eos>', '<pad>', '<pad>', '<pad>', '<pad>'], ['<sos>', 'Tại sao', '?', '<eos>', '<pad>', '<pad>', '<pad>', '<pad>'], ['<sos>', 'Đúng thế', '.', '<eos>', '<pad>', '<pad>', '<pad>', '<pad>'], ['<sos>', 'Vâng', '.', '<eos>', '<pad>', '<pad>', '<pad>', '<pad>'], ['<sos>', 'Vâng', '.', '<eos>', '<pad>', '<pad>', '<pad>', '<pad>'], ['<sos>', '<unk>', '.', '<eos>', '<pad>', '<pad>', '<pad>', '<pad>'], ['<sos>', 'Joey', '.', '<eos>', '<pad>', '<pad>', '<pad>', '<pad>'], ['<sos>', 'Joey', '.', '<eos>', '<pad>', '<pad>', '<pad>', '<pad>'], ['<sos>', '<unk>', '.', '<eos>', '<pad>', '<pad>', '<pad>', '<pad>'], ['<sos>', 'Ấn Độ', '.', '<eos>', '<pad>', '<pad>', '<pad>', '<pad>'], ['<sos>', 'Trung Quốc', '.', '<eos>', '<pad>', '<pad>', '<pad>', '<pad>'], ['<sos>', 'Đức', '.', '<eos>', '<pad>', '<pad>', '<pad>', '<pad>'], ['<sos>', 'TEDx', '.', '<eos>', '<pad>', '<pad>', '<pad>', '<pad>'], ['<sos>', 'Ôi', '!', '<eos>', '<pad>', '<pad>', '<pad>', '<pad>'], ['<sos>', 'Tự do', '!', '<eos>', '<pad>', '<pad>', '<pad>', '<pad>'], ['<sos>', 'Âm', '.', '<eos>', '<pad>', '<pad>', '<pad>', '<pad>'], ['<sos>', 'Cám ơn', '.', '<eos>', '<pad>', '<pad>', '<pad>', '<pad>'], ['<sos>', '<unk>', '.', '<eos>', '<pad>', '<pad>', '<pad>', '<pad>'], ['<sos>', 'Đầu tư', '.', '<eos>', '<pad>', '<pad>', '<pad>', '<pad>'], ['<sos>', '<unk>', '.', '<eos>', '<pad>', '<pad>', '<pad>', '<pad>'], ['<sos>', 'Đúng vậy', '.', '<eos>', '<pad>', '<pad>', '<pad>', '<pad>'], ['<sos>', 'Okay', '.', '<eos>', '<pad>', '<pad>', '<pad>', '<pad>'], ['<sos>', 'Oops', '.', '<eos>', '<pad>', '<pad>', '<pad>', '<pad>'], ['<sos>', 'Cảnh quan', '.', '<eos>', '<pad>', '<pad>', '<pad>', '<pad>'], ['<sos>', 'Huh', '?', '<eos>', '<pad>', '<pad>', '<pad>', '<pad>'], ['<sos>', 'Sai', '.', '<eos>', '<pad>', '<pad>', '<pad>', '<pad>'], ['<sos>', 'Cảm ơn', '!', '<eos>', '<pad>', '<pad>', '<pad>', '<pad>'], ['<sos>', 'Việc làm', '.', '<eos>', '<pad>', '<pad>', '<pad>', '<pad>'], ['<sos>', '<unk>', '.', '<eos>', '<pad>', '<pad>', '<pad>', '<pad>'], ['<sos>', '<unk>', '!', '<eos>', '<pad>', '<pad>', '<pad>', '<pad>'], ['<sos>', 'Ok', '?', '<eos>', '<pad>', '<pad>', '<pad>', '<pad>'], ['<sos>', 'Vì sao', '?', '<eos>', '<pad>', '<pad>', '<pad>', '<pad>'], ['<sos>', '<unk>', '.', '<eos>', '<pad>', '<pad>', '<pad>', '<pad>'], ['<sos>', 'Vì sao', '?', '<eos>', '<pad>', '<pad>', '<pad>', '<pad>'], ['<sos>', 'Đủ', 'rồi', '<eos>', '<pad>', '<pad>', '<pad>', '<pad>'], ['<sos>', 'Cảm ơn', '.', '<eos>', '<pad>', '<pad>', '<pad>', '<pad>'], ['<sos>', 'À', '.', '<eos>', '<pad>', '<pad>', '<pad>', '<pad>'], ['<sos>', 'Đúng thế', '.', '<eos>', '<pad>', '<pad>', '<pad>', '<pad>'], ['<sos>', 'Chi tiết', '.', '<eos>', '<pad>', '<pad>', '<pad>', '<pad>'], ['<sos>', 'Tại sao', '?', '<eos>', '<pad>', '<pad>', '<pad>', '<pad>'], ['<sos>', 'Cám ơn', '.', '<eos>', '<pad>', '<pad>', '<pad>', '<pad>'], ['<sos>', 'Okay', '.', '<eos>', '<pad>', '<pad>', '<pad>', '<pad>'], ['<sos>', 'David', '.', '<eos>', '<pad>', '<pad>', '<pad>', '<pad>'], ['<sos>', '<unk>', '.', '<eos>', '<pad>', '<pad>', '<pad>', '<pad>']])\n",
      "([['<sos>', 'Yay', '!', '<eos>'], ['<sos>', 'Why', '?', '<eos>'], ['<sos>', 'Dry', '.', '<eos>'], ['<sos>', 'Fold', '.', '<eos>'], ['<sos>', 'Why', '?', '<eos>'], ['<sos>', 'Warren', '.', '<eos>'], ['<sos>', 'Why', '?', '<eos>'], ['<sos>', 'Chris', '.', '<eos>'], ['<sos>', 'Thanks', '.', '<eos>'], ['<sos>', 'Thanks', '.', '<eos>'], ['<sos>', 'Thanks', '.', '<eos>'], ['<sos>', 'OK', '.', '<eos>'], ['<sos>', 'Okay', '.', '<eos>'], ['<sos>', 'Yep', '.', '<eos>'], ['<sos>', 'Why', '?', '<eos>'], ['<sos>', '529', '.', '<eos>'], ['<sos>', '<unk>', '.', '<eos>'], ['<sos>', '<unk>', '?', '<eos>'], ['<sos>', 'Yes', '?', '<eos>'], ['<sos>', 'Nine', '.', '<eos>'], ['<sos>', '<unk>', '?', '<eos>'], ['<sos>', '1824', '.', '<eos>'], ['<sos>', 'Good', '.', '<eos>'], ['<sos>', 'Why', '?', '<eos>'], ['<sos>', 'Power', '.', '<eos>'], ['<sos>', 'Android', '.', '<eos>'], ['<sos>', 'Okay', '.', '<eos>'], ['<sos>', 'Thanks', '!', '<eos>'], ['<sos>', '<unk>', '.', '<eos>'], ['<sos>', '<unk>', '.', '<eos>'], ['<sos>', 'Okay', '.', '<eos>'], ['<sos>', 'Yeah', '?', '<eos>'], ['<sos>', 'Yeah', '.', '<eos>'], ['<sos>', 'Yay', '!', '<eos>'], ['<sos>', 'Thanks', '.', '<eos>'], ['<sos>', 'Okay', '.', '<eos>'], ['<sos>', 'Yay', '!', '<eos>'], ['<sos>', 'No', '.', '<eos>'], ['<sos>', 'Duh', '.', '<eos>'], ['<sos>', 'Wow', '.', '<eos>'], ['<sos>', 'Wow', '.', '<eos>'], ['<sos>', 'Designing', '.', '<eos>'], ['<sos>', 'Thanks', '.', '<eos>'], ['<sos>', 'Thanks', '.', '<eos>'], ['<sos>', 'Home', '.', '<eos>'], ['<sos>', 'OK', '?', '<eos>'], ['<sos>', 'zesty', '.', '<eos>'], ['<sos>', 'Yeah', '.', '<eos>'], ['<sos>', 'Wow', '.', '<eos>'], ['<sos>', 'Yeah', '.', '<eos>'], ['<sos>', 'Wow', '.', '<eos>'], ['<sos>', 'Anyone', '?', '<eos>'], ['<sos>', 'For', '.', '<eos>'], ['<sos>', '<unk>', '.', '<eos>'], ['<sos>', 'Now', '...', '<eos>'], ['<sos>', 'Aha', '.', '<eos>'], ['<sos>', '<unk>', '...', '<eos>'], ['<sos>', 'Why', '?', '<eos>'], ['<sos>', 'Why', '?', '<eos>'], ['<sos>', 'Spock', '.', '<eos>'], ['<sos>', 'Yeah', '.', '<eos>'], ['<sos>', 'Wow', '!', '<eos>'], ['<sos>', 'OK', '.', '<eos>'], ['<sos>', 'WITNESS', '.', '<eos>'], ['<sos>', 'January', '.', '<eos>'], ['<sos>', '<unk>', '.', '<eos>'], ['<sos>', 'No', '.', '<eos>'], ['<sos>', 'No', '.', '<eos>'], ['<sos>', 'Absolutely', '.', '<eos>'], ['<sos>', 'Okay', '.', '<eos>'], ['<sos>', 'Sleep', '.', '<eos>'], ['<sos>', 'Wrong', '.', '<eos>'], ['<sos>', 'Why', '?', '<eos>'], ['<sos>', 'Yes', '.', '<eos>'], ['<sos>', 'Good', '.', '<eos>'], ['<sos>', 'Mmm', '.', '<eos>'], ['<sos>', 'Mmm', '.', '<eos>'], ['<sos>', 'Order', '.', '<eos>'], ['<sos>', 'Okay', '.', '<eos>'], ['<sos>', 'Goodbye', '.', '<eos>'], ['<sos>', '<unk>', '.', '<eos>'], ['<sos>', 'Amazing', '.', '<eos>'], ['<sos>', 'Cheers', '.', '<eos>'], ['<sos>', 'Hope', '.', '<eos>'], ['<sos>', 'Yes', '.', '<eos>'], ['<sos>', '<unk>', '.', '<eos>'], ['<sos>', '2002', '.', '<eos>'], ['<sos>', 'Yeah', '.', '<eos>'], ['<sos>', 'Okay', '.', '<eos>'], ['<sos>', 'Okay', '.', '<eos>'], ['<sos>', 'What', '?', '<eos>'], ['<sos>', 'Yes', '?', '<eos>'], ['<sos>', 'Thanks', '.', '<eos>'], ['<sos>', 'Right', '.', '<eos>'], ['<sos>', 'Right', '?', '<eos>'], ['<sos>', 'Seriously', '.', '<eos>'], ['<sos>', 'Okay', '.', '<eos>'], ['<sos>', 'Hi', '.', '<eos>'], ['<sos>', 'Hello', '!', '<eos>'], ['<sos>', 'Seriously', '.', '<eos>'], ['<sos>', 'Hello', '.', '<eos>'], ['<sos>', 'Right', '?', '<eos>'], ['<sos>', 'So', '...', '<eos>'], ['<sos>', '<unk>', '.', '<eos>'], ['<sos>', 'Chimborazo', '!', '<eos>'], ['<sos>', 'Chimborazo', '!', '<eos>'], ['<sos>', 'Chimborazo', '!', '<eos>'], ['<sos>', 'Thanks', '.', '<eos>'], ['<sos>', '<unk>', '.', '<eos>'], ['<sos>', 'Thanks', '.', '<eos>'], ['<sos>', 'Right', '?', '<eos>'], ['<sos>', 'Yeah', '?', '<eos>'], ['<sos>', '<unk>', '.', '<eos>'], ['<sos>', 'Zero', '.', '<eos>'], ['<sos>', 'Thanks', '.', '<eos>'], ['<sos>', 'Really', '?', '<eos>'], ['<sos>', 'Right', '.', '<eos>'], ['<sos>', 'Okay', '.', '<eos>'], ['<sos>', 'Right', '?', '<eos>'], ['<sos>', 'Interesting', '.', '<eos>'], ['<sos>', '<unk>', '!', '<eos>'], ['<sos>', 'Go', '!', '<eos>'], ['<sos>', 'Sustainability', '.', '<eos>'], ['<sos>', 'Okay', '.', '<eos>'], ['<sos>', '<unk>', '.', '<eos>'], ['<sos>', 'Well', '!', '<eos>'], ['<sos>', 'When', '?', '<eos>'], ['<sos>', 'Wow', '.', '<eos>']], [['<sos>', 'Yay', '!', '<eos>', '<pad>'], ['<sos>', 'Tại sao', '?', '<eos>', '<pad>'], ['<sos>', 'Khô', '.', '<eos>', '<pad>'], ['<sos>', 'Xếp', '.', '<eos>', '<pad>'], ['<sos>', 'Tại sao', '?', '<eos>', '<pad>'], ['<sos>', 'Warren', '.', '<eos>', '<pad>'], ['<sos>', 'Vì sao', '?', '<eos>', '<pad>'], ['<sos>', 'Chris', '.', '<eos>', '<pad>'], ['<sos>', 'Cảm ơn', '.', '<eos>', '<pad>'], ['<sos>', 'Cảm ơn', '.', '<eos>', '<pad>'], ['<sos>', 'Cảm ơn', '.', '<eos>', '<pad>'], ['<sos>', 'Ồ', '.', '<eos>', '<pad>'], ['<sos>', 'Ok', '.', '<eos>', '<pad>'], ['<sos>', 'Đúng thế', '.', '<eos>', '<pad>'], ['<sos>', 'Tại sao', '?', '<eos>', '<pad>'], ['<sos>', '529', '.', '<eos>', '<pad>'], ['<sos>', '<unk>', '.', '<eos>', '<pad>'], ['<sos>', '<unk>', '?', '<eos>', '<pad>'], ['<sos>', 'Đúng', '?', '<eos>', '<pad>'], ['<sos>', 'Chín', '.', '<eos>', '<pad>'], ['<sos>', '<unk>', '?', '<eos>', '<pad>'], ['<sos>', '1824', '.', '<eos>', '<pad>'], ['<sos>', 'Tốt', '.', '<eos>', '<pad>'], ['<sos>', 'Tại sao', '?', '<eos>', '<pad>'], ['<sos>', 'Sức mạnh', '.', '<eos>', '<pad>'], ['<sos>', 'Android', '.', '<eos>', '<pad>'], ['<sos>', 'Ok', '.', '<eos>', '<pad>'], ['<sos>', 'Cảm ơn', '!', '<eos>', '<pad>'], ['<sos>', 'Sai', '.', '<eos>', '<pad>'], ['<sos>', 'Sai', '.', '<eos>', '<pad>'], ['<sos>', 'Ok', '.', '<eos>', '<pad>'], ['<sos>', 'Vâng', '?', '<eos>', '<pad>'], ['<sos>', 'Yeah', '.', '<eos>', '<pad>'], ['<sos>', 'Yay', '!', '<eos>', '<pad>'], ['<sos>', 'Cảm ơn', '.', '<eos>', '<pad>'], ['<sos>', 'Okay', '.', '<eos>', '<pad>'], ['<sos>', 'Yay', '!', '<eos>', '<pad>'], ['<sos>', 'Không', '.', '<eos>', '<pad>'], ['<sos>', 'Thế sao', '.', '<eos>', '<pad>'], ['<sos>', 'Wow', '.', '<eos>', '<pad>'], ['<sos>', 'Wow', '.', '<eos>', '<pad>'], ['<sos>', 'Thiết kế', '.', '<eos>', '<pad>'], ['<sos>', 'Cám ơn', '.', '<eos>', '<pad>'], ['<sos>', 'Cám ơn', '.', '<eos>', '<pad>'], ['<sos>', 'Gia đình', '.', '<eos>', '<pad>'], ['<sos>', 'OK', '?', '<eos>', '<pad>'], ['<sos>', 'kích thích', '.', '<eos>', '<pad>'], ['<sos>', 'Yeah', '.', '<eos>', '<pad>'], ['<sos>', 'Wow', '.', '<eos>', '<pad>'], ['<sos>', 'Vâng', '.', '<eos>', '<pad>'], ['<sos>', 'Ồ', '.', '<eos>', '<pad>'], ['<sos>', 'Ai', '?', '<eos>', '<pad>'], ['<sos>', 'Ủng hộ', '.', '<eos>', '<pad>'], ['<sos>', '<unk>', '.', '<eos>', '<pad>'], ['<sos>', 'Bây giờ', '...', '<eos>', '<pad>'], ['<sos>', 'Aha', '.', '<eos>', '<pad>'], ['<sos>', 'Ừm', '...', '<eos>', '<pad>'], ['<sos>', 'Tại sao', '?', '<eos>', '<pad>'], ['<sos>', 'Tại sao', '?', '<eos>', '<pad>'], ['<sos>', 'Spock', '.', '<eos>', '<pad>'], ['<sos>', 'Vâng', '.', '<eos>', '<pad>'], ['<sos>', 'Wow', '!', '<eos>', '<pad>'], ['<sos>', 'Vâng', '.', '<eos>', '<pad>'], ['<sos>', 'NHÂN CHỨNG', '.', '<eos>', '<pad>'], ['<sos>', 'Tháng một', '.', '<eos>', '<pad>'], ['<sos>', '<unk>', '.', '<eos>', '<pad>'], ['<sos>', 'Không', '.', '<eos>', '<pad>'], ['<sos>', 'Không', '.', '<eos>', '<pad>'], ['<sos>', 'Chắc chắn', '.', '<eos>', '<pad>'], ['<sos>', 'Ok', '.', '<eos>', '<pad>'], ['<sos>', 'Ngủ', '.', '<eos>', '<pad>'], ['<sos>', 'Sai', '.', '<eos>', '<pad>'], ['<sos>', 'Tại sao', '?', '<eos>', '<pad>'], ['<sos>', 'Đồng ý', '.', '<eos>', '<pad>'], ['<sos>', 'Tốt', '.', '<eos>', '<pad>'], ['<sos>', 'Mmmm', '.', '<eos>', '<pad>'], ['<sos>', 'Mmmm', '.', '<eos>', '<pad>'], ['<sos>', 'Trật tự', '.', '<eos>', '<pad>'], ['<sos>', 'Okay', '.', '<eos>', '<pad>'], ['<sos>', 'Tạm biệt', '.', '<eos>', '<pad>'], ['<sos>', '<unk>', '.', '<eos>', '<pad>'], ['<sos>', 'Tuyệt vời', '.', '<eos>', '<pad>'], ['<sos>', 'Hân hạnh', '.', '<eos>', '<pad>'], ['<sos>', '<unk>', '.', '<eos>', '<pad>'], ['<sos>', 'Vâng', '.', '<eos>', '<pad>'], ['<sos>', '<unk>', '.', '<eos>', '<pad>'], ['<sos>', 'Năm', '2002', '<eos>', '<pad>'], ['<sos>', 'Vâng', '.', '<eos>', '<pad>'], ['<sos>', 'Được', 'rồi', '.', '<eos>'], ['<sos>', 'Vậy', 'rồi', ',', '<eos>'], ['<sos>', 'Cái', 'gì', '?', '<eos>'], ['<sos>', 'Đúng', 'không', '?', '<eos>'], ['<sos>', 'Xin', 'cám ơn', '.', '<eos>'], ['<sos>', 'Đúng', 'rồi', '.', '<eos>'], ['<sos>', 'Đúng', 'không', '?', '<eos>'], ['<sos>', 'Thật', 'đấy', '.', '<eos>'], ['<sos>', 'Được', 'rồi', '.', '<eos>'], ['<sos>', 'Xin', 'chào', '.', '<eos>'], ['<sos>', 'Xin', 'chào', '!', '<eos>'], ['<sos>', 'Thật', 'đấy', '.', '<eos>'], ['<sos>', 'Xin', 'chào', '.', '<eos>'], ['<sos>', 'Đúng', 'không', '?', '<eos>'], ['<sos>', 'Nên', '-', '-', '<eos>'], ['<sos>', 'Không', 'liên quan', '.', '<eos>'], ['<sos>', 'Tỉnh', 'Chimborazo', '!', '<eos>'], ['<sos>', 'Tỉnh', 'Chimborazo', '!', '<eos>'], ['<sos>', 'Tỉnh', 'Chimborazo', '!', '<eos>'], ['<sos>', 'Xin', 'cảm ơn', '.', '<eos>'], ['<sos>', 'Hơi', 'thở', '.', '<eos>'], ['<sos>', 'Cảm ơn', 'mọi', 'người', '<eos>'], ['<sos>', 'Đúng', 'không', '?', '<eos>'], ['<sos>', 'Có', 'không', '?', '<eos>'], ['<sos>', 'Sao', 'rồi', '.', '<eos>'], ['<sos>', 'Số', 'không', '.', '<eos>'], ['<sos>', 'Xin', 'cám ơn', '.', '<eos>'], ['<sos>', 'Thật', 'không', '?', '<eos>'], ['<sos>', 'Phải', 'không', '.', '<eos>'], ['<sos>', 'Được', 'rồi', '.', '<eos>'], ['<sos>', 'Phải', 'không', '?', '<eos>'], ['<sos>', 'Thú vị', 'thật', '.', '<eos>'], ['<sos>', 'Nặng', 'lắm', '!', '<eos>'], ['<sos>', 'Tiến hành', 'thôi', '!', '<eos>'], ['<sos>', 'Khả năng', 'tồn tại', '.', '<eos>'], ['<sos>', 'Được', 'thôi', '.', '<eos>'], ['<sos>', '<unk>', 'giun', '.', '<eos>'], ['<sos>', 'Thú vị', 'đấy', '!', '<eos>'], ['<sos>', 'Khi', 'nào', '?', '<eos>'], ['<sos>', 'Ôi', 'tuyệt', '.', '<eos>']])\n"
     ]
    }
   ],
   "source": [
    "for i in range(3):\n",
    "  print(train_data[i])"
   ]
  },
  {
   "cell_type": "code",
   "execution_count": 18,
   "metadata": {},
   "outputs": [],
   "source": [
    "def text_pipeline(data:List[List[str]], vocab: Vocab):\n",
    "    return [[vocab[word] for word in word_lst] for word_lst in data]\n",
    "\n",
    "train_data = [(text_pipeline(ben,En.vocab),text_pipeline(bvi,En.vocab)) for ben, bvi in train_data]"
   ]
  },
  {
   "cell_type": "code",
   "execution_count": 19,
   "metadata": {},
   "outputs": [
    {
     "name": "stdout",
     "output_type": "stream",
     "text": [
      "([[2, 3], [2, 3], [2, 3], [2, 3], [2, 3], [2, 3], [2, 3], [2, 3], [2, 3], [2, 3], [2, 3], [2, 3], [2, 3], [2, 3], [2, 3], [2, 3], [2, 3], [2, 3], [2, 3], [2, 3], [2, 3], [2, 3], [2, 3], [2, 3], [2, 3], [2, 3], [2, 3], [2, 3], [2, 3], [2, 3], [2, 3], [2, 3], [2, 3], [2, 3], [2, 3], [2, 3], [2, 3], [2, 3], [2, 3], [2, 3], [2, 3], [2, 3], [2, 3], [2, 3], [2, 3], [2, 3], [2, 3], [2, 3], [2, 3], [2, 3], [2, 3], [2, 3], [2, 3], [2, 3], [2, 3], [2, 3], [2, 3], [2, 3], [2, 3], [2, 3], [2, 3], [2, 3], [2, 3], [2, 3], [2, 3], [2, 3], [2, 3], [2, 3], [2, 3], [2, 3], [2, 3], [2, 3], [2, 3], [2, 3], [2, 3], [2, 3], [2, 3], [2, 3], [2, 3], [2, 3], [2, 3], [2, 3], [2, 3], [2, 3], [2, 3], [2, 3], [2, 3], [2, 3], [2, 3], [2, 3], [2, 3], [2, 3], [2, 3], [2, 3], [2, 3], [2, 3], [2, 3], [2, 3], [2, 3], [2, 3], [2, 3], [2, 3], [2, 3], [2, 3], [2, 3], [2, 3], [2, 3], [2, 3], [2, 3], [2, 3], [2, 3], [2, 3], [2, 3], [2, 3], [2, 3], [2, 3], [2, 3], [2, 3], [2, 3], [2, 3], [2, 3], [2, 3], [2, 3], [2, 3], [2, 3], [2, 3], [2, 3], [2, 3]], [[2, 3, 1], [2, 3, 1], [2, 3, 1], [2, 3, 1], [2, 3, 1], [2, 3, 1], [2, 3, 1], [2, 3, 1], [2, 3, 1], [2, 3, 1], [2, 3, 1], [2, 3, 1], [2, 3, 1], [2, 3, 1], [2, 3, 1], [2, 3, 1], [2, 3, 1], [2, 3, 1], [2, 3, 1], [2, 3, 1], [2, 3, 1], [2, 3, 1], [2, 3, 1], [2, 3, 1], [2, 3, 1], [2, 3, 1], [2, 3, 1], [2, 3, 1], [2, 3, 1], [2, 3, 1], [2, 3, 1], [2, 3, 1], [2, 3, 1], [2, 3, 1], [2, 3, 1], [2, 3, 1], [2, 3, 1], [2, 3, 1], [2, 3, 1], [2, 3, 1], [2, 3, 1], [2, 3, 1], [2, 3, 1], [2, 3, 1], [2, 3, 1], [2, 3, 1], [2, 3, 1], [2, 3, 1], [2, 3, 1], [2, 3, 1], [2, 3, 1], [2, 3, 1], [2, 3, 1], [2, 3, 1], [2, 3, 1], [2, 3, 1], [2, 3, 1], [2, 3, 1], [2, 3, 1], [2, 3, 1], [2, 3, 1], [2, 3, 1], [2, 3, 1], [2, 3, 1], [2, 3, 1], [2, 3, 1], [2, 3, 1], [2, 3, 1], [2, 3, 1], [2, 3, 1], [2, 3, 1], [2, 3, 1], [2, 3, 1], [2, 3, 1], [2, 3, 1], [2, 3, 1], [2, 3, 1], [2, 3, 1], [2, 3, 1], [2, 3, 1], [2, 3, 1], [2, 3, 1], [2, 3, 1], [2, 3, 1], [2, 3, 1], [2, 3, 1], [2, 3, 1], [2, 3, 1], [2, 3, 1], [2, 3, 1], [2, 3, 1], [2, 3, 1], [2, 3, 1], [2, 3, 1], [2, 3, 1], [2, 3, 1], [2, 3, 1], [2, 3, 1], [2, 3, 1], [2, 3, 1], [2, 3, 1], [2, 3, 1], [2, 3, 1], [2, 3, 1], [2, 3, 1], [2, 3, 1], [2, 3, 1], [2, 3, 1], [2, 3, 1], [2, 3, 1], [2, 0, 3], [2, 0, 3], [2, 0, 3], [2, 0, 3], [2, 0, 3], [2, 0, 3], [2, 5, 3], [2, 5, 3], [2, 0, 3], [2, 5, 3], [2, 0, 3], [2, 5, 3], [2, 0, 3], [2, 0, 3], [2, 0, 3], [2, 0, 3], [2, 0, 3], [2, 5, 3]])\n",
      "([[2, 3, 1, 1], [2, 3, 1, 1], [2, 3, 1, 1], [2, 3, 1, 1], [2, 3, 1, 1], [2, 3, 1, 1], [2, 3, 1, 1], [2, 3, 1, 1], [2, 3, 1, 1], [2, 3, 1, 1], [2, 3, 1, 1], [2, 3, 1, 1], [2, 3, 1, 1], [2, 3, 1, 1], [2, 3, 1, 1], [2, 3, 1, 1], [2, 3, 1, 1], [2, 3, 1, 1], [2, 3, 1, 1], [2, 3, 1, 1], [2, 3, 1, 1], [2, 5, 3, 1], [2, 5, 3, 1], [2, 5, 3, 1], [2, 5, 3, 1], [2, 689, 5, 3], [2, 807, 5, 3], [2, 456, 5, 3], [2, 0, 5, 3], [2, 312, 33, 3], [2, 545, 5, 3], [2, 0, 5, 3], [2, 3268, 5, 3], [2, 4936, 5, 3], [2, 689, 5, 3], [2, 11861, 5, 3], [2, 14043, 5, 3], [2, 1867, 5, 3], [2, 0, 5, 3], [2, 807, 5, 3], [2, 11164, 5, 3], [2, 456, 5, 3], [2, 15815, 5, 3], [2, 1867, 5, 3], [2, 1933, 5, 3], [2, 4804, 5, 3], [2, 372, 5, 3], [2, 7720, 299, 3], [2, 11112, 5, 3], [2, 0, 299, 3], [2, 11783, 5, 3], [2, 7175, 299, 3], [2, 14170, 5, 3], [2, 0, 5, 3], [2, 34, 519, 3], [2, 9739, 5, 3], [2, 4228, 5, 3], [2, 20233, 5, 3], [2, 1553, 5, 3], [2, 1553, 5, 3], [2, 1933, 5, 3], [2, 20389, 299, 3], [2, 8858, 5, 3], [2, 0, 299, 3], [2, 15815, 5, 3], [2, 456, 5, 3], [2, 456, 5, 3], [2, 9300, 5, 3], [2, 668, 5, 3], [2, 34, 519, 3], [2, 456, 5, 3], [2, 689, 5, 3], [2, 1867, 5, 3], [2, 456, 5, 3], [2, 456, 5, 3], [2, 456, 5, 3], [2, 20301, 5, 3], [2, 9300, 5, 3], [2, 1867, 5, 3], [2, 668, 5, 3], [2, 6929, 5, 3], [2, 1676, 299, 3], [2, 1867, 5, 3], [2, 456, 5, 3], [2, 1553, 5, 3], [2, 312, 33, 3], [2, 668, 5, 3], [2, 689, 5, 3], [2, 456, 5, 3], [2, 0, 5, 3], [2, 8045, 5, 3], [2, 8045, 5, 3], [2, 0, 5, 3], [2, 544, 5, 3], [2, 491, 5, 3], [2, 2214, 5, 3], [2, 5880, 5, 3], [2, 0, 5, 3], [2, 4586, 299, 3], [2, 0, 5, 3], [2, 1867, 5, 3], [2, 0, 5, 3], [2, 11853, 5, 3], [2, 0, 5, 3], [2, 754, 5, 3], [2, 456, 5, 3], [2, 7730, 5, 3], [2, 0, 5, 3], [2, 9274, 33, 3], [2, 12992, 5, 3], [2, 1867, 5, 3], [2, 9790, 5, 3], [2, 10432, 5, 3], [2, 0, 299, 3], [2, 456, 33, 3], [2, 312, 33, 3], [2, 0, 5, 3], [2, 312, 33, 3], [2, 11041, 5, 3], [2, 1867, 5, 3], [2, 0, 5, 3], [2, 754, 5, 3], [2, 13892, 5, 3], [2, 312, 33, 3], [2, 1867, 5, 3], [2, 456, 5, 3], [2, 1090, 5, 3], [2, 0, 5, 3]], [[2, 5, 3, 1, 1, 1, 1, 1], [2, 5, 3, 1, 1, 1, 1, 1], [2, 5, 3, 1, 1, 1, 1, 1], [2, 0, 3, 1, 1, 1, 1, 1], [2, 0, 3, 1, 1, 1, 1, 1], [2, 0, 3, 1, 1, 1, 1, 1], [2, 0, 3, 1, 1, 1, 1, 1], [2, 0, 3, 1, 1, 1, 1, 1], [2, 0, 3, 1, 1, 1, 1, 1], [2, 0, 3, 1, 1, 1, 1, 1], [2, 5, 3, 1, 1, 1, 1, 1], [2, 5, 3, 1, 1, 1, 1, 1], [2, 5, 3, 1, 1, 1, 1, 1], [2, 5, 3, 1, 1, 1, 1, 1], [2, 0, 0, 3, 1, 1, 1, 1], [2, 0, 5, 3, 1, 1, 1, 1], [2, 0, 5, 3, 1, 1, 1, 1], [2, 0, 5, 3, 1, 1, 1, 1], [2, 0, 5, 3, 1, 1, 1, 1], [2, 22, 0, 22, 3, 1, 1, 1], [2, 0, 0, 0, 0, 0, 5, 3], [2, 3, 1, 1, 1, 1, 1, 1], [2, 3, 1, 1, 1, 1, 1, 1], [2, 5, 3, 1, 1, 1, 1, 1], [2, 5, 3, 1, 1, 1, 1, 1], [2, 0, 3, 1, 1, 1, 1, 1], [2, 807, 3, 1, 1, 1, 1, 1], [2, 0, 3, 1, 1, 1, 1, 1], [2, 0, 3, 1, 1, 1, 1, 1], [2, 0, 3, 1, 1, 1, 1, 1], [2, 0, 3, 1, 1, 1, 1, 1], [2, 0, 3, 1, 1, 1, 1, 1], [2, 0, 3, 1, 1, 1, 1, 1], [2, 0, 3, 1, 1, 1, 1, 1], [2, 0, 3, 1, 1, 1, 1, 1], [2, 11861, 3, 1, 1, 1, 1, 1], [2, 14043, 3, 1, 1, 1, 1, 1], [2, 0, 3, 1, 1, 1, 1, 1], [2, 0, 3, 1, 1, 1, 1, 1], [2, 0, 3, 1, 1, 1, 1, 1], [2, 7480, 3, 1, 1, 1, 1, 1], [2, 0, 3, 1, 1, 1, 1, 1], [2, 0, 3, 1, 1, 1, 1, 1], [2, 0, 3, 1, 1, 1, 1, 1], [2, 0, 3, 1, 1, 1, 1, 1], [2, 0, 3, 1, 1, 1, 1, 1], [2, 0, 3, 1, 1, 1, 1, 1], [2, 7720, 299, 3, 1, 1, 1, 1], [2, 0, 5, 3, 1, 1, 1, 1], [2, 0, 299, 3, 1, 1, 1, 1], [2, 0, 5, 3, 1, 1, 1, 1], [2, 0, 299, 3, 1, 1, 1, 1], [2, 0, 5, 3, 1, 1, 1, 1], [2, 0, 5, 3, 1, 1, 1, 1], [2, 0, 519, 3, 1, 1, 1, 1], [2, 0, 5, 3, 1, 1, 1, 1], [2, 0, 5, 3, 1, 1, 1, 1], [2, 0, 0, 3, 1, 1, 1, 1], [2, 0, 5, 3, 1, 1, 1, 1], [2, 0, 5, 3, 1, 1, 1, 1], [2, 0, 5, 3, 1, 1, 1, 1], [2, 0, 299, 3, 1, 1, 1, 1], [2, 0, 5, 3, 1, 1, 1, 1], [2, 0, 0, 3, 1, 1, 1, 1], [2, 0, 5, 3, 1, 1, 1, 1], [2, 0, 5, 3, 1, 1, 1, 1], [2, 0, 5, 3, 1, 1, 1, 1], [2, 0, 5, 3, 1, 1, 1, 1], [2, 0, 5, 3, 1, 1, 1, 1], [2, 0, 519, 3, 1, 1, 1, 1], [2, 807, 5, 3, 1, 1, 1, 1], [2, 689, 5, 3, 1, 1, 1, 1], [2, 0, 5, 3, 1, 1, 1, 1], [2, 0, 5, 3, 1, 1, 1, 1], [2, 0, 5, 3, 1, 1, 1, 1], [2, 0, 5, 3, 1, 1, 1, 1], [2, 0, 5, 3, 1, 1, 1, 1], [2, 0, 5, 3, 1, 1, 1, 1], [2, 0, 5, 3, 1, 1, 1, 1], [2, 0, 5, 3, 1, 1, 1, 1], [2, 6929, 5, 3, 1, 1, 1, 1], [2, 0, 299, 3, 1, 1, 1, 1], [2, 0, 5, 3, 1, 1, 1, 1], [2, 0, 5, 3, 1, 1, 1, 1], [2, 0, 5, 3, 1, 1, 1, 1], [2, 0, 33, 3, 1, 1, 1, 1], [2, 0, 5, 3, 1, 1, 1, 1], [2, 0, 5, 3, 1, 1, 1, 1], [2, 0, 5, 3, 1, 1, 1, 1], [2, 0, 5, 3, 1, 1, 1, 1], [2, 8045, 5, 3, 1, 1, 1, 1], [2, 8045, 5, 3, 1, 1, 1, 1], [2, 0, 5, 3, 1, 1, 1, 1], [2, 0, 5, 3, 1, 1, 1, 1], [2, 0, 5, 3, 1, 1, 1, 1], [2, 0, 5, 3, 1, 1, 1, 1], [2, 5880, 5, 3, 1, 1, 1, 1], [2, 0, 299, 3, 1, 1, 1, 1], [2, 0, 299, 3, 1, 1, 1, 1], [2, 0, 5, 3, 1, 1, 1, 1], [2, 0, 5, 3, 1, 1, 1, 1], [2, 0, 5, 3, 1, 1, 1, 1], [2, 0, 5, 3, 1, 1, 1, 1], [2, 0, 5, 3, 1, 1, 1, 1], [2, 0, 5, 3, 1, 1, 1, 1], [2, 456, 5, 3, 1, 1, 1, 1], [2, 7730, 5, 3, 1, 1, 1, 1], [2, 0, 5, 3, 1, 1, 1, 1], [2, 9274, 33, 3, 1, 1, 1, 1], [2, 0, 5, 3, 1, 1, 1, 1], [2, 0, 299, 3, 1, 1, 1, 1], [2, 0, 5, 3, 1, 1, 1, 1], [2, 0, 5, 3, 1, 1, 1, 1], [2, 0, 299, 3, 1, 1, 1, 1], [2, 0, 33, 3, 1, 1, 1, 1], [2, 0, 33, 3, 1, 1, 1, 1], [2, 0, 5, 3, 1, 1, 1, 1], [2, 0, 33, 3, 1, 1, 1, 1], [2, 0, 0, 3, 1, 1, 1, 1], [2, 0, 5, 3, 1, 1, 1, 1], [2, 0, 5, 3, 1, 1, 1, 1], [2, 0, 5, 3, 1, 1, 1, 1], [2, 0, 5, 3, 1, 1, 1, 1], [2, 0, 33, 3, 1, 1, 1, 1], [2, 0, 5, 3, 1, 1, 1, 1], [2, 456, 5, 3, 1, 1, 1, 1], [2, 1090, 5, 3, 1, 1, 1, 1], [2, 0, 5, 3, 1, 1, 1, 1]])\n",
      "([[2, 12993, 299, 3], [2, 312, 33, 3], [2, 13903, 5, 3], [2, 9768, 5, 3], [2, 312, 33, 3], [2, 6055, 5, 3], [2, 312, 33, 3], [2, 1488, 5, 3], [2, 1867, 5, 3], [2, 1867, 5, 3], [2, 1867, 5, 3], [2, 807, 5, 3], [2, 456, 5, 3], [2, 10471, 5, 3], [2, 312, 33, 3], [2, 19889, 5, 3], [2, 0, 5, 3], [2, 0, 33, 3], [2, 668, 33, 3], [2, 8061, 5, 3], [2, 0, 33, 3], [2, 19850, 5, 3], [2, 1933, 5, 3], [2, 312, 33, 3], [2, 8067, 5, 3], [2, 10314, 5, 3], [2, 456, 5, 3], [2, 1867, 299, 3], [2, 0, 5, 3], [2, 0, 5, 3], [2, 456, 5, 3], [2, 689, 33, 3], [2, 689, 5, 3], [2, 12993, 299, 3], [2, 1867, 5, 3], [2, 456, 5, 3], [2, 12993, 299, 3], [2, 372, 5, 3], [2, 17388, 5, 3], [2, 2405, 5, 3], [2, 2405, 5, 3], [2, 13891, 5, 3], [2, 1867, 5, 3], [2, 1867, 5, 3], [2, 7154, 5, 3], [2, 807, 33, 3], [2, 23962, 5, 3], [2, 689, 5, 3], [2, 2405, 5, 3], [2, 689, 5, 3], [2, 2405, 5, 3], [2, 4314, 33, 3], [2, 343, 5, 3], [2, 0, 5, 3], [2, 105, 519, 3], [2, 15250, 5, 3], [2, 0, 519, 3], [2, 312, 33, 3], [2, 312, 33, 3], [2, 14137, 5, 3], [2, 689, 5, 3], [2, 2405, 299, 3], [2, 807, 5, 3], [2, 12979, 5, 3], [2, 2625, 5, 3], [2, 0, 5, 3], [2, 372, 5, 3], [2, 372, 5, 3], [2, 5147, 5, 3], [2, 456, 5, 3], [2, 8437, 5, 3], [2, 12992, 5, 3], [2, 312, 33, 3], [2, 668, 5, 3], [2, 1933, 5, 3], [2, 14045, 5, 3], [2, 14045, 5, 3], [2, 17716, 5, 3], [2, 456, 5, 3], [2, 9773, 5, 3], [2, 0, 5, 3], [2, 10312, 5, 3], [2, 20127, 5, 3], [2, 8395, 5, 3], [2, 668, 5, 3], [2, 0, 5, 3], [2, 4401, 5, 3], [2, 689, 5, 3], [2, 456, 5, 3], [2, 456, 5, 3], [2, 141, 33, 3], [2, 668, 33, 3], [2, 1867, 5, 3], [2, 754, 5, 3], [2, 754, 33, 3], [2, 8855, 5, 3], [2, 456, 5, 3], [2, 3015, 5, 3], [2, 4077, 299, 3], [2, 8855, 5, 3], [2, 4077, 5, 3], [2, 754, 33, 3], [2, 34, 519, 3], [2, 0, 5, 3], [2, 11797, 299, 3], [2, 11797, 299, 3], [2, 11797, 299, 3], [2, 1867, 5, 3], [2, 0, 5, 3], [2, 1867, 5, 3], [2, 754, 33, 3], [2, 689, 33, 3], [2, 0, 5, 3], [2, 7754, 5, 3], [2, 1867, 5, 3], [2, 2979, 33, 3], [2, 754, 5, 3], [2, 456, 5, 3], [2, 754, 33, 3], [2, 15497, 5, 3], [2, 0, 299, 3], [2, 1676, 299, 3], [2, 15754, 5, 3], [2, 456, 5, 3], [2, 0, 5, 3], [2, 161, 299, 3], [2, 215, 33, 3], [2, 2405, 5, 3]], [[2, 12993, 299, 3, 1], [2, 0, 33, 3, 1], [2, 0, 5, 3, 1], [2, 0, 5, 3, 1], [2, 0, 33, 3, 1], [2, 6055, 5, 3, 1], [2, 0, 33, 3, 1], [2, 1488, 5, 3, 1], [2, 0, 5, 3, 1], [2, 0, 5, 3, 1], [2, 0, 5, 3, 1], [2, 0, 5, 3, 1], [2, 0, 5, 3, 1], [2, 0, 5, 3, 1], [2, 0, 33, 3, 1], [2, 19889, 5, 3, 1], [2, 0, 5, 3, 1], [2, 0, 33, 3, 1], [2, 0, 33, 3, 1], [2, 0, 5, 3, 1], [2, 0, 33, 3, 1], [2, 19850, 5, 3, 1], [2, 0, 5, 3, 1], [2, 0, 33, 3, 1], [2, 0, 5, 3, 1], [2, 10314, 5, 3, 1], [2, 0, 5, 3, 1], [2, 0, 299, 3, 1], [2, 0, 5, 3, 1], [2, 0, 5, 3, 1], [2, 0, 5, 3, 1], [2, 0, 33, 3, 1], [2, 689, 5, 3, 1], [2, 12993, 299, 3, 1], [2, 0, 5, 3, 1], [2, 456, 5, 3, 1], [2, 12993, 299, 3, 1], [2, 0, 5, 3, 1], [2, 0, 5, 3, 1], [2, 2405, 5, 3, 1], [2, 2405, 5, 3, 1], [2, 0, 5, 3, 1], [2, 0, 5, 3, 1], [2, 0, 5, 3, 1], [2, 0, 5, 3, 1], [2, 807, 33, 3, 1], [2, 0, 5, 3, 1], [2, 689, 5, 3, 1], [2, 2405, 5, 3, 1], [2, 0, 5, 3, 1], [2, 0, 5, 3, 1], [2, 0, 33, 3, 1], [2, 0, 5, 3, 1], [2, 0, 5, 3, 1], [2, 0, 519, 3, 1], [2, 15250, 5, 3, 1], [2, 0, 519, 3, 1], [2, 0, 33, 3, 1], [2, 0, 33, 3, 1], [2, 14137, 5, 3, 1], [2, 0, 5, 3, 1], [2, 2405, 299, 3, 1], [2, 0, 5, 3, 1], [2, 0, 5, 3, 1], [2, 0, 5, 3, 1], [2, 0, 5, 3, 1], [2, 0, 5, 3, 1], [2, 0, 5, 3, 1], [2, 0, 5, 3, 1], [2, 0, 5, 3, 1], [2, 0, 5, 3, 1], [2, 0, 5, 3, 1], [2, 0, 33, 3, 1], [2, 0, 5, 3, 1], [2, 0, 5, 3, 1], [2, 0, 5, 3, 1], [2, 0, 5, 3, 1], [2, 0, 5, 3, 1], [2, 456, 5, 3, 1], [2, 0, 5, 3, 1], [2, 0, 5, 3, 1], [2, 0, 5, 3, 1], [2, 0, 5, 3, 1], [2, 0, 5, 3, 1], [2, 0, 5, 3, 1], [2, 0, 5, 3, 1], [2, 0, 4401, 3, 1], [2, 0, 5, 3, 1], [2, 0, 0, 5, 3], [2, 0, 0, 4, 3], [2, 0, 0, 33, 3], [2, 0, 0, 33, 3], [2, 0, 0, 5, 3], [2, 0, 0, 5, 3], [2, 0, 0, 33, 3], [2, 0, 0, 5, 3], [2, 0, 0, 5, 3], [2, 0, 0, 5, 3], [2, 0, 0, 299, 3], [2, 0, 0, 5, 3], [2, 0, 0, 5, 3], [2, 0, 0, 33, 3], [2, 0, 32, 32, 3], [2, 0, 0, 5, 3], [2, 0, 11797, 299, 3], [2, 0, 11797, 299, 3], [2, 0, 11797, 299, 3], [2, 0, 0, 5, 3], [2, 0, 0, 5, 3], [2, 0, 0, 0, 3], [2, 0, 0, 33, 3], [2, 0, 0, 33, 3], [2, 14117, 0, 5, 3], [2, 0, 0, 5, 3], [2, 0, 0, 5, 3], [2, 0, 0, 33, 3], [2, 0, 0, 5, 3], [2, 0, 0, 5, 3], [2, 0, 0, 33, 3], [2, 0, 0, 5, 3], [2, 0, 0, 299, 3], [2, 0, 0, 299, 3], [2, 0, 0, 5, 3], [2, 0, 0, 5, 3], [2, 0, 0, 5, 3], [2, 0, 0, 299, 3], [2, 0, 0, 33, 3], [2, 0, 0, 5, 3]])\n"
     ]
    }
   ],
   "source": [
    "for i in range (3): \n",
    "    print(train_data[i]) "
   ]
  },
  {
   "cell_type": "markdown",
   "metadata": {},
   "source": [
    "# **4. Model**"
   ]
  },
  {
   "cell_type": "code",
   "execution_count": 20,
   "metadata": {},
   "outputs": [],
   "source": [
    "import torch.nn.functional as F \n",
    "\n",
    "class RNNEncDec(torch.nn.Module):\n",
    "    def __init__(self, vocab_x:Vocab, vocab_y:Vocab):\n",
    "        super(RNNEncDec, self).__init__()\n",
    "        num_emb_x = len(vocab_x.get_itos())\n",
    "        num_emb_y = len(vocab_y.get_itos())\n",
    "        \n",
    "        self.encemb = torch.nn.Embedding(num_emb_x, 300, padding_idx=vocab_x['<pad>'])\n",
    "        self.encrnn = torch.nn.Linear(300, 300) \n",
    "        self.decemb = torch.nn.Embedding(num_emb_y, 300, padding_idx=vocab_y['<pad>'])\n",
    "        self.decrnn = torch.nn.Linear(300, 300)\n",
    "        self.decout = torch.nn.Linear(300, num_emb_y)\n",
    "  \n",
    "    def forward(self,x):\n",
    "        x, y = x[0], x[1]\n",
    "        print(x.size())\n",
    "        print(y.size())\n",
    "        #enc\n",
    "        e_x = self.encemb(x)\n",
    "        n_x = e_x.size()[0]\n",
    "        h = torch.zeros(300, dtype=torch.float32).to(DEVICE)\n",
    "        for i in range(n_x):\n",
    "            h = F.relu(e_x[i] + self.encrnn(h))\n",
    "        #dec\n",
    "        e_y = self.decemb(y)\n",
    "        n_y = e_y.size()[0]\n",
    "        loss = torch.tensor(0., dtype=torch.float32).to(DEVICE)\n",
    "        for i in range (n_y-1):\n",
    "            h = F.relu(e_y[i] + self.decrnn(h))\n",
    "            loss += F.cross_entropy(self.decout(h), y[i+1])\n",
    "        return loss\n",
    "\n",
    "    def evaluate(self, x,  vocab_x:Vocab, vocab_y:Vocab):\n",
    "        #enc\n",
    "        e_x = self.encemb(x)\n",
    "        n_x=e_x.size()[0]\n",
    "        h = torch.zeros(300, dtype=torch.float32).to(DEVICE)\n",
    "        for i in range (n_x):\n",
    "            h = F.relu(e_x[i] + self.encrnn(h)) \n",
    "        #dec\n",
    "        y = torch.tensor([vocab_x['<cls>']]).to(DEVICE)\n",
    "        e_y= self.decemb(y)\n",
    "        pred = []\n",
    "        for i in range (30):\n",
    "            h = F.relu(e_y + self.decrnn(h))\n",
    "            pred_id = self.decout(h).squeeze().argmax() \n",
    "            if pred_id == vocab_y['<eos>']:\n",
    "                break\n",
    "            pred_y = vocab_y[pred_id][0]\n",
    "            pred.append(pred_y) \n",
    "            y[0] = pred_id\n",
    "            e_y= self.decemb(y)\n",
    "        return pred"
   ]
  },
  {
   "cell_type": "code",
   "execution_count": 21,
   "metadata": {},
   "outputs": [],
   "source": [
    "def train():\n",
    "    model = RNNEncDec(En.vocab, Vi.vocab).to(DEVICE)\n",
    "    optimizer = torch.optim.Adam(model.parameters(), lr=LR) \n",
    "    for epoch in range(EPOCH):\n",
    "        loss = 0\n",
    "        step = 0\n",
    "        for ben, bvi in train_data:\n",
    "            ben = torch.tensor(ben, dtype=torch.int64).transpose(0,1).to(DEVICE) \n",
    "            bvi = torch.tensor(bvi, dtype=torch.int64).transpose(0,1).to(DEVICE)\n",
    "            optimizer.zero_grad()\n",
    "            batchloss = model((ben, bvi))\n",
    "            batchloss.backward()\n",
    "            optimizer.step() \n",
    "            loss = loss + batchloss.item()\n",
    "            if step % 100 == 0:\n",
    "                print(\"step:\", step, \"batch loss:\", batchloss.item())\n",
    "            step += 1\n",
    "        print(\"epoch\", epoch, \": loss\", loss)\n",
    "    torch.save(model.state_dict(), MODELNAME)"
   ]
  },
  {
   "cell_type": "code",
   "execution_count": 22,
   "metadata": {},
   "outputs": [
    {
     "name": "stdout",
     "output_type": "stream",
     "text": [
      "torch.Size([2, 128])\n",
      "torch.Size([3, 128])\n",
      "step: 0 batch loss: 20.36084747314453\n",
      "torch.Size([4, 128])\n",
      "torch.Size([8, 128])\n",
      "torch.Size([4, 128])\n",
      "torch.Size([5, 128])\n"
     ]
    },
    {
     "ename": "IndexError",
     "evalue": "index out of range in self",
     "output_type": "error",
     "traceback": [
      "\u001b[1;31m---------------------------------------------------------------------------\u001b[0m",
      "\u001b[1;31mIndexError\u001b[0m                                Traceback (most recent call last)",
      "\u001b[1;32md:\\19521204\\Jupyter\\NLP\\Machine Translator.ipynb Cell 26'\u001b[0m in \u001b[0;36m<cell line: 1>\u001b[1;34m()\u001b[0m\n\u001b[1;32m----> <a href='vscode-notebook-cell:/d%3A/19521204/Jupyter/NLP/Machine%20Translator.ipynb#ch0000027?line=0'>1</a>\u001b[0m train()\n",
      "\u001b[1;32md:\\19521204\\Jupyter\\NLP\\Machine Translator.ipynb Cell 25'\u001b[0m in \u001b[0;36mtrain\u001b[1;34m()\u001b[0m\n\u001b[0;32m      <a href='vscode-notebook-cell:/d%3A/19521204/Jupyter/NLP/Machine%20Translator.ipynb#ch0000026?line=8'>9</a>\u001b[0m bvi \u001b[39m=\u001b[39m torch\u001b[39m.\u001b[39mtensor(bvi, dtype\u001b[39m=\u001b[39mtorch\u001b[39m.\u001b[39mint64)\u001b[39m.\u001b[39mtranspose(\u001b[39m0\u001b[39m,\u001b[39m1\u001b[39m)\u001b[39m.\u001b[39mto(DEVICE)\n\u001b[0;32m     <a href='vscode-notebook-cell:/d%3A/19521204/Jupyter/NLP/Machine%20Translator.ipynb#ch0000026?line=9'>10</a>\u001b[0m optimizer\u001b[39m.\u001b[39mzero_grad()\n\u001b[1;32m---> <a href='vscode-notebook-cell:/d%3A/19521204/Jupyter/NLP/Machine%20Translator.ipynb#ch0000026?line=10'>11</a>\u001b[0m batchloss \u001b[39m=\u001b[39m model((ben, bvi))\n\u001b[0;32m     <a href='vscode-notebook-cell:/d%3A/19521204/Jupyter/NLP/Machine%20Translator.ipynb#ch0000026?line=11'>12</a>\u001b[0m batchloss\u001b[39m.\u001b[39mbackward()\n\u001b[0;32m     <a href='vscode-notebook-cell:/d%3A/19521204/Jupyter/NLP/Machine%20Translator.ipynb#ch0000026?line=12'>13</a>\u001b[0m optimizer\u001b[39m.\u001b[39mstep() \n",
      "File \u001b[1;32mc:\\Users\\DELL\\anaconda3\\lib\\site-packages\\torch\\nn\\modules\\module.py:1110\u001b[0m, in \u001b[0;36mModule._call_impl\u001b[1;34m(self, *input, **kwargs)\u001b[0m\n\u001b[0;32m   1106\u001b[0m \u001b[39m# If we don't have any hooks, we want to skip the rest of the logic in\u001b[39;00m\n\u001b[0;32m   1107\u001b[0m \u001b[39m# this function, and just call forward.\u001b[39;00m\n\u001b[0;32m   1108\u001b[0m \u001b[39mif\u001b[39;00m \u001b[39mnot\u001b[39;00m (\u001b[39mself\u001b[39m\u001b[39m.\u001b[39m_backward_hooks \u001b[39mor\u001b[39;00m \u001b[39mself\u001b[39m\u001b[39m.\u001b[39m_forward_hooks \u001b[39mor\u001b[39;00m \u001b[39mself\u001b[39m\u001b[39m.\u001b[39m_forward_pre_hooks \u001b[39mor\u001b[39;00m _global_backward_hooks\n\u001b[0;32m   1109\u001b[0m         \u001b[39mor\u001b[39;00m _global_forward_hooks \u001b[39mor\u001b[39;00m _global_forward_pre_hooks):\n\u001b[1;32m-> 1110\u001b[0m     \u001b[39mreturn\u001b[39;00m forward_call(\u001b[39m*\u001b[39m\u001b[39minput\u001b[39m, \u001b[39m*\u001b[39m\u001b[39m*\u001b[39mkwargs)\n\u001b[0;32m   1111\u001b[0m \u001b[39m# Do not call functions when jit is used\u001b[39;00m\n\u001b[0;32m   1112\u001b[0m full_backward_hooks, non_full_backward_hooks \u001b[39m=\u001b[39m [], []\n",
      "\u001b[1;32md:\\19521204\\Jupyter\\NLP\\Machine Translator.ipynb Cell 24'\u001b[0m in \u001b[0;36mRNNEncDec.forward\u001b[1;34m(self, x)\u001b[0m\n\u001b[0;32m     <a href='vscode-notebook-cell:/d%3A/19521204/Jupyter/NLP/Machine%20Translator.ipynb#ch0000025?line=23'>24</a>\u001b[0m     h \u001b[39m=\u001b[39m F\u001b[39m.\u001b[39mrelu(e_x[i] \u001b[39m+\u001b[39m \u001b[39mself\u001b[39m\u001b[39m.\u001b[39mencrnn(h))\n\u001b[0;32m     <a href='vscode-notebook-cell:/d%3A/19521204/Jupyter/NLP/Machine%20Translator.ipynb#ch0000025?line=24'>25</a>\u001b[0m \u001b[39m#dec\u001b[39;00m\n\u001b[1;32m---> <a href='vscode-notebook-cell:/d%3A/19521204/Jupyter/NLP/Machine%20Translator.ipynb#ch0000025?line=25'>26</a>\u001b[0m e_y \u001b[39m=\u001b[39m \u001b[39mself\u001b[39;49m\u001b[39m.\u001b[39;49mdecemb(y)\n\u001b[0;32m     <a href='vscode-notebook-cell:/d%3A/19521204/Jupyter/NLP/Machine%20Translator.ipynb#ch0000025?line=26'>27</a>\u001b[0m n_y \u001b[39m=\u001b[39m e_y\u001b[39m.\u001b[39msize()[\u001b[39m0\u001b[39m]\n\u001b[0;32m     <a href='vscode-notebook-cell:/d%3A/19521204/Jupyter/NLP/Machine%20Translator.ipynb#ch0000025?line=27'>28</a>\u001b[0m loss \u001b[39m=\u001b[39m torch\u001b[39m.\u001b[39mtensor(\u001b[39m0.\u001b[39m, dtype\u001b[39m=\u001b[39mtorch\u001b[39m.\u001b[39mfloat32)\u001b[39m.\u001b[39mto(DEVICE)\n",
      "File \u001b[1;32mc:\\Users\\DELL\\anaconda3\\lib\\site-packages\\torch\\nn\\modules\\module.py:1110\u001b[0m, in \u001b[0;36mModule._call_impl\u001b[1;34m(self, *input, **kwargs)\u001b[0m\n\u001b[0;32m   1106\u001b[0m \u001b[39m# If we don't have any hooks, we want to skip the rest of the logic in\u001b[39;00m\n\u001b[0;32m   1107\u001b[0m \u001b[39m# this function, and just call forward.\u001b[39;00m\n\u001b[0;32m   1108\u001b[0m \u001b[39mif\u001b[39;00m \u001b[39mnot\u001b[39;00m (\u001b[39mself\u001b[39m\u001b[39m.\u001b[39m_backward_hooks \u001b[39mor\u001b[39;00m \u001b[39mself\u001b[39m\u001b[39m.\u001b[39m_forward_hooks \u001b[39mor\u001b[39;00m \u001b[39mself\u001b[39m\u001b[39m.\u001b[39m_forward_pre_hooks \u001b[39mor\u001b[39;00m _global_backward_hooks\n\u001b[0;32m   1109\u001b[0m         \u001b[39mor\u001b[39;00m _global_forward_hooks \u001b[39mor\u001b[39;00m _global_forward_pre_hooks):\n\u001b[1;32m-> 1110\u001b[0m     \u001b[39mreturn\u001b[39;00m forward_call(\u001b[39m*\u001b[39m\u001b[39minput\u001b[39m, \u001b[39m*\u001b[39m\u001b[39m*\u001b[39mkwargs)\n\u001b[0;32m   1111\u001b[0m \u001b[39m# Do not call functions when jit is used\u001b[39;00m\n\u001b[0;32m   1112\u001b[0m full_backward_hooks, non_full_backward_hooks \u001b[39m=\u001b[39m [], []\n",
      "File \u001b[1;32mc:\\Users\\DELL\\anaconda3\\lib\\site-packages\\torch\\nn\\modules\\sparse.py:158\u001b[0m, in \u001b[0;36mEmbedding.forward\u001b[1;34m(self, input)\u001b[0m\n\u001b[0;32m    157\u001b[0m \u001b[39mdef\u001b[39;00m \u001b[39mforward\u001b[39m(\u001b[39mself\u001b[39m, \u001b[39minput\u001b[39m: Tensor) \u001b[39m-\u001b[39m\u001b[39m>\u001b[39m Tensor:\n\u001b[1;32m--> 158\u001b[0m     \u001b[39mreturn\u001b[39;00m F\u001b[39m.\u001b[39;49membedding(\n\u001b[0;32m    159\u001b[0m         \u001b[39minput\u001b[39;49m, \u001b[39mself\u001b[39;49m\u001b[39m.\u001b[39;49mweight, \u001b[39mself\u001b[39;49m\u001b[39m.\u001b[39;49mpadding_idx, \u001b[39mself\u001b[39;49m\u001b[39m.\u001b[39;49mmax_norm,\n\u001b[0;32m    160\u001b[0m         \u001b[39mself\u001b[39;49m\u001b[39m.\u001b[39;49mnorm_type, \u001b[39mself\u001b[39;49m\u001b[39m.\u001b[39;49mscale_grad_by_freq, \u001b[39mself\u001b[39;49m\u001b[39m.\u001b[39;49msparse)\n",
      "File \u001b[1;32mc:\\Users\\DELL\\anaconda3\\lib\\site-packages\\torch\\nn\\functional.py:2183\u001b[0m, in \u001b[0;36membedding\u001b[1;34m(input, weight, padding_idx, max_norm, norm_type, scale_grad_by_freq, sparse)\u001b[0m\n\u001b[0;32m   2177\u001b[0m     \u001b[39m# Note [embedding_renorm set_grad_enabled]\u001b[39;00m\n\u001b[0;32m   2178\u001b[0m     \u001b[39m# XXX: equivalent to\u001b[39;00m\n\u001b[0;32m   2179\u001b[0m     \u001b[39m# with torch.no_grad():\u001b[39;00m\n\u001b[0;32m   2180\u001b[0m     \u001b[39m#   torch.embedding_renorm_\u001b[39;00m\n\u001b[0;32m   2181\u001b[0m     \u001b[39m# remove once script supports set_grad_enabled\u001b[39;00m\n\u001b[0;32m   2182\u001b[0m     _no_grad_embedding_renorm_(weight, \u001b[39minput\u001b[39m, max_norm, norm_type)\n\u001b[1;32m-> 2183\u001b[0m \u001b[39mreturn\u001b[39;00m torch\u001b[39m.\u001b[39;49membedding(weight, \u001b[39minput\u001b[39;49m, padding_idx, scale_grad_by_freq, sparse)\n",
      "\u001b[1;31mIndexError\u001b[0m: index out of range in self"
     ]
    }
   ],
   "source": [
    "train()\n"
   ]
  }
 ],
 "metadata": {
  "kernelspec": {
   "display_name": "Python 3.9.12 ('base')",
   "language": "python",
   "name": "python3"
  },
  "language_info": {
   "codemirror_mode": {
    "name": "ipython",
    "version": 3
   },
   "file_extension": ".py",
   "mimetype": "text/x-python",
   "name": "python",
   "nbconvert_exporter": "python",
   "pygments_lexer": "ipython3",
   "version": "3.9.12"
  },
  "orig_nbformat": 4,
  "vscode": {
   "interpreter": {
    "hash": "5ae58900cfbb8c43ab3495913814b7cf26024f51651a94ce8bf64d6111688e8d"
   }
  }
 },
 "nbformat": 4,
 "nbformat_minor": 2
}
